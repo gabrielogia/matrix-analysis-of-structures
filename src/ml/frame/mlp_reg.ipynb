{
 "cells": [
  {
   "cell_type": "code",
   "execution_count": 1,
   "id": "74f78aa7-15d8-4c44-8e24-810219393815",
   "metadata": {},
   "outputs": [],
   "source": [
    "import pandas as pd\n",
    "import tensorflow as tf\n",
    "import numpy as np\n",
    "import matplotlib.pyplot as plt\n",
    "import os\n",
    "\n",
    "from tensorflow import keras\n",
    "from sklearn.model_selection import train_test_split\n",
    "from sklearn.metrics import mean_absolute_percentage_error, r2_score\n",
    "from sklearn.preprocessing import StandardScaler, OneHotEncoder"
   ]
  },
  {
   "cell_type": "markdown",
   "id": "994720bf-b54a-4fb0-ae3c-eea3a5b39e24",
   "metadata": {},
   "source": [
    "<h1>Linear Damage</h1>"
   ]
  },
  {
   "cell_type": "code",
   "execution_count": 2,
   "id": "76d4a403-460f-41ed-85f5-1942215d93bb",
   "metadata": {},
   "outputs": [],
   "source": [
    "df = pd.read_csv('input/results_complete_linear.csv')"
   ]
  },
  {
   "cell_type": "code",
   "execution_count": 3,
   "id": "d0935dd9-210a-474b-9a82-aa077ca287b8",
   "metadata": {},
   "outputs": [],
   "source": [
    "X_train, X_test, y_train, y_test = train_test_split(df.drop(['damage'], axis=1), df['damage'], test_size=0.10, random_state=41)"
   ]
  },
  {
   "cell_type": "code",
   "execution_count": 4,
   "id": "1af628b4-0f5f-4722-bd9a-86c4e372bf62",
   "metadata": {},
   "outputs": [],
   "source": [
    "scaler = StandardScaler()\n",
    "hot_encoder = OneHotEncoder(sparse=False)\n",
    "X_train = scaler.fit_transform(X_train)\n",
    "X_test = scaler.transform(X_test)"
   ]
  },
  {
   "cell_type": "code",
   "execution_count": 6,
   "id": "fab4ae95-f2fc-436c-acac-8ff44a1e1bc5",
   "metadata": {
    "scrolled": true,
    "tags": []
   },
   "outputs": [
    {
     "name": "stdout",
     "output_type": "stream",
     "text": [
      "Model: \"sequential_1\"\n",
      "_________________________________________________________________\n",
      " Layer (type)                Output Shape              Param #   \n",
      "=================================================================\n",
      " dense_4 (Dense)             (None, 20)                13140     \n",
      "                                                                 \n",
      " dense_5 (Dense)             (None, 20)                420       \n",
      "                                                                 \n",
      " dense_6 (Dense)             (None, 20)                420       \n",
      "                                                                 \n",
      " dense_7 (Dense)             (None, 1)                 21        \n",
      "                                                                 \n",
      "=================================================================\n",
      "Total params: 14,001\n",
      "Trainable params: 14,001\n",
      "Non-trainable params: 0\n",
      "_________________________________________________________________\n",
      "Epoch 1/100\n",
      "1266/1266 [==============================] - 2s 1ms/step - loss: 0.1221 - val_loss: 0.0378\n",
      "Epoch 2/100\n",
      "1266/1266 [==============================] - 1s 1ms/step - loss: 0.0268 - val_loss: 0.0228\n",
      "Epoch 3/100\n",
      "1266/1266 [==============================] - 1s 1ms/step - loss: 0.0160 - val_loss: 0.0129\n",
      "Epoch 4/100\n",
      "1266/1266 [==============================] - 1s 1ms/step - loss: 0.0118 - val_loss: 0.0103\n",
      "Epoch 5/100\n",
      "1266/1266 [==============================] - 1s 1ms/step - loss: 0.0096 - val_loss: 0.0076\n",
      "Epoch 6/100\n",
      "1266/1266 [==============================] - 1s 1ms/step - loss: 0.0080 - val_loss: 0.0075\n",
      "Epoch 7/100\n",
      "1266/1266 [==============================] - 1s 1ms/step - loss: 0.0069 - val_loss: 0.0065\n",
      "Epoch 8/100\n",
      "1266/1266 [==============================] - 1s 1ms/step - loss: 0.0058 - val_loss: 0.0087\n",
      "Epoch 9/100\n",
      "1266/1266 [==============================] - 1s 1ms/step - loss: 0.0053 - val_loss: 0.0050\n",
      "Epoch 10/100\n",
      "1266/1266 [==============================] - 2s 1ms/step - loss: 0.0044 - val_loss: 0.0091\n",
      "Epoch 11/100\n",
      "1266/1266 [==============================] - 1s 1ms/step - loss: 0.0039 - val_loss: 0.0047\n",
      "Epoch 12/100\n",
      "1266/1266 [==============================] - 2s 1ms/step - loss: 0.0037 - val_loss: 0.0032\n",
      "Epoch 13/100\n",
      "1266/1266 [==============================] - 1s 1ms/step - loss: 0.0032 - val_loss: 0.0029\n",
      "Epoch 14/100\n",
      "1266/1266 [==============================] - 1s 1ms/step - loss: 0.0035 - val_loss: 0.0045\n",
      "Epoch 15/100\n",
      "1266/1266 [==============================] - 1s 1ms/step - loss: 0.0025 - val_loss: 0.0026\n",
      "Epoch 16/100\n",
      "1266/1266 [==============================] - 1s 1ms/step - loss: 0.0024 - val_loss: 0.0023\n",
      "Epoch 17/100\n",
      "1266/1266 [==============================] - 1s 1ms/step - loss: 0.0023 - val_loss: 0.0025\n",
      "Epoch 18/100\n",
      "1266/1266 [==============================] - 1s 1ms/step - loss: 0.0022 - val_loss: 0.0021\n",
      "Epoch 19/100\n",
      "1266/1266 [==============================] - 1s 1ms/step - loss: 0.0021 - val_loss: 0.0021\n",
      "Epoch 20/100\n",
      "1266/1266 [==============================] - 1s 1ms/step - loss: 0.0019 - val_loss: 0.0020\n",
      "Epoch 21/100\n",
      "1266/1266 [==============================] - 1s 1ms/step - loss: 0.0019 - val_loss: 0.0159\n",
      "Epoch 22/100\n",
      "1266/1266 [==============================] - 1s 1ms/step - loss: 0.0023 - val_loss: 0.0027\n",
      "Epoch 23/100\n",
      "1266/1266 [==============================] - 1s 1ms/step - loss: 0.0014 - val_loss: 0.0014\n",
      "Epoch 24/100\n",
      "1266/1266 [==============================] - 1s 1ms/step - loss: 0.0015 - val_loss: 0.0023\n",
      "Epoch 25/100\n",
      "1266/1266 [==============================] - 1s 1ms/step - loss: 0.0015 - val_loss: 0.0012\n",
      "Epoch 26/100\n",
      "1266/1266 [==============================] - 1s 1ms/step - loss: 0.0014 - val_loss: 0.0018\n",
      "Epoch 27/100\n",
      "1266/1266 [==============================] - 1s 1ms/step - loss: 0.0014 - val_loss: 0.0015\n",
      "Epoch 28/100\n",
      "1266/1266 [==============================] - 1s 1ms/step - loss: 0.0015 - val_loss: 0.0020\n",
      "Epoch 29/100\n",
      "1266/1266 [==============================] - 1s 1ms/step - loss: 0.0012 - val_loss: 8.3156e-04\n",
      "Epoch 30/100\n",
      "1266/1266 [==============================] - 1s 1ms/step - loss: 0.0011 - val_loss: 0.0013\n",
      "Epoch 31/100\n",
      "1266/1266 [==============================] - 1s 1ms/step - loss: 0.0014 - val_loss: 0.0026\n",
      "Epoch 32/100\n",
      "1266/1266 [==============================] - 1s 1ms/step - loss: 0.0010 - val_loss: 0.0011\n",
      "Epoch 33/100\n",
      "1266/1266 [==============================] - 1s 1ms/step - loss: 0.0012 - val_loss: 9.7105e-04\n",
      "Epoch 34/100\n",
      "1266/1266 [==============================] - 1s 1ms/step - loss: 0.0011 - val_loss: 9.9814e-04\n",
      "Epoch 35/100\n",
      "1266/1266 [==============================] - 1s 1ms/step - loss: 0.0010 - val_loss: 9.0568e-04\n",
      "Epoch 36/100\n",
      "1266/1266 [==============================] - 1s 1ms/step - loss: 0.0011 - val_loss: 0.0012\n",
      "Epoch 37/100\n",
      "1266/1266 [==============================] - 1s 1ms/step - loss: 9.1523e-04 - val_loss: 9.2105e-04\n",
      "Epoch 38/100\n",
      "1266/1266 [==============================] - 1s 1ms/step - loss: 0.0011 - val_loss: 0.0013\n",
      "Epoch 39/100\n",
      "1266/1266 [==============================] - 1s 1ms/step - loss: 8.7089e-04 - val_loss: 0.0021\n",
      "Epoch 40/100\n",
      "1266/1266 [==============================] - 1s 1ms/step - loss: 0.0010 - val_loss: 0.0011\n",
      "Epoch 41/100\n",
      "1266/1266 [==============================] - 1s 1ms/step - loss: 8.2864e-04 - val_loss: 8.4959e-04\n",
      "Epoch 42/100\n",
      "1266/1266 [==============================] - 1s 1ms/step - loss: 7.1983e-04 - val_loss: 6.0410e-04\n",
      "Epoch 43/100\n",
      "1266/1266 [==============================] - 1s 1ms/step - loss: 8.3616e-04 - val_loss: 9.4403e-04\n",
      "Epoch 44/100\n",
      "1266/1266 [==============================] - 1s 1ms/step - loss: 0.0013 - val_loss: 0.0022\n",
      "Epoch 45/100\n",
      "1266/1266 [==============================] - 1s 1ms/step - loss: 7.2601e-04 - val_loss: 5.9314e-04\n",
      "Epoch 46/100\n",
      "1266/1266 [==============================] - 1s 1ms/step - loss: 8.3571e-04 - val_loss: 5.6645e-04\n",
      "Epoch 47/100\n",
      "1266/1266 [==============================] - 1s 1ms/step - loss: 8.7390e-04 - val_loss: 5.5558e-04\n",
      "Epoch 48/100\n",
      "1266/1266 [==============================] - 1s 1ms/step - loss: 7.3248e-04 - val_loss: 7.2012e-04\n",
      "Epoch 49/100\n",
      "1266/1266 [==============================] - 1s 1ms/step - loss: 7.2554e-04 - val_loss: 0.0012\n",
      "Epoch 50/100\n",
      "1266/1266 [==============================] - 1s 1ms/step - loss: 7.2620e-04 - val_loss: 5.0490e-04\n",
      "Epoch 51/100\n",
      "1266/1266 [==============================] - 1s 1ms/step - loss: 6.3434e-04 - val_loss: 4.4496e-04\n",
      "Epoch 52/100\n",
      "1266/1266 [==============================] - 1s 1ms/step - loss: 7.1461e-04 - val_loss: 5.2530e-04\n",
      "Epoch 53/100\n",
      "1266/1266 [==============================] - 1s 1ms/step - loss: 6.8124e-04 - val_loss: 5.1142e-04\n",
      "Epoch 54/100\n",
      "1266/1266 [==============================] - 1s 1ms/step - loss: 6.5416e-04 - val_loss: 4.4928e-04\n",
      "Epoch 55/100\n",
      "1266/1266 [==============================] - 1s 1ms/step - loss: 7.4367e-04 - val_loss: 7.0084e-04\n",
      "Epoch 56/100\n",
      "1266/1266 [==============================] - 1s 1ms/step - loss: 5.6887e-04 - val_loss: 5.4716e-04\n",
      "Epoch 57/100\n",
      "1266/1266 [==============================] - 1s 1ms/step - loss: 6.1647e-04 - val_loss: 4.3014e-04\n",
      "Epoch 58/100\n",
      "1266/1266 [==============================] - 1s 1ms/step - loss: 5.5114e-04 - val_loss: 6.7561e-04\n",
      "Epoch 59/100\n",
      "1266/1266 [==============================] - 1s 1ms/step - loss: 7.4773e-04 - val_loss: 0.0028\n",
      "Epoch 60/100\n",
      "1266/1266 [==============================] - 1s 1ms/step - loss: 5.3707e-04 - val_loss: 3.6597e-04\n",
      "Epoch 61/100\n",
      "1266/1266 [==============================] - 1s 1ms/step - loss: 6.5910e-04 - val_loss: 8.2016e-04\n",
      "Epoch 62/100\n",
      "1266/1266 [==============================] - 1s 1ms/step - loss: 5.3359e-04 - val_loss: 8.3520e-04\n",
      "Epoch 63/100\n",
      "1266/1266 [==============================] - 1s 1ms/step - loss: 6.4539e-04 - val_loss: 7.6818e-04\n",
      "Epoch 64/100\n",
      "1266/1266 [==============================] - 1s 1ms/step - loss: 5.5146e-04 - val_loss: 4.9270e-04\n",
      "Epoch 65/100\n",
      "1266/1266 [==============================] - 1s 1ms/step - loss: 5.3603e-04 - val_loss: 5.8666e-04\n",
      "Epoch 66/100\n",
      "1266/1266 [==============================] - 1s 1ms/step - loss: 5.4347e-04 - val_loss: 6.4396e-04\n",
      "Epoch 67/100\n",
      "1266/1266 [==============================] - 1s 1ms/step - loss: 6.0084e-04 - val_loss: 4.2748e-04\n",
      "Epoch 68/100\n",
      "1266/1266 [==============================] - 1s 1ms/step - loss: 5.4790e-04 - val_loss: 3.0854e-04\n",
      "Epoch 69/100\n",
      "1266/1266 [==============================] - 1s 1ms/step - loss: 5.8104e-04 - val_loss: 0.0017\n",
      "Epoch 70/100\n",
      "1266/1266 [==============================] - 1s 1ms/step - loss: 4.6780e-04 - val_loss: 3.6451e-04\n",
      "Epoch 71/100\n",
      "1266/1266 [==============================] - 1s 1ms/step - loss: 4.8119e-04 - val_loss: 3.7201e-04\n",
      "Epoch 72/100\n",
      "1266/1266 [==============================] - 1s 1ms/step - loss: 4.8597e-04 - val_loss: 9.0633e-04\n",
      "Epoch 73/100\n",
      "1266/1266 [==============================] - 1s 1ms/step - loss: 5.1191e-04 - val_loss: 4.8245e-04\n",
      "Epoch 74/100\n",
      "1266/1266 [==============================] - 1s 1ms/step - loss: 5.7208e-04 - val_loss: 6.3563e-04\n",
      "Epoch 75/100\n",
      "1266/1266 [==============================] - 1s 1ms/step - loss: 4.5027e-04 - val_loss: 6.6742e-04\n",
      "Epoch 76/100\n",
      "1266/1266 [==============================] - 1s 1ms/step - loss: 4.9266e-04 - val_loss: 4.5264e-04\n",
      "Epoch 77/100\n",
      "1266/1266 [==============================] - 1s 1ms/step - loss: 5.0136e-04 - val_loss: 2.9258e-04\n",
      "Epoch 78/100\n",
      "1266/1266 [==============================] - 1s 1ms/step - loss: 4.3948e-04 - val_loss: 3.4881e-04\n",
      "Epoch 79/100\n",
      "1266/1266 [==============================] - 1s 1ms/step - loss: 4.4697e-04 - val_loss: 4.0728e-04\n",
      "Epoch 80/100\n",
      "1266/1266 [==============================] - 1s 1ms/step - loss: 4.2717e-04 - val_loss: 3.4537e-04\n",
      "Epoch 81/100\n",
      "1266/1266 [==============================] - 1s 1ms/step - loss: 4.1508e-04 - val_loss: 3.1018e-04\n",
      "Epoch 82/100\n",
      "1266/1266 [==============================] - 1s 1ms/step - loss: 5.4665e-04 - val_loss: 3.6660e-04\n",
      "Epoch 83/100\n",
      "1266/1266 [==============================] - 1s 1ms/step - loss: 5.0037e-04 - val_loss: 2.7367e-04\n",
      "Epoch 84/100\n",
      "1266/1266 [==============================] - 1s 1ms/step - loss: 3.2836e-04 - val_loss: 3.3104e-04\n",
      "Epoch 85/100\n",
      "1266/1266 [==============================] - 1s 1ms/step - loss: 4.2733e-04 - val_loss: 3.5761e-04\n",
      "Epoch 86/100\n",
      "1266/1266 [==============================] - 2s 1ms/step - loss: 3.9214e-04 - val_loss: 3.6243e-04\n",
      "Epoch 87/100\n",
      "1266/1266 [==============================] - 1s 1ms/step - loss: 3.8926e-04 - val_loss: 0.0013\n",
      "Epoch 88/100\n",
      "1266/1266 [==============================] - 1s 1ms/step - loss: 5.2769e-04 - val_loss: 3.1872e-04\n",
      "Epoch 89/100\n",
      "1266/1266 [==============================] - 1s 1ms/step - loss: 3.5585e-04 - val_loss: 3.9641e-04\n",
      "Epoch 90/100\n",
      "1266/1266 [==============================] - 1s 1ms/step - loss: 3.7062e-04 - val_loss: 3.5997e-04\n",
      "Epoch 91/100\n",
      "1266/1266 [==============================] - 1s 1ms/step - loss: 3.9068e-04 - val_loss: 2.7869e-04\n",
      "Epoch 92/100\n",
      "1266/1266 [==============================] - 1s 1ms/step - loss: 4.1353e-04 - val_loss: 4.5604e-04\n",
      "Epoch 93/100\n",
      "1266/1266 [==============================] - 2s 1ms/step - loss: 3.9722e-04 - val_loss: 4.1129e-04\n",
      "Epoch 94/100\n",
      "1266/1266 [==============================] - 1s 1ms/step - loss: 3.3868e-04 - val_loss: 2.8021e-04\n",
      "Epoch 95/100\n",
      "1266/1266 [==============================] - 1s 1ms/step - loss: 4.7580e-04 - val_loss: 0.0011\n",
      "Epoch 96/100\n",
      "1266/1266 [==============================] - 2s 1ms/step - loss: 3.6352e-04 - val_loss: 3.9992e-04\n",
      "Epoch 97/100\n",
      "1266/1266 [==============================] - 2s 1ms/step - loss: 3.2658e-04 - val_loss: 6.7285e-04\n",
      "Epoch 98/100\n",
      "1266/1266 [==============================] - 2s 1ms/step - loss: 5.8114e-04 - val_loss: 2.4625e-04\n",
      "Epoch 99/100\n",
      "1266/1266 [==============================] - 2s 1ms/step - loss: 2.7348e-04 - val_loss: 3.3692e-04\n",
      "Epoch 100/100\n",
      "1266/1266 [==============================] - 2s 1ms/step - loss: 3.7797e-04 - val_loss: 4.8563e-04\n"
     ]
    },
    {
     "name": "stderr",
     "output_type": "stream",
     "text": [
      "WARNING:absl:Found untraced functions such as leaky_re_lu_4_layer_call_fn, leaky_re_lu_4_layer_call_and_return_conditional_losses, leaky_re_lu_5_layer_call_fn, leaky_re_lu_5_layer_call_and_return_conditional_losses, leaky_re_lu_6_layer_call_fn while saving (showing 5 of 8). These functions will not be directly callable after loading.\n"
     ]
    },
    {
     "name": "stdout",
     "output_type": "stream",
     "text": [
      "INFO:tensorflow:Assets written to: models/linear_reg\\assets\n"
     ]
    },
    {
     "name": "stderr",
     "output_type": "stream",
     "text": [
      "INFO:tensorflow:Assets written to: models/linear_reg\\assets\n"
     ]
    },
    {
     "name": "stdout",
     "output_type": "stream",
     "text": [
      "CPU times: total: 46.3 s\n",
      "Wall time: 2min 27s\n"
     ]
    }
   ],
   "source": [
    "%%time\n",
    "path = 'models/linear_reg'\n",
    "if (os.path.exists(path)):\n",
    "    model = keras.models.load_model(path)\n",
    "else:\n",
    "    model = keras.Sequential()\n",
    "    model.add(keras.Input(shape=(656)))\n",
    "    model.add(keras.layers.Dense(20, activation=tf.keras.layers.LeakyReLU(alpha=0.5), kernel_initializer=tf.keras.initializers.HeNormal())) #80\n",
    "    model.add(keras.layers.Dense(20, activation=tf.keras.layers.LeakyReLU(alpha=0.5), kernel_initializer=tf.keras.initializers.HeNormal()))\n",
    "    model.add(keras.layers.Dense(20, activation=tf.keras.layers.LeakyReLU(alpha=0.5), kernel_initializer=tf.keras.initializers.HeNormal()))\n",
    "    model.add(keras.layers.Dense(1, activation=tf.keras.layers.LeakyReLU(alpha=0.5), kernel_initializer=tf.keras.initializers.HeNormal()))\n",
    "    model.summary()\n",
    "    model.compile(loss='mse', optimizer=tf.keras.optimizers.Adam(learning_rate=0.0001))\n",
    "    history = model.fit(X_train, y_train, epochs=100, validation_data=(X_test, y_test)) #1000 epocas\n",
    "    model.save(path)"
   ]
  },
  {
   "cell_type": "code",
   "execution_count": 7,
   "id": "dcc22eee-de64-48ec-b682-1492c000064c",
   "metadata": {},
   "outputs": [],
   "source": [
    "pd.DataFrame(history.history).to_csv('output/history_mlp_linear.csv')"
   ]
  },
  {
   "cell_type": "code",
   "execution_count": 8,
   "id": "e9be2663-ca79-46a7-bbbb-460f09cce5e6",
   "metadata": {},
   "outputs": [
    {
     "data": {
      "image/png": "[encoded data removed]",
      "text/plain": [
       "<Figure size 640x480 with 1 Axes>"
      ]
     },
     "metadata": {},
     "output_type": "display_data"
    }
   ],
   "source": [
    "plt.plot(history.history['loss'])\n",
    "plt.plot(history.history['val_loss'])\n",
    "plt.show()"
   ]
  },
  {
   "cell_type": "markdown",
   "id": "5de61fe2-ea4d-4cc4-aa32-abed3ad331a6",
   "metadata": {},
   "source": [
    "<h3>MAPE</h3>"
   ]
  },
  {
   "cell_type": "code",
   "execution_count": 9,
   "id": "091fb9e5-5ea4-48ad-8868-5b2420ad7b9f",
   "metadata": {
    "tags": []
   },
   "outputs": [
    {
     "name": "stdout",
     "output_type": "stream",
     "text": [
      "141/141 [==============================] - 0s 845us/step\n"
     ]
    }
   ],
   "source": [
    "pred = model.predict(X_test)"
   ]
  },
  {
   "cell_type": "code",
   "execution_count": 10,
   "id": "24ae082e-e49c-479a-a261-573804dd0d65",
   "metadata": {
    "tags": []
   },
   "outputs": [
    {
     "data": {
      "text/plain": [
       "0.09750316539895215"
      ]
     },
     "execution_count": 10,
     "metadata": {},
     "output_type": "execute_result"
    }
   ],
   "source": [
    "mean_absolute_percentage_error(y_test, pred)"
   ]
  },
  {
   "cell_type": "markdown",
   "id": "45de0341-ec00-486c-bc78-ac5db0626821",
   "metadata": {
    "tags": []
   },
   "source": [
    "<h3>R2</h3>"
   ]
  },
  {
   "cell_type": "code",
   "execution_count": 11,
   "id": "55457d7e-1c5f-4649-8ba4-cff5496ca030",
   "metadata": {
    "tags": []
   },
   "outputs": [
    {
     "data": {
      "text/plain": [
       "0.9939884847666519"
      ]
     },
     "execution_count": 11,
     "metadata": {},
     "output_type": "execute_result"
    }
   ],
   "source": [
    "r2_score(y_test, pred)"
   ]
  },
  {
   "cell_type": "markdown",
   "id": "059c9f29-e70c-4ef0-99d4-637c749cbb6b",
   "metadata": {
    "tags": []
   },
   "source": [
    "<h3>Cosine Similarity</h3>"
   ]
  },
  {
   "cell_type": "code",
   "execution_count": 12,
   "id": "824a2f00-70e2-44d1-845a-98d622be9bcc",
   "metadata": {
    "tags": []
   },
   "outputs": [
    {
     "name": "stdout",
     "output_type": "stream",
     "text": [
      "[0.9992771]\n"
     ]
    }
   ],
   "source": [
    "print(np.dot(y_test.values, pred)/(np.linalg.norm(y_test.values)*np.linalg.norm(pred)))"
   ]
  },
  {
   "cell_type": "markdown",
   "id": "098fb517-8f6a-4ef4-9a57-d358aaa321b9",
   "metadata": {
    "tags": []
   },
   "source": [
    "<h3>Visualization</h3>"
   ]
  },
  {
   "cell_type": "code",
   "execution_count": 13,
   "id": "064aa533-936c-452a-9f53-dd9e0a0b45b7",
   "metadata": {
    "tags": []
   },
   "outputs": [],
   "source": [
    "result = pd.DataFrame()\n",
    "result['y'] = y_test.values\n",
    "result['pred'] = pred\n",
    "result = result.sort_values(by=['y']).reset_index(drop=True)\n",
    "result.to_csv('output\\\\rf_linear_reg.csv', index=False)"
   ]
  },
  {
   "cell_type": "code",
   "execution_count": 14,
   "id": "59611f1f-f7fb-4a7f-a3de-2541dfb3468c",
   "metadata": {
    "tags": []
   },
   "outputs": [
    {
     "data": {
      "image/png": "[encoded data removed]",
      "text/plain": [
       "<Figure size 1600x1000 with 1 Axes>"
      ]
     },
     "metadata": {},
     "output_type": "display_data"
    }
   ],
   "source": [
    "plt.figure(figsize=(16,10))\n",
    "plt.plot(result['pred'], 'r')\n",
    "plt.plot(result['y'], 'b')\n",
    "plt.xlabel(\"$Istância$\",)\n",
    "plt.ylabel(\"$Dano$\",)\n",
    "plt.legend(['Previsto', 'Analítico'])\n",
    "plt.show()"
   ]
  },
  {
   "cell_type": "markdown",
   "id": "fa51af58-9ede-46e3-99ed-0164c6834c82",
   "metadata": {},
   "source": [
    "<h1>Exponential Damage</h1>"
   ]
  },
  {
   "cell_type": "code",
   "execution_count": 15,
   "id": "fda86b57-083d-4b8a-879c-09a51d46aae1",
   "metadata": {},
   "outputs": [],
   "source": [
    "df_exp = pd.read_csv('input/results_complete_exponential.csv')"
   ]
  },
  {
   "cell_type": "code",
   "execution_count": 16,
   "id": "9eff74c0-769f-4685-9a72-f69724210c78",
   "metadata": {},
   "outputs": [],
   "source": [
    "X_train, X_test, y_train, y_test = train_test_split(df_exp.drop(['damage'], axis=1), df_exp['damage'], test_size=0.10, random_state=41)"
   ]
  },
  {
   "cell_type": "code",
   "execution_count": 17,
   "id": "815cc01f-7962-4f05-b49d-1de62fd5eb6e",
   "metadata": {},
   "outputs": [],
   "source": [
    "scaler = StandardScaler()\n",
    "hot_encoder = OneHotEncoder(sparse=False)\n",
    "X_train = scaler.fit_transform(X_train)\n",
    "X_test = scaler.transform(X_test)"
   ]
  },
  {
   "cell_type": "code",
   "execution_count": 18,
   "id": "45c553a7-f94f-43df-9032-385155de8e94",
   "metadata": {
    "scrolled": true,
    "tags": []
   },
   "outputs": [
    {
     "name": "stdout",
     "output_type": "stream",
     "text": [
      "Model: \"sequential_2\"\n",
      "_________________________________________________________________\n",
      " Layer (type)                Output Shape              Param #   \n",
      "=================================================================\n",
      " dense_8 (Dense)             (None, 20)                13140     \n",
      "                                                                 \n",
      " dense_9 (Dense)             (None, 20)                420       \n",
      "                                                                 \n",
      " dense_10 (Dense)            (None, 20)                420       \n",
      "                                                                 \n",
      " dense_11 (Dense)            (None, 1)                 21        \n",
      "                                                                 \n",
      "=================================================================\n",
      "Total params: 14,001\n",
      "Trainable params: 14,001\n",
      "Non-trainable params: 0\n",
      "_________________________________________________________________\n",
      "Epoch 1/100\n",
      "1266/1266 [==============================] - 2s 1ms/step - loss: 0.1513 - val_loss: 0.0448\n",
      "Epoch 2/100\n",
      "1266/1266 [==============================] - 1s 1ms/step - loss: 0.0305 - val_loss: 0.0226\n",
      "Epoch 3/100\n",
      "1266/1266 [==============================] - 1s 1ms/step - loss: 0.0184 - val_loss: 0.0156\n",
      "Epoch 4/100\n",
      "1266/1266 [==============================] - 1s 1ms/step - loss: 0.0139 - val_loss: 0.0150\n",
      "Epoch 5/100\n",
      "1266/1266 [==============================] - 1s 1ms/step - loss: 0.0105 - val_loss: 0.0101\n",
      "Epoch 6/100\n",
      "1266/1266 [==============================] - 2s 1ms/step - loss: 0.0095 - val_loss: 0.0089\n",
      "Epoch 7/100\n",
      "1266/1266 [==============================] - 1s 1ms/step - loss: 0.0077 - val_loss: 0.0080\n",
      "Epoch 8/100\n",
      "1266/1266 [==============================] - 1s 1ms/step - loss: 0.0068 - val_loss: 0.0070\n",
      "Epoch 9/100\n",
      "1266/1266 [==============================] - 1s 1ms/step - loss: 0.0055 - val_loss: 0.0061\n",
      "Epoch 10/100\n",
      "1266/1266 [==============================] - 1s 1ms/step - loss: 0.0051 - val_loss: 0.0044\n",
      "Epoch 11/100\n",
      "1266/1266 [==============================] - 1s 1ms/step - loss: 0.0040 - val_loss: 0.0053\n",
      "Epoch 12/100\n",
      "1266/1266 [==============================] - 1s 1ms/step - loss: 0.0039 - val_loss: 0.0048\n",
      "Epoch 13/100\n",
      "1266/1266 [==============================] - 1s 1ms/step - loss: 0.0038 - val_loss: 0.0032\n",
      "Epoch 14/100\n",
      "1266/1266 [==============================] - 1s 1ms/step - loss: 0.0028 - val_loss: 0.0033\n",
      "Epoch 15/100\n",
      "1266/1266 [==============================] - 1s 1ms/step - loss: 0.0033 - val_loss: 0.0026\n",
      "Epoch 16/100\n",
      "1266/1266 [==============================] - 2s 1ms/step - loss: 0.0025 - val_loss: 0.0028\n",
      "Epoch 17/100\n",
      "1266/1266 [==============================] - 1s 1ms/step - loss: 0.0024 - val_loss: 0.0025\n",
      "Epoch 18/100\n",
      "1266/1266 [==============================] - 1s 1ms/step - loss: 0.0023 - val_loss: 0.0022\n",
      "Epoch 19/100\n",
      "1266/1266 [==============================] - 1s 1ms/step - loss: 0.0023 - val_loss: 0.0017\n",
      "Epoch 20/100\n",
      "1266/1266 [==============================] - 1s 1ms/step - loss: 0.0019 - val_loss: 0.0019\n",
      "Epoch 21/100\n",
      "1266/1266 [==============================] - 1s 1ms/step - loss: 0.0019 - val_loss: 0.0019\n",
      "Epoch 22/100\n",
      "1266/1266 [==============================] - 2s 1ms/step - loss: 0.0020 - val_loss: 0.0015\n",
      "Epoch 23/100\n",
      "1266/1266 [==============================] - 2s 1ms/step - loss: 0.0019 - val_loss: 0.0020\n",
      "Epoch 24/100\n",
      "1266/1266 [==============================] - 2s 1ms/step - loss: 0.0015 - val_loss: 0.0015\n",
      "Epoch 25/100\n",
      "1266/1266 [==============================] - 1s 1ms/step - loss: 0.0014 - val_loss: 0.0015\n",
      "Epoch 26/100\n",
      "1266/1266 [==============================] - 1s 1ms/step - loss: 0.0015 - val_loss: 0.0012\n",
      "Epoch 27/100\n",
      "1266/1266 [==============================] - 1s 1ms/step - loss: 0.0015 - val_loss: 0.0014\n",
      "Epoch 28/100\n",
      "1266/1266 [==============================] - 2s 2ms/step - loss: 0.0014 - val_loss: 0.0012\n",
      "Epoch 29/100\n",
      "1266/1266 [==============================] - 1s 1ms/step - loss: 0.0014 - val_loss: 9.3703e-04\n",
      "Epoch 30/100\n",
      "1266/1266 [==============================] - 2s 1ms/step - loss: 0.0011 - val_loss: 9.8323e-04\n",
      "Epoch 31/100\n",
      "1266/1266 [==============================] - 2s 1ms/step - loss: 0.0011 - val_loss: 0.0018\n",
      "Epoch 32/100\n",
      "1266/1266 [==============================] - 1s 1ms/step - loss: 0.0012 - val_loss: 9.5987e-04\n",
      "Epoch 33/100\n",
      "1266/1266 [==============================] - 2s 1ms/step - loss: 0.0012 - val_loss: 0.0011\n",
      "Epoch 34/100\n",
      "1266/1266 [==============================] - 1s 1ms/step - loss: 8.3092e-04 - val_loss: 9.8988e-04\n",
      "Epoch 35/100\n",
      "1266/1266 [==============================] - 2s 1ms/step - loss: 0.0010 - val_loss: 0.0018\n",
      "Epoch 36/100\n",
      "1266/1266 [==============================] - 2s 1ms/step - loss: 0.0012 - val_loss: 8.4133e-04\n",
      "Epoch 37/100\n",
      "1266/1266 [==============================] - 2s 1ms/step - loss: 9.1128e-04 - val_loss: 0.0013\n",
      "Epoch 38/100\n",
      "1266/1266 [==============================] - 2s 1ms/step - loss: 8.4246e-04 - val_loss: 7.6682e-04\n",
      "Epoch 39/100\n",
      "1266/1266 [==============================] - 2s 1ms/step - loss: 8.4374e-04 - val_loss: 7.0554e-04\n",
      "Epoch 40/100\n",
      "1266/1266 [==============================] - 2s 1ms/step - loss: 8.6699e-04 - val_loss: 7.5052e-04\n",
      "Epoch 41/100\n",
      "1266/1266 [==============================] - 2s 1ms/step - loss: 7.9329e-04 - val_loss: 7.2442e-04\n",
      "Epoch 42/100\n",
      "1266/1266 [==============================] - 2s 1ms/step - loss: 8.2778e-04 - val_loss: 8.0020e-04\n",
      "Epoch 43/100\n",
      "1266/1266 [==============================] - 2s 1ms/step - loss: 8.8787e-04 - val_loss: 7.6143e-04\n",
      "Epoch 44/100\n",
      "1266/1266 [==============================] - 2s 1ms/step - loss: 6.9254e-04 - val_loss: 0.0011\n",
      "Epoch 45/100\n",
      "1266/1266 [==============================] - 2s 1ms/step - loss: 7.5812e-04 - val_loss: 0.0011\n",
      "Epoch 46/100\n",
      "1266/1266 [==============================] - 2s 1ms/step - loss: 7.3881e-04 - val_loss: 7.6186e-04\n",
      "Epoch 47/100\n",
      "1266/1266 [==============================] - 2s 1ms/step - loss: 7.3784e-04 - val_loss: 5.4758e-04\n",
      "Epoch 48/100\n",
      "1266/1266 [==============================] - 2s 1ms/step - loss: 6.4251e-04 - val_loss: 0.0014\n",
      "Epoch 49/100\n",
      "1266/1266 [==============================] - 2s 1ms/step - loss: 6.7622e-04 - val_loss: 5.9611e-04\n",
      "Epoch 50/100\n",
      "1266/1266 [==============================] - 2s 1ms/step - loss: 6.6187e-04 - val_loss: 5.5418e-04\n",
      "Epoch 51/100\n",
      "1266/1266 [==============================] - 2s 1ms/step - loss: 6.3903e-04 - val_loss: 9.1586e-04\n",
      "Epoch 52/100\n",
      "1266/1266 [==============================] - 2s 1ms/step - loss: 7.3280e-04 - val_loss: 6.3313e-04\n",
      "Epoch 53/100\n",
      "1266/1266 [==============================] - 2s 1ms/step - loss: 5.5053e-04 - val_loss: 6.9754e-04\n",
      "Epoch 54/100\n",
      "1266/1266 [==============================] - 2s 1ms/step - loss: 6.4205e-04 - val_loss: 7.6537e-04\n",
      "Epoch 55/100\n",
      "1266/1266 [==============================] - 2s 1ms/step - loss: 5.9520e-04 - val_loss: 6.6456e-04\n",
      "Epoch 56/100\n",
      "1266/1266 [==============================] - 2s 1ms/step - loss: 5.4125e-04 - val_loss: 7.7454e-04\n",
      "Epoch 57/100\n",
      "1266/1266 [==============================] - 2s 1ms/step - loss: 6.1769e-04 - val_loss: 5.4771e-04\n",
      "Epoch 58/100\n",
      "1266/1266 [==============================] - 2s 1ms/step - loss: 6.6699e-04 - val_loss: 6.6300e-04\n",
      "Epoch 59/100\n",
      "1266/1266 [==============================] - 2s 1ms/step - loss: 5.7637e-04 - val_loss: 6.2078e-04\n",
      "Epoch 60/100\n",
      "1266/1266 [==============================] - 2s 1ms/step - loss: 4.8193e-04 - val_loss: 5.9299e-04\n",
      "Epoch 61/100\n",
      "1266/1266 [==============================] - 2s 1ms/step - loss: 5.5593e-04 - val_loss: 9.1976e-04\n",
      "Epoch 62/100\n",
      "1266/1266 [==============================] - 2s 1ms/step - loss: 4.8692e-04 - val_loss: 5.4289e-04\n",
      "Epoch 63/100\n",
      "1266/1266 [==============================] - 2s 2ms/step - loss: 4.8274e-04 - val_loss: 5.9045e-04\n",
      "Epoch 64/100\n",
      "1266/1266 [==============================] - 2s 1ms/step - loss: 5.9073e-04 - val_loss: 7.7269e-04\n",
      "Epoch 65/100\n",
      "1266/1266 [==============================] - 2s 1ms/step - loss: 5.1529e-04 - val_loss: 5.6052e-04\n",
      "Epoch 66/100\n",
      "1266/1266 [==============================] - 1s 1ms/step - loss: 4.6216e-04 - val_loss: 7.0188e-04\n",
      "Epoch 67/100\n",
      "1266/1266 [==============================] - 2s 1ms/step - loss: 4.7124e-04 - val_loss: 5.5014e-04\n",
      "Epoch 68/100\n",
      "1266/1266 [==============================] - 2s 1ms/step - loss: 5.2416e-04 - val_loss: 8.3524e-04\n",
      "Epoch 69/100\n",
      "1266/1266 [==============================] - 2s 1ms/step - loss: 4.8554e-04 - val_loss: 6.5274e-04\n",
      "Epoch 70/100\n",
      "1266/1266 [==============================] - 2s 1ms/step - loss: 4.3616e-04 - val_loss: 5.5283e-04\n",
      "Epoch 71/100\n",
      "1266/1266 [==============================] - 2s 1ms/step - loss: 4.7577e-04 - val_loss: 4.2211e-04\n",
      "Epoch 72/100\n",
      "1266/1266 [==============================] - 2s 1ms/step - loss: 4.5987e-04 - val_loss: 4.7177e-04\n",
      "Epoch 73/100\n",
      "1266/1266 [==============================] - 2s 1ms/step - loss: 4.5069e-04 - val_loss: 8.1650e-04\n",
      "Epoch 74/100\n",
      "1266/1266 [==============================] - 2s 1ms/step - loss: 4.6573e-04 - val_loss: 0.0016\n",
      "Epoch 75/100\n",
      "1266/1266 [==============================] - 2s 1ms/step - loss: 4.7010e-04 - val_loss: 7.0001e-04\n",
      "Epoch 76/100\n",
      "1266/1266 [==============================] - 2s 1ms/step - loss: 5.0108e-04 - val_loss: 0.0011\n",
      "Epoch 77/100\n",
      "1266/1266 [==============================] - 2s 1ms/step - loss: 5.1211e-04 - val_loss: 4.2294e-04\n",
      "Epoch 78/100\n",
      "1266/1266 [==============================] - 2s 1ms/step - loss: 4.2944e-04 - val_loss: 5.5927e-04\n",
      "Epoch 79/100\n",
      "1266/1266 [==============================] - 2s 1ms/step - loss: 4.2028e-04 - val_loss: 4.7123e-04\n",
      "Epoch 80/100\n",
      "1266/1266 [==============================] - 2s 1ms/step - loss: 4.8492e-04 - val_loss: 4.1602e-04\n",
      "Epoch 81/100\n",
      "1266/1266 [==============================] - 2s 1ms/step - loss: 4.2037e-04 - val_loss: 6.4161e-04\n",
      "Epoch 82/100\n",
      "1266/1266 [==============================] - 2s 1ms/step - loss: 4.3854e-04 - val_loss: 4.4058e-04\n",
      "Epoch 83/100\n",
      "1266/1266 [==============================] - 2s 1ms/step - loss: 4.1321e-04 - val_loss: 3.6781e-04\n",
      "Epoch 84/100\n",
      "1266/1266 [==============================] - 2s 1ms/step - loss: 4.0343e-04 - val_loss: 5.1339e-04\n",
      "Epoch 85/100\n",
      "1266/1266 [==============================] - 2s 1ms/step - loss: 3.9018e-04 - val_loss: 3.8315e-04\n",
      "Epoch 86/100\n",
      "1266/1266 [==============================] - 1s 1ms/step - loss: 3.8397e-04 - val_loss: 3.9199e-04\n",
      "Epoch 87/100\n",
      "1266/1266 [==============================] - 2s 1ms/step - loss: 4.3684e-04 - val_loss: 0.0011\n",
      "Epoch 88/100\n",
      "1266/1266 [==============================] - 2s 1ms/step - loss: 4.7765e-04 - val_loss: 5.1067e-04\n",
      "Epoch 89/100\n",
      "1266/1266 [==============================] - 2s 1ms/step - loss: 3.4081e-04 - val_loss: 6.4898e-04\n",
      "Epoch 90/100\n",
      "1266/1266 [==============================] - 2s 1ms/step - loss: 4.8307e-04 - val_loss: 3.4544e-04\n",
      "Epoch 91/100\n",
      "1266/1266 [==============================] - 2s 1ms/step - loss: 3.3905e-04 - val_loss: 4.5954e-04\n",
      "Epoch 92/100\n",
      "1266/1266 [==============================] - 2s 1ms/step - loss: 3.3632e-04 - val_loss: 4.3103e-04\n",
      "Epoch 93/100\n",
      "1266/1266 [==============================] - 2s 1ms/step - loss: 3.7628e-04 - val_loss: 4.1272e-04\n",
      "Epoch 94/100\n",
      "1266/1266 [==============================] - 2s 1ms/step - loss: 3.7120e-04 - val_loss: 3.4721e-04\n",
      "Epoch 95/100\n",
      "1266/1266 [==============================] - 2s 1ms/step - loss: 4.1664e-04 - val_loss: 4.0943e-04\n",
      "Epoch 96/100\n",
      "1266/1266 [==============================] - 1s 1ms/step - loss: 3.0962e-04 - val_loss: 4.8403e-04\n",
      "Epoch 97/100\n",
      "1266/1266 [==============================] - 2s 1ms/step - loss: 3.4627e-04 - val_loss: 2.8599e-04\n",
      "Epoch 98/100\n",
      "1266/1266 [==============================] - 2s 1ms/step - loss: 3.5830e-04 - val_loss: 0.0012\n",
      "Epoch 99/100\n",
      "1266/1266 [==============================] - 2s 1ms/step - loss: 3.7120e-04 - val_loss: 3.8173e-04\n",
      "Epoch 100/100\n",
      "1266/1266 [==============================] - 2s 1ms/step - loss: 3.3820e-04 - val_loss: 2.8881e-04\n"
     ]
    },
    {
     "name": "stderr",
     "output_type": "stream",
     "text": [
      "WARNING:absl:Found untraced functions such as leaky_re_lu_8_layer_call_fn, leaky_re_lu_8_layer_call_and_return_conditional_losses, leaky_re_lu_9_layer_call_fn, leaky_re_lu_9_layer_call_and_return_conditional_losses, leaky_re_lu_10_layer_call_fn while saving (showing 5 of 8). These functions will not be directly callable after loading.\n"
     ]
    },
    {
     "name": "stdout",
     "output_type": "stream",
     "text": [
      "INFO:tensorflow:Assets written to: models/exp_reg\\assets\n"
     ]
    },
    {
     "name": "stderr",
     "output_type": "stream",
     "text": [
      "INFO:tensorflow:Assets written to: models/exp_reg\\assets\n"
     ]
    },
    {
     "name": "stdout",
     "output_type": "stream",
     "text": [
      "CPU times: total: 46.2 s\n",
      "Wall time: 2min 37s\n"
     ]
    }
   ],
   "source": [
    "%%time\n",
    "path = 'models/exp_reg'\n",
    "if (os.path.exists(path)):\n",
    "    model = keras.models.load_model(path)\n",
    "else:\n",
    "    model = keras.Sequential()\n",
    "    model.add(keras.Input(shape=(656)))\n",
    "    model.add(keras.layers.Dense(20, activation=tf.keras.layers.LeakyReLU(alpha=0.5), kernel_initializer=tf.keras.initializers.HeNormal())) #80\n",
    "    model.add(keras.layers.Dense(20, activation=tf.keras.layers.LeakyReLU(alpha=0.5), kernel_initializer=tf.keras.initializers.HeNormal()))\n",
    "    model.add(keras.layers.Dense(20, activation=tf.keras.layers.LeakyReLU(alpha=0.5), kernel_initializer=tf.keras.initializers.HeNormal()))\n",
    "    model.add(keras.layers.Dense(1, activation=tf.keras.layers.LeakyReLU(alpha=0.5), kernel_initializer=tf.keras.initializers.HeNormal()))\n",
    "    model.summary()\n",
    "    model.compile(loss='mse', optimizer=tf.keras.optimizers.Adam(learning_rate=0.0001))\n",
    "    history = model.fit(X_train, y_train, epochs=100, validation_data=(X_test, y_test)) #1000 epocas\n",
    "    model.save(path)"
   ]
  },
  {
   "cell_type": "code",
   "execution_count": 19,
   "id": "6d48b8bb-4050-4e4e-9b5d-f544ec904945",
   "metadata": {},
   "outputs": [
    {
     "name": "stdout",
     "output_type": "stream",
     "text": [
      "141/141 [==============================] - 0s 822us/step\n"
     ]
    }
   ],
   "source": [
    "pred = model.predict(X_test)"
   ]
  },
  {
   "cell_type": "code",
   "execution_count": 20,
   "id": "d29de131-b034-4c2b-af37-24c452d2eff5",
   "metadata": {},
   "outputs": [
    {
     "data": {
      "image/png": "[encoded data removed]",
      "text/plain": [
       "<Figure size 640x480 with 1 Axes>"
      ]
     },
     "metadata": {},
     "output_type": "display_data"
    }
   ],
   "source": [
    "plt.plot(history.history['loss'])\n",
    "plt.plot(history.history['val_loss'])\n",
    "plt.show()"
   ]
  },
  {
   "cell_type": "markdown",
   "id": "44388779-cc2f-4cb4-b8ca-2c3fa6743d03",
   "metadata": {},
   "source": [
    "<h3>MAPE</h3>"
   ]
  },
  {
   "cell_type": "code",
   "execution_count": 21,
   "id": "7c99022a-e3bb-4c9f-bf88-f7b702264975",
   "metadata": {
    "tags": []
   },
   "outputs": [
    {
     "data": {
      "text/plain": [
       "0.04037423176223936"
      ]
     },
     "execution_count": 21,
     "metadata": {},
     "output_type": "execute_result"
    }
   ],
   "source": [
    "mean_absolute_percentage_error(y_test, pred)"
   ]
  },
  {
   "cell_type": "markdown",
   "id": "3c923ae8-54e8-4741-9866-336932c59883",
   "metadata": {
    "tags": []
   },
   "source": [
    "<h3>R2</h3>"
   ]
  },
  {
   "cell_type": "code",
   "execution_count": 22,
   "id": "546ed39a-fa02-41db-9f75-c25ae8776402",
   "metadata": {
    "tags": []
   },
   "outputs": [
    {
     "data": {
      "text/plain": [
       "0.9960532203023348"
      ]
     },
     "execution_count": 22,
     "metadata": {},
     "output_type": "execute_result"
    }
   ],
   "source": [
    "r2_score(y_test, pred)"
   ]
  },
  {
   "cell_type": "markdown",
   "id": "d6d93f96-a3b0-4a6a-ad1b-8e784da864bc",
   "metadata": {
    "tags": []
   },
   "source": [
    "<h3>Cosine Similarity</h3>"
   ]
  },
  {
   "cell_type": "code",
   "execution_count": 23,
   "id": "15cfd8f1-8f65-49d2-bceb-310107fdf7ff",
   "metadata": {
    "tags": []
   },
   "outputs": [
    {
     "name": "stdout",
     "output_type": "stream",
     "text": [
      "[0.99973187]\n"
     ]
    }
   ],
   "source": [
    "print(np.dot(y_test.values, pred)/(np.linalg.norm(y_test.values)*np.linalg.norm(pred)))"
   ]
  },
  {
   "cell_type": "markdown",
   "id": "b6acdea7-2c3f-4f6d-808f-4d4cf0f3017c",
   "metadata": {
    "tags": []
   },
   "source": [
    "<h3>Visualization</h3>"
   ]
  },
  {
   "cell_type": "code",
   "execution_count": 24,
   "id": "6e9c27f1-fee9-4a5e-9ccf-29599cc8ecc7",
   "metadata": {
    "tags": []
   },
   "outputs": [],
   "source": [
    "result = pd.DataFrame()\n",
    "result['y'] = y_test.values\n",
    "result['pred'] = pred\n",
    "result = result.sort_values(by=['y']).reset_index(drop=True)\n",
    "result.to_csv('output\\\\rf_linear_reg.csv', index=False)"
   ]
  },
  {
   "cell_type": "code",
   "execution_count": 25,
   "id": "aec33dcf-9851-4dd6-8767-f28ae673b5b6",
   "metadata": {
    "tags": []
   },
   "outputs": [
    {
     "data": {
      "image/png": "[encoded data removed]",
      "text/plain": [
       "<Figure size 1600x1000 with 1 Axes>"
      ]
     },
     "metadata": {},
     "output_type": "display_data"
    }
   ],
   "source": [
    "plt.figure(figsize=(16,10))\n",
    "plt.plot(result['pred'], 'r')\n",
    "plt.plot(result['y'], 'b')\n",
    "plt.xlabel(\"$Istância$\",)\n",
    "plt.ylabel(\"$Dano$\",)\n",
    "plt.legend(['Previsto', 'Analítico'])\n",
    "plt.show()"
   ]
  },
  {
   "cell_type": "markdown",
   "id": "73f47756-08c1-4e9a-a4db-0247f8432987",
   "metadata": {},
   "source": [
    "<h1>Sigmoid-like Damage</h1>"
   ]
  },
  {
   "cell_type": "code",
   "execution_count": 26,
   "id": "a0488ffb-1f97-4d2a-962d-2d5b6c1de260",
   "metadata": {},
   "outputs": [],
   "source": [
    "df_sig = pd.read_csv('input/results_complete_sigmoid_like.csv')"
   ]
  },
  {
   "cell_type": "code",
   "execution_count": 37,
   "id": "4a69a9e2-9c1a-460d-8ee0-0b0906b8f51f",
   "metadata": {},
   "outputs": [],
   "source": [
    "X_train, X_test, y_train, y_test = train_test_split(df_sig.drop(['damage'], axis=1), df_sig['damage'], test_size=0.10, random_state=41)"
   ]
  },
  {
   "cell_type": "code",
   "execution_count": 38,
   "id": "d4725a8a-f537-49c8-b452-b67189a6746f",
   "metadata": {},
   "outputs": [],
   "source": [
    "scaler = StandardScaler()\n",
    "hot_encoder = OneHotEncoder(sparse=False)\n",
    "X_train = scaler.fit_transform(X_train)\n",
    "X_test = scaler.transform(X_test)"
   ]
  },
  {
   "cell_type": "code",
   "execution_count": 39,
   "id": "29a28008-ffff-418d-862c-e3b1f4a69826",
   "metadata": {
    "scrolled": true,
    "tags": []
   },
   "outputs": [
    {
     "name": "stdout",
     "output_type": "stream",
     "text": [
      "Model: \"sequential_4\"\n",
      "_________________________________________________________________\n",
      " Layer (type)                Output Shape              Param #   \n",
      "=================================================================\n",
      " dense_16 (Dense)            (None, 80)                52560     \n",
      "                                                                 \n",
      " dense_17 (Dense)            (None, 80)                6480      \n",
      "                                                                 \n",
      " dense_18 (Dense)            (None, 80)                6480      \n",
      "                                                                 \n",
      " dense_19 (Dense)            (None, 1)                 81        \n",
      "                                                                 \n",
      "=================================================================\n",
      "Total params: 65,601\n",
      "Trainable params: 65,601\n",
      "Non-trainable params: 0\n",
      "_________________________________________________________________\n",
      "Epoch 1/300\n",
      "1266/1266 [==============================] - 2s 1ms/step - loss: 0.2079 - val_loss: 0.0879\n",
      "Epoch 2/300\n",
      "1266/1266 [==============================] - 2s 1ms/step - loss: 0.0592 - val_loss: 0.0452\n",
      "Epoch 3/300\n",
      "1266/1266 [==============================] - 2s 1ms/step - loss: 0.0485 - val_loss: 0.0419\n",
      "Epoch 4/300\n",
      "1266/1266 [==============================] - 2s 1ms/step - loss: 0.0303 - val_loss: 0.0250\n",
      "Epoch 5/300\n",
      "1266/1266 [==============================] - 2s 1ms/step - loss: 0.0274 - val_loss: 0.0268\n",
      "Epoch 6/300\n",
      "1266/1266 [==============================] - 1s 1ms/step - loss: 0.0265 - val_loss: 0.0231\n",
      "Epoch 7/300\n",
      "1266/1266 [==============================] - 2s 1ms/step - loss: 0.0215 - val_loss: 0.0207\n",
      "Epoch 8/300\n",
      "1266/1266 [==============================] - 2s 1ms/step - loss: 0.0198 - val_loss: 0.0137\n",
      "Epoch 9/300\n",
      "1266/1266 [==============================] - 2s 1ms/step - loss: 0.0208 - val_loss: 0.0173\n",
      "Epoch 10/300\n",
      "1266/1266 [==============================] - 2s 1ms/step - loss: 0.0166 - val_loss: 0.0155\n",
      "Epoch 11/300\n",
      "1266/1266 [==============================] - 2s 1ms/step - loss: 0.0152 - val_loss: 0.0157\n",
      "Epoch 12/300\n",
      "1266/1266 [==============================] - 2s 1ms/step - loss: 0.0137 - val_loss: 0.0227\n",
      "Epoch 13/300\n",
      "1266/1266 [==============================] - 2s 1ms/step - loss: 0.0143 - val_loss: 0.0104\n",
      "Epoch 14/300\n",
      "1266/1266 [==============================] - 2s 1ms/step - loss: 0.0119 - val_loss: 0.0106\n",
      "Epoch 15/300\n",
      "1266/1266 [==============================] - 2s 1ms/step - loss: 0.0107 - val_loss: 0.0101\n",
      "Epoch 16/300\n",
      "1266/1266 [==============================] - 2s 1ms/step - loss: 0.0103 - val_loss: 0.0079\n",
      "Epoch 17/300\n",
      "1266/1266 [==============================] - 2s 1ms/step - loss: 0.0089 - val_loss: 0.0104\n",
      "Epoch 18/300\n",
      "1266/1266 [==============================] - 1s 1ms/step - loss: 0.0096 - val_loss: 0.0115\n",
      "Epoch 19/300\n",
      "1266/1266 [==============================] - 2s 1ms/step - loss: 0.0084 - val_loss: 0.0078\n",
      "Epoch 20/300\n",
      "1266/1266 [==============================] - 2s 1ms/step - loss: 0.0073 - val_loss: 0.0067\n",
      "Epoch 21/300\n",
      "1266/1266 [==============================] - 2s 1ms/step - loss: 0.0072 - val_loss: 0.0070\n",
      "Epoch 22/300\n",
      "1266/1266 [==============================] - 2s 1ms/step - loss: 0.0066 - val_loss: 0.0064\n",
      "Epoch 23/300\n",
      "1266/1266 [==============================] - 2s 1ms/step - loss: 0.0059 - val_loss: 0.0044\n",
      "Epoch 24/300\n",
      "1266/1266 [==============================] - 2s 1ms/step - loss: 0.0071 - val_loss: 0.0069\n",
      "Epoch 25/300\n",
      "1266/1266 [==============================] - 2s 1ms/step - loss: 0.0049 - val_loss: 0.0079\n",
      "Epoch 26/300\n",
      "1266/1266 [==============================] - 2s 1ms/step - loss: 0.0060 - val_loss: 0.0063\n",
      "Epoch 27/300\n",
      "1266/1266 [==============================] - 2s 1ms/step - loss: 0.0041 - val_loss: 0.0047\n",
      "Epoch 28/300\n",
      "1266/1266 [==============================] - 2s 1ms/step - loss: 0.0051 - val_loss: 0.0080\n",
      "Epoch 29/300\n",
      "1266/1266 [==============================] - 2s 1ms/step - loss: 0.0053 - val_loss: 0.0075\n",
      "Epoch 30/300\n",
      "1266/1266 [==============================] - 2s 1ms/step - loss: 0.0038 - val_loss: 0.0032\n",
      "Epoch 31/300\n",
      "1266/1266 [==============================] - 2s 1ms/step - loss: 0.0042 - val_loss: 0.0057\n",
      "Epoch 32/300\n",
      "1266/1266 [==============================] - 2s 1ms/step - loss: 0.0042 - val_loss: 0.0038\n",
      "Epoch 33/300\n",
      "1266/1266 [==============================] - 2s 1ms/step - loss: 0.0032 - val_loss: 0.0057\n",
      "Epoch 34/300\n",
      "1266/1266 [==============================] - 2s 1ms/step - loss: 0.0036 - val_loss: 0.0031\n",
      "Epoch 35/300\n",
      "1266/1266 [==============================] - 2s 1ms/step - loss: 0.0022 - val_loss: 0.0022\n",
      "Epoch 36/300\n",
      "1266/1266 [==============================] - 2s 1ms/step - loss: 0.0034 - val_loss: 0.0025\n",
      "Epoch 37/300\n",
      "1266/1266 [==============================] - 2s 1ms/step - loss: 0.0024 - val_loss: 0.0030\n",
      "Epoch 38/300\n",
      "1266/1266 [==============================] - 2s 1ms/step - loss: 0.0024 - val_loss: 0.0022\n",
      "Epoch 39/300\n",
      "1266/1266 [==============================] - 2s 1ms/step - loss: 0.0022 - val_loss: 0.0019\n",
      "Epoch 40/300\n",
      "1266/1266 [==============================] - 2s 1ms/step - loss: 0.0025 - val_loss: 0.0022\n",
      "Epoch 41/300\n",
      "1266/1266 [==============================] - 2s 1ms/step - loss: 0.0027 - val_loss: 0.0018\n",
      "Epoch 42/300\n",
      "1266/1266 [==============================] - 2s 1ms/step - loss: 0.0022 - val_loss: 0.0015\n",
      "Epoch 43/300\n",
      "1266/1266 [==============================] - 2s 1ms/step - loss: 0.0017 - val_loss: 0.0026\n",
      "Epoch 44/300\n",
      "1266/1266 [==============================] - 2s 1ms/step - loss: 0.0023 - val_loss: 0.0016\n",
      "Epoch 45/300\n",
      "1266/1266 [==============================] - 2s 1ms/step - loss: 0.0016 - val_loss: 9.9286e-04\n",
      "Epoch 46/300\n",
      "1266/1266 [==============================] - 2s 1ms/step - loss: 0.0021 - val_loss: 0.0015\n",
      "Epoch 47/300\n",
      "1266/1266 [==============================] - 2s 1ms/step - loss: 0.0017 - val_loss: 0.0014\n",
      "Epoch 48/300\n",
      "1266/1266 [==============================] - 2s 1ms/step - loss: 0.0015 - val_loss: 0.0033\n",
      "Epoch 49/300\n",
      "1266/1266 [==============================] - 2s 1ms/step - loss: 0.0023 - val_loss: 0.0016\n",
      "Epoch 50/300\n",
      "1266/1266 [==============================] - 2s 1ms/step - loss: 0.0011 - val_loss: 0.0013\n",
      "Epoch 51/300\n",
      "1266/1266 [==============================] - 3s 2ms/step - loss: 0.0014 - val_loss: 0.0011\n",
      "Epoch 52/300\n",
      "1266/1266 [==============================] - 3s 2ms/step - loss: 0.0011 - val_loss: 0.0012\n",
      "Epoch 53/300\n",
      "1266/1266 [==============================] - 2s 2ms/step - loss: 0.0012 - val_loss: 0.0010\n",
      "Epoch 54/300\n",
      "1266/1266 [==============================] - 2s 2ms/step - loss: 0.0010 - val_loss: 0.0010\n",
      "Epoch 55/300\n",
      "1266/1266 [==============================] - 2s 2ms/step - loss: 0.0013 - val_loss: 0.0011\n",
      "Epoch 56/300\n",
      "1266/1266 [==============================] - 3s 2ms/step - loss: 9.0887e-04 - val_loss: 6.4723e-04\n",
      "Epoch 57/300\n",
      "1266/1266 [==============================] - 2s 2ms/step - loss: 8.5799e-04 - val_loss: 0.0013\n",
      "Epoch 58/300\n",
      "1266/1266 [==============================] - 2s 2ms/step - loss: 0.0012 - val_loss: 0.0011\n",
      "Epoch 59/300\n",
      "1266/1266 [==============================] - 2s 2ms/step - loss: 9.3233e-04 - val_loss: 6.0259e-04\n",
      "Epoch 60/300\n",
      "1266/1266 [==============================] - 2s 2ms/step - loss: 8.9453e-04 - val_loss: 0.0013\n",
      "Epoch 61/300\n",
      "1266/1266 [==============================] - 2s 2ms/step - loss: 9.8796e-04 - val_loss: 6.1844e-04\n",
      "Epoch 62/300\n",
      "1266/1266 [==============================] - 2s 2ms/step - loss: 8.4100e-04 - val_loss: 0.0011\n",
      "Epoch 63/300\n",
      "1266/1266 [==============================] - 2s 2ms/step - loss: 0.0010 - val_loss: 9.6037e-04\n",
      "Epoch 64/300\n",
      "1266/1266 [==============================] - 2s 2ms/step - loss: 6.8848e-04 - val_loss: 5.7484e-04\n",
      "Epoch 65/300\n",
      "1266/1266 [==============================] - 2s 1ms/step - loss: 6.4457e-04 - val_loss: 0.0020\n",
      "Epoch 66/300\n",
      "1266/1266 [==============================] - 2s 2ms/step - loss: 8.0650e-04 - val_loss: 7.6739e-04\n",
      "Epoch 67/300\n",
      "1266/1266 [==============================] - 3s 2ms/step - loss: 6.4607e-04 - val_loss: 7.3893e-04\n",
      "Epoch 68/300\n",
      "1266/1266 [==============================] - 2s 2ms/step - loss: 7.7814e-04 - val_loss: 0.0010\n",
      "Epoch 69/300\n",
      "1266/1266 [==============================] - 2s 1ms/step - loss: 8.5597e-04 - val_loss: 9.9822e-04\n",
      "Epoch 70/300\n",
      "1266/1266 [==============================] - 2s 2ms/step - loss: 0.0013 - val_loss: 5.4663e-04\n",
      "Epoch 71/300\n",
      "1266/1266 [==============================] - 2s 2ms/step - loss: 4.7122e-04 - val_loss: 7.0823e-04\n",
      "Epoch 72/300\n",
      "1266/1266 [==============================] - 2s 2ms/step - loss: 7.3610e-04 - val_loss: 7.1213e-04\n",
      "Epoch 73/300\n",
      "1266/1266 [==============================] - 2s 2ms/step - loss: 5.6757e-04 - val_loss: 3.3174e-04\n",
      "Epoch 74/300\n",
      "1266/1266 [==============================] - 2s 2ms/step - loss: 4.2530e-04 - val_loss: 6.2619e-04\n",
      "Epoch 75/300\n",
      "1266/1266 [==============================] - 2s 2ms/step - loss: 4.2437e-04 - val_loss: 5.3185e-04\n",
      "Epoch 76/300\n",
      "1266/1266 [==============================] - 2s 1ms/step - loss: 4.9883e-04 - val_loss: 4.8832e-04\n",
      "Epoch 77/300\n",
      "1266/1266 [==============================] - 2s 2ms/step - loss: 5.0563e-04 - val_loss: 8.4862e-04\n",
      "Epoch 78/300\n",
      "1266/1266 [==============================] - 2s 2ms/step - loss: 4.5062e-04 - val_loss: 5.0870e-04\n",
      "Epoch 79/300\n",
      "1266/1266 [==============================] - 2s 2ms/step - loss: 6.0057e-04 - val_loss: 3.7489e-04\n",
      "Epoch 80/300\n",
      "1266/1266 [==============================] - 2s 2ms/step - loss: 3.9301e-04 - val_loss: 4.2019e-04\n",
      "Epoch 81/300\n",
      "1266/1266 [==============================] - 2s 1ms/step - loss: 8.2844e-04 - val_loss: 0.0045\n",
      "Epoch 82/300\n",
      "1266/1266 [==============================] - 2s 2ms/step - loss: 4.8346e-04 - val_loss: 3.3968e-04\n",
      "Epoch 83/300\n",
      "1266/1266 [==============================] - 2s 2ms/step - loss: 3.5132e-04 - val_loss: 4.2854e-04\n",
      "Epoch 84/300\n",
      "1266/1266 [==============================] - 2s 2ms/step - loss: 3.5880e-04 - val_loss: 3.9885e-04\n",
      "Epoch 85/300\n",
      "1266/1266 [==============================] - 2s 2ms/step - loss: 6.4537e-04 - val_loss: 4.0659e-04\n",
      "Epoch 86/300\n",
      "1266/1266 [==============================] - 2s 2ms/step - loss: 4.0123e-04 - val_loss: 2.5498e-04\n",
      "Epoch 87/300\n",
      "1266/1266 [==============================] - 2s 2ms/step - loss: 3.6354e-04 - val_loss: 8.1413e-04\n",
      "Epoch 88/300\n",
      "1266/1266 [==============================] - 2s 2ms/step - loss: 3.8199e-04 - val_loss: 5.2303e-04\n",
      "Epoch 89/300\n",
      "1266/1266 [==============================] - 2s 2ms/step - loss: 8.1495e-04 - val_loss: 0.0010\n",
      "Epoch 90/300\n",
      "1266/1266 [==============================] - 2s 2ms/step - loss: 3.3694e-04 - val_loss: 2.6235e-04\n",
      "Epoch 91/300\n",
      "1266/1266 [==============================] - 2s 2ms/step - loss: 2.8336e-04 - val_loss: 6.8508e-04\n",
      "Epoch 92/300\n",
      "1266/1266 [==============================] - 2s 2ms/step - loss: 3.6323e-04 - val_loss: 4.1554e-04\n",
      "Epoch 93/300\n",
      "1266/1266 [==============================] - 2s 2ms/step - loss: 3.5863e-04 - val_loss: 2.1031e-04\n",
      "Epoch 94/300\n",
      "1266/1266 [==============================] - 2s 2ms/step - loss: 2.4375e-04 - val_loss: 2.5047e-04\n",
      "Epoch 95/300\n",
      "1266/1266 [==============================] - 2s 2ms/step - loss: 3.8418e-04 - val_loss: 3.5593e-04\n",
      "Epoch 96/300\n",
      "1266/1266 [==============================] - 2s 2ms/step - loss: 2.5165e-04 - val_loss: 3.8802e-04\n",
      "Epoch 97/300\n",
      "1266/1266 [==============================] - 2s 2ms/step - loss: 9.0162e-04 - val_loss: 3.8165e-04\n",
      "Epoch 98/300\n",
      "1266/1266 [==============================] - 2s 2ms/step - loss: 2.4044e-04 - val_loss: 2.2810e-04\n",
      "Epoch 99/300\n",
      "1266/1266 [==============================] - 2s 2ms/step - loss: 6.7494e-04 - val_loss: 7.6961e-04\n",
      "Epoch 100/300\n",
      "1266/1266 [==============================] - 2s 2ms/step - loss: 3.6920e-04 - val_loss: 8.3638e-04\n",
      "Epoch 101/300\n",
      "1266/1266 [==============================] - 2s 2ms/step - loss: 2.8018e-04 - val_loss: 3.8271e-04\n",
      "Epoch 102/300\n",
      "1266/1266 [==============================] - 2s 2ms/step - loss: 2.6952e-04 - val_loss: 4.3997e-04\n",
      "Epoch 103/300\n",
      "1266/1266 [==============================] - 2s 2ms/step - loss: 2.7512e-04 - val_loss: 5.3979e-04\n",
      "Epoch 104/300\n",
      "1266/1266 [==============================] - 2s 2ms/step - loss: 2.6573e-04 - val_loss: 0.0019\n",
      "Epoch 105/300\n",
      "1266/1266 [==============================] - 2s 2ms/step - loss: 6.9454e-04 - val_loss: 3.8312e-04\n",
      "Epoch 106/300\n",
      "1266/1266 [==============================] - 2s 2ms/step - loss: 4.2359e-04 - val_loss: 1.8627e-04\n",
      "Epoch 107/300\n",
      "1266/1266 [==============================] - 2s 2ms/step - loss: 1.9305e-04 - val_loss: 4.7914e-04\n",
      "Epoch 108/300\n",
      "1266/1266 [==============================] - 2s 2ms/step - loss: 2.9411e-04 - val_loss: 5.5302e-04\n",
      "Epoch 109/300\n",
      "1266/1266 [==============================] - 2s 2ms/step - loss: 5.9168e-04 - val_loss: 4.1248e-04\n",
      "Epoch 110/300\n",
      "1266/1266 [==============================] - 2s 2ms/step - loss: 3.0800e-04 - val_loss: 3.1172e-04\n",
      "Epoch 111/300\n",
      "1266/1266 [==============================] - 2s 2ms/step - loss: 1.7545e-04 - val_loss: 2.7206e-04\n",
      "Epoch 112/300\n",
      "1266/1266 [==============================] - 2s 2ms/step - loss: 2.4836e-04 - val_loss: 3.1363e-04\n",
      "Epoch 113/300\n",
      "1266/1266 [==============================] - 2s 2ms/step - loss: 2.1444e-04 - val_loss: 3.1499e-04\n",
      "Epoch 114/300\n",
      "1266/1266 [==============================] - 2s 2ms/step - loss: 3.0364e-04 - val_loss: 2.6486e-04\n",
      "Epoch 115/300\n",
      "1266/1266 [==============================] - 2s 2ms/step - loss: 2.5978e-04 - val_loss: 2.4771e-04\n",
      "Epoch 116/300\n",
      "1266/1266 [==============================] - 2s 2ms/step - loss: 1.9924e-04 - val_loss: 2.1441e-04\n",
      "Epoch 117/300\n",
      "1266/1266 [==============================] - 2s 2ms/step - loss: 8.0377e-04 - val_loss: 3.1763e-04\n",
      "Epoch 118/300\n",
      "1266/1266 [==============================] - 2s 2ms/step - loss: 1.9074e-04 - val_loss: 1.5836e-04\n",
      "Epoch 119/300\n",
      "1266/1266 [==============================] - 2s 2ms/step - loss: 1.9663e-04 - val_loss: 2.5306e-04\n",
      "Epoch 120/300\n",
      "1266/1266 [==============================] - 2s 2ms/step - loss: 2.5104e-04 - val_loss: 4.6933e-04\n",
      "Epoch 121/300\n",
      "1266/1266 [==============================] - 2s 2ms/step - loss: 2.5903e-04 - val_loss: 0.0012\n",
      "Epoch 122/300\n",
      "1266/1266 [==============================] - 2s 2ms/step - loss: 1.9801e-04 - val_loss: 4.6190e-04\n",
      "Epoch 123/300\n",
      "1266/1266 [==============================] - 2s 2ms/step - loss: 4.7014e-04 - val_loss: 1.4318e-04\n",
      "Epoch 124/300\n",
      "1266/1266 [==============================] - 2s 2ms/step - loss: 2.4717e-04 - val_loss: 2.3786e-04\n",
      "Epoch 125/300\n",
      "1266/1266 [==============================] - 2s 2ms/step - loss: 2.1441e-04 - val_loss: 2.3648e-04\n",
      "Epoch 126/300\n",
      "1266/1266 [==============================] - 2s 2ms/step - loss: 2.3255e-04 - val_loss: 4.3452e-04\n",
      "Epoch 127/300\n",
      "1266/1266 [==============================] - 2s 2ms/step - loss: 1.8718e-04 - val_loss: 2.8150e-04\n",
      "Epoch 128/300\n",
      "1266/1266 [==============================] - 2s 2ms/step - loss: 2.9322e-04 - val_loss: 4.5099e-04\n",
      "Epoch 129/300\n",
      "1266/1266 [==============================] - 3s 2ms/step - loss: 1.7960e-04 - val_loss: 2.6326e-04\n",
      "Epoch 130/300\n",
      "1266/1266 [==============================] - 2s 2ms/step - loss: 6.3470e-04 - val_loss: 5.7499e-04\n",
      "Epoch 131/300\n",
      "1266/1266 [==============================] - 2s 1ms/step - loss: 1.5795e-04 - val_loss: 1.5146e-04\n",
      "Epoch 132/300\n",
      "1266/1266 [==============================] - 2s 1ms/step - loss: 1.7537e-04 - val_loss: 2.3371e-04\n",
      "Epoch 133/300\n",
      "1266/1266 [==============================] - 2s 1ms/step - loss: 1.5727e-04 - val_loss: 2.8758e-04\n",
      "Epoch 134/300\n",
      "1266/1266 [==============================] - 2s 1ms/step - loss: 1.7323e-04 - val_loss: 1.4930e-04\n",
      "Epoch 135/300\n",
      "1266/1266 [==============================] - 2s 1ms/step - loss: 1.6384e-04 - val_loss: 1.1536e-04\n",
      "Epoch 136/300\n",
      "1266/1266 [==============================] - 2s 1ms/step - loss: 4.4595e-04 - val_loss: 4.6252e-04\n",
      "Epoch 137/300\n",
      "1266/1266 [==============================] - 2s 1ms/step - loss: 2.7971e-04 - val_loss: 1.1443e-04\n",
      "Epoch 138/300\n",
      "1266/1266 [==============================] - 2s 1ms/step - loss: 1.6900e-04 - val_loss: 9.0949e-05\n",
      "Epoch 139/300\n",
      "1266/1266 [==============================] - 2s 1ms/step - loss: 1.7742e-04 - val_loss: 1.1370e-04\n",
      "Epoch 140/300\n",
      "1266/1266 [==============================] - 2s 1ms/step - loss: 1.3498e-04 - val_loss: 8.7478e-05\n",
      "Epoch 141/300\n",
      "1266/1266 [==============================] - 2s 1ms/step - loss: 3.3913e-04 - val_loss: 1.7810e-04\n",
      "Epoch 142/300\n",
      "1266/1266 [==============================] - 2s 2ms/step - loss: 3.6969e-04 - val_loss: 1.5078e-04\n",
      "Epoch 143/300\n",
      "1266/1266 [==============================] - 2s 2ms/step - loss: 1.2558e-04 - val_loss: 1.7996e-04\n",
      "Epoch 144/300\n",
      "1266/1266 [==============================] - 2s 2ms/step - loss: 1.7539e-04 - val_loss: 4.0016e-04\n",
      "Epoch 145/300\n",
      "1266/1266 [==============================] - 2s 2ms/step - loss: 1.7594e-04 - val_loss: 3.0279e-04\n",
      "Epoch 146/300\n",
      "1266/1266 [==============================] - 2s 2ms/step - loss: 1.3857e-04 - val_loss: 2.4994e-04\n",
      "Epoch 147/300\n",
      "1266/1266 [==============================] - 2s 2ms/step - loss: 1.9208e-04 - val_loss: 4.7284e-04\n",
      "Epoch 148/300\n",
      "1266/1266 [==============================] - 2s 2ms/step - loss: 1.6963e-04 - val_loss: 4.9318e-04\n",
      "Epoch 149/300\n",
      "1266/1266 [==============================] - 2s 2ms/step - loss: 2.1419e-04 - val_loss: 2.0453e-04\n",
      "Epoch 150/300\n",
      "1266/1266 [==============================] - 2s 2ms/step - loss: 2.2081e-04 - val_loss: 7.6880e-04\n",
      "Epoch 151/300\n",
      "1266/1266 [==============================] - 2s 2ms/step - loss: 2.5101e-04 - val_loss: 2.1039e-04\n",
      "Epoch 152/300\n",
      "1266/1266 [==============================] - 2s 2ms/step - loss: 1.3129e-04 - val_loss: 5.8992e-04\n",
      "Epoch 153/300\n",
      "1266/1266 [==============================] - 2s 1ms/step - loss: 2.3263e-04 - val_loss: 0.0033\n",
      "Epoch 154/300\n",
      "1266/1266 [==============================] - 2s 2ms/step - loss: 3.3831e-04 - val_loss: 3.7813e-04\n",
      "Epoch 155/300\n",
      "1266/1266 [==============================] - 2s 1ms/step - loss: 2.0516e-04 - val_loss: 2.1093e-04\n",
      "Epoch 156/300\n",
      "1266/1266 [==============================] - 2s 2ms/step - loss: 2.3960e-04 - val_loss: 3.6197e-04\n",
      "Epoch 157/300\n",
      "1266/1266 [==============================] - 2s 2ms/step - loss: 2.8145e-04 - val_loss: 1.1151e-04\n",
      "Epoch 158/300\n",
      "1266/1266 [==============================] - 2s 2ms/step - loss: 1.0907e-04 - val_loss: 1.6849e-04\n",
      "Epoch 159/300\n",
      "1266/1266 [==============================] - 2s 2ms/step - loss: 1.4180e-04 - val_loss: 1.3001e-04\n",
      "Epoch 160/300\n",
      "1266/1266 [==============================] - 2s 2ms/step - loss: 1.7833e-04 - val_loss: 2.0465e-04\n",
      "Epoch 161/300\n",
      "1266/1266 [==============================] - 2s 2ms/step - loss: 1.4860e-04 - val_loss: 1.7222e-04\n",
      "Epoch 162/300\n",
      "1266/1266 [==============================] - 2s 2ms/step - loss: 1.6856e-04 - val_loss: 2.0963e-04\n",
      "Epoch 163/300\n",
      "1266/1266 [==============================] - 2s 2ms/step - loss: 1.2263e-04 - val_loss: 6.9592e-04\n",
      "Epoch 164/300\n",
      "1266/1266 [==============================] - 2s 2ms/step - loss: 2.5271e-04 - val_loss: 1.2706e-04\n",
      "Epoch 165/300\n",
      "1266/1266 [==============================] - 2s 2ms/step - loss: 1.5627e-04 - val_loss: 6.3351e-04\n",
      "Epoch 166/300\n",
      "1266/1266 [==============================] - 2s 2ms/step - loss: 1.7197e-04 - val_loss: 0.0011\n",
      "Epoch 167/300\n",
      "1266/1266 [==============================] - 2s 2ms/step - loss: 2.1352e-04 - val_loss: 2.2068e-04\n",
      "Epoch 168/300\n",
      "1266/1266 [==============================] - 2s 2ms/step - loss: 2.1920e-04 - val_loss: 3.3627e-04\n",
      "Epoch 169/300\n",
      "1266/1266 [==============================] - 2s 2ms/step - loss: 1.3825e-04 - val_loss: 2.7755e-04\n",
      "Epoch 170/300\n",
      "1266/1266 [==============================] - 2s 2ms/step - loss: 1.3360e-04 - val_loss: 2.6015e-04\n",
      "Epoch 171/300\n",
      "1266/1266 [==============================] - 2s 2ms/step - loss: 1.3045e-04 - val_loss: 1.2412e-04\n",
      "Epoch 172/300\n",
      "1266/1266 [==============================] - 2s 2ms/step - loss: 1.4502e-04 - val_loss: 3.0709e-04\n",
      "Epoch 173/300\n",
      "1266/1266 [==============================] - 2s 2ms/step - loss: 1.6535e-04 - val_loss: 2.5700e-04\n",
      "Epoch 174/300\n",
      "1266/1266 [==============================] - 2s 2ms/step - loss: 1.4153e-04 - val_loss: 2.3608e-04\n",
      "Epoch 175/300\n",
      "1266/1266 [==============================] - 2s 2ms/step - loss: 2.0494e-04 - val_loss: 3.9146e-04\n",
      "Epoch 176/300\n",
      "1266/1266 [==============================] - 2s 2ms/step - loss: 1.2947e-04 - val_loss: 8.3096e-04\n",
      "Epoch 177/300\n",
      "1266/1266 [==============================] - 2s 2ms/step - loss: 3.5318e-04 - val_loss: 1.9060e-04\n",
      "Epoch 178/300\n",
      "1266/1266 [==============================] - 2s 2ms/step - loss: 9.2597e-05 - val_loss: 1.9805e-04\n",
      "Epoch 179/300\n",
      "1266/1266 [==============================] - 2s 2ms/step - loss: 1.1169e-04 - val_loss: 1.5870e-04\n",
      "Epoch 180/300\n",
      "1266/1266 [==============================] - 2s 2ms/step - loss: 1.7662e-04 - val_loss: 3.9919e-04\n",
      "Epoch 181/300\n",
      "1266/1266 [==============================] - 2s 2ms/step - loss: 1.5749e-04 - val_loss: 2.9802e-04\n",
      "Epoch 182/300\n",
      "1266/1266 [==============================] - 2s 2ms/step - loss: 7.7770e-04 - val_loss: 4.8136e-04\n",
      "Epoch 183/300\n",
      "1266/1266 [==============================] - 2s 2ms/step - loss: 1.5447e-04 - val_loss: 2.3660e-04\n",
      "Epoch 184/300\n",
      "1266/1266 [==============================] - 2s 1ms/step - loss: 1.1373e-04 - val_loss: 1.4604e-04\n",
      "Epoch 185/300\n",
      "1266/1266 [==============================] - 2s 2ms/step - loss: 9.7003e-05 - val_loss: 1.3279e-04\n",
      "Epoch 186/300\n",
      "1266/1266 [==============================] - 2s 2ms/step - loss: 2.2014e-04 - val_loss: 2.0687e-04\n",
      "Epoch 187/300\n",
      "1266/1266 [==============================] - 2s 2ms/step - loss: 9.5555e-05 - val_loss: 5.0678e-05\n",
      "Epoch 188/300\n",
      "1266/1266 [==============================] - 2s 2ms/step - loss: 1.1023e-04 - val_loss: 1.1024e-04\n",
      "Epoch 189/300\n",
      "1266/1266 [==============================] - 2s 2ms/step - loss: 1.6624e-04 - val_loss: 5.6789e-04\n",
      "Epoch 190/300\n",
      "1266/1266 [==============================] - 2s 2ms/step - loss: 4.2275e-04 - val_loss: 5.0047e-04\n",
      "Epoch 191/300\n",
      "1266/1266 [==============================] - 2s 2ms/step - loss: 1.9900e-04 - val_loss: 4.0143e-04\n",
      "Epoch 192/300\n",
      "1266/1266 [==============================] - 2s 2ms/step - loss: 8.6568e-05 - val_loss: 2.0823e-04\n",
      "Epoch 193/300\n",
      "1266/1266 [==============================] - 2s 2ms/step - loss: 1.3866e-04 - val_loss: 6.5479e-04\n",
      "Epoch 194/300\n",
      "1266/1266 [==============================] - 2s 2ms/step - loss: 1.1160e-04 - val_loss: 3.2989e-04\n",
      "Epoch 195/300\n",
      "1266/1266 [==============================] - 2s 2ms/step - loss: 1.2151e-04 - val_loss: 1.6915e-04\n",
      "Epoch 196/300\n",
      "1266/1266 [==============================] - 2s 2ms/step - loss: 1.5254e-04 - val_loss: 3.8860e-04\n",
      "Epoch 197/300\n",
      "1266/1266 [==============================] - 2s 2ms/step - loss: 9.2257e-05 - val_loss: 4.3904e-04\n",
      "Epoch 198/300\n",
      "1266/1266 [==============================] - 2s 2ms/step - loss: 1.7725e-04 - val_loss: 3.8578e-04\n",
      "Epoch 199/300\n",
      "1266/1266 [==============================] - 3s 2ms/step - loss: 1.0135e-04 - val_loss: 2.5894e-04\n",
      "Epoch 200/300\n",
      "1266/1266 [==============================] - 2s 2ms/step - loss: 2.0464e-04 - val_loss: 4.7543e-04\n",
      "Epoch 201/300\n",
      "1266/1266 [==============================] - 2s 1ms/step - loss: 8.7815e-05 - val_loss: 2.8213e-04\n",
      "Epoch 202/300\n",
      "1266/1266 [==============================] - 2s 1ms/step - loss: 9.4230e-05 - val_loss: 3.9109e-04\n",
      "Epoch 203/300\n",
      "1266/1266 [==============================] - 2s 1ms/step - loss: 1.9690e-04 - val_loss: 2.3462e-04\n",
      "Epoch 204/300\n",
      "1266/1266 [==============================] - 2s 1ms/step - loss: 1.2860e-04 - val_loss: 4.6182e-04\n",
      "Epoch 205/300\n",
      "1266/1266 [==============================] - 2s 1ms/step - loss: 1.4203e-04 - val_loss: 8.2716e-04\n",
      "Epoch 206/300\n",
      "1266/1266 [==============================] - 2s 1ms/step - loss: 1.2194e-04 - val_loss: 6.8336e-04\n",
      "Epoch 207/300\n",
      "1266/1266 [==============================] - 2s 1ms/step - loss: 2.8739e-04 - val_loss: 8.0232e-04\n",
      "Epoch 208/300\n",
      "1266/1266 [==============================] - 2s 1ms/step - loss: 6.6581e-05 - val_loss: 6.4601e-04\n",
      "Epoch 209/300\n",
      "1266/1266 [==============================] - 2s 1ms/step - loss: 1.1762e-04 - val_loss: 6.0524e-04\n",
      "Epoch 210/300\n",
      "1266/1266 [==============================] - 2s 1ms/step - loss: 1.4595e-04 - val_loss: 6.4688e-04\n",
      "Epoch 211/300\n",
      "1266/1266 [==============================] - 2s 1ms/step - loss: 3.5757e-04 - val_loss: 5.4593e-04\n",
      "Epoch 212/300\n",
      "1266/1266 [==============================] - 2s 2ms/step - loss: 1.5564e-04 - val_loss: 4.2290e-04\n",
      "Epoch 213/300\n",
      "1266/1266 [==============================] - 2s 2ms/step - loss: 1.0194e-04 - val_loss: 0.0011\n",
      "Epoch 214/300\n",
      "1266/1266 [==============================] - 2s 2ms/step - loss: 1.2458e-04 - val_loss: 7.3043e-04\n",
      "Epoch 215/300\n",
      "1266/1266 [==============================] - 2s 2ms/step - loss: 1.3232e-04 - val_loss: 6.0592e-04\n",
      "Epoch 216/300\n",
      "1266/1266 [==============================] - 2s 2ms/step - loss: 1.9271e-04 - val_loss: 5.8961e-04\n",
      "Epoch 217/300\n",
      "1266/1266 [==============================] - 2s 2ms/step - loss: 9.7957e-05 - val_loss: 6.6624e-04\n",
      "Epoch 218/300\n",
      "1266/1266 [==============================] - 2s 2ms/step - loss: 9.6487e-05 - val_loss: 8.0449e-04\n",
      "Epoch 219/300\n",
      "1266/1266 [==============================] - 2s 2ms/step - loss: 7.7185e-04 - val_loss: 3.2233e-04\n",
      "Epoch 220/300\n",
      "1266/1266 [==============================] - 2s 2ms/step - loss: 1.8207e-04 - val_loss: 1.1035e-04\n",
      "Epoch 221/300\n",
      "1266/1266 [==============================] - 2s 2ms/step - loss: 9.3424e-05 - val_loss: 7.8341e-05\n",
      "Epoch 222/300\n",
      "1266/1266 [==============================] - 2s 2ms/step - loss: 1.1512e-04 - val_loss: 5.1025e-05\n",
      "Epoch 223/300\n",
      "1266/1266 [==============================] - 2s 2ms/step - loss: 2.6615e-04 - val_loss: 9.7011e-05\n",
      "Epoch 224/300\n",
      "1266/1266 [==============================] - 2s 2ms/step - loss: 8.2078e-05 - val_loss: 1.7464e-04\n",
      "Epoch 225/300\n",
      "1266/1266 [==============================] - 2s 2ms/step - loss: 7.7435e-05 - val_loss: 6.2446e-05\n",
      "Epoch 226/300\n",
      "1266/1266 [==============================] - 2s 2ms/step - loss: 1.2269e-04 - val_loss: 2.2887e-04\n",
      "Epoch 227/300\n",
      "1266/1266 [==============================] - 2s 2ms/step - loss: 1.2105e-04 - val_loss: 1.5188e-04\n",
      "Epoch 228/300\n",
      "1266/1266 [==============================] - 2s 2ms/step - loss: 1.0390e-04 - val_loss: 8.6825e-04\n",
      "Epoch 229/300\n",
      "1266/1266 [==============================] - 2s 2ms/step - loss: 2.0100e-04 - val_loss: 2.9785e-04\n",
      "Epoch 230/300\n",
      "1266/1266 [==============================] - 2s 1ms/step - loss: 1.7079e-04 - val_loss: 6.2719e-04\n",
      "Epoch 231/300\n",
      "1266/1266 [==============================] - 2s 2ms/step - loss: 7.9499e-05 - val_loss: 4.8626e-04\n",
      "Epoch 232/300\n",
      "1266/1266 [==============================] - 2s 2ms/step - loss: 9.2771e-05 - val_loss: 5.7750e-04\n",
      "Epoch 233/300\n",
      "1266/1266 [==============================] - 2s 2ms/step - loss: 1.2043e-04 - val_loss: 5.5097e-04\n",
      "Epoch 234/300\n",
      "1266/1266 [==============================] - 2s 2ms/step - loss: 2.2752e-04 - val_loss: 1.4670e-04\n",
      "Epoch 235/300\n",
      "1266/1266 [==============================] - 2s 2ms/step - loss: 6.9182e-05 - val_loss: 2.3645e-04\n",
      "Epoch 236/300\n",
      "1266/1266 [==============================] - 2s 2ms/step - loss: 1.0986e-04 - val_loss: 1.2219e-04\n",
      "Epoch 237/300\n",
      "1266/1266 [==============================] - 2s 2ms/step - loss: 7.6470e-05 - val_loss: 3.4946e-04\n",
      "Epoch 238/300\n",
      "1266/1266 [==============================] - 2s 2ms/step - loss: 5.5060e-04 - val_loss: 0.0071\n",
      "Epoch 239/300\n",
      "1266/1266 [==============================] - 2s 2ms/step - loss: 6.5535e-04 - val_loss: 1.9324e-04\n",
      "Epoch 240/300\n",
      "1266/1266 [==============================] - 2s 2ms/step - loss: 9.2446e-05 - val_loss: 1.8658e-04\n",
      "Epoch 241/300\n",
      "1266/1266 [==============================] - 2s 2ms/step - loss: 7.8836e-05 - val_loss: 1.0941e-04\n",
      "Epoch 242/300\n",
      "1266/1266 [==============================] - 2s 2ms/step - loss: 9.3314e-05 - val_loss: 1.0601e-04\n",
      "Epoch 243/300\n",
      "1266/1266 [==============================] - 2s 2ms/step - loss: 1.2258e-04 - val_loss: 3.3537e-04\n",
      "Epoch 244/300\n",
      "1266/1266 [==============================] - 2s 2ms/step - loss: 1.0701e-04 - val_loss: 6.8419e-04\n",
      "Epoch 245/300\n",
      "1266/1266 [==============================] - 2s 2ms/step - loss: 6.6585e-04 - val_loss: 2.0003e-04\n",
      "Epoch 246/300\n",
      "1266/1266 [==============================] - 2s 2ms/step - loss: 1.5209e-04 - val_loss: 8.7410e-05\n",
      "Epoch 247/300\n",
      "1266/1266 [==============================] - 2s 2ms/step - loss: 8.2621e-05 - val_loss: 1.1218e-04\n",
      "Epoch 248/300\n",
      "1266/1266 [==============================] - 2s 2ms/step - loss: 1.1232e-04 - val_loss: 1.3954e-04\n",
      "Epoch 249/300\n",
      "1266/1266 [==============================] - 2s 2ms/step - loss: 3.1287e-04 - val_loss: 6.9629e-05\n",
      "Epoch 250/300\n",
      "1266/1266 [==============================] - 2s 2ms/step - loss: 6.4550e-05 - val_loss: 6.6213e-05\n",
      "Epoch 251/300\n",
      "1266/1266 [==============================] - 2s 2ms/step - loss: 7.5140e-05 - val_loss: 1.3326e-04\n",
      "Epoch 252/300\n",
      "1266/1266 [==============================] - 2s 2ms/step - loss: 1.3978e-04 - val_loss: 7.6034e-05\n",
      "Epoch 253/300\n",
      "1266/1266 [==============================] - 2s 2ms/step - loss: 9.1898e-05 - val_loss: 1.1476e-04\n",
      "Epoch 254/300\n",
      "1266/1266 [==============================] - 2s 2ms/step - loss: 1.0541e-04 - val_loss: 2.7901e-04\n",
      "Epoch 255/300\n",
      "1266/1266 [==============================] - 3s 2ms/step - loss: 8.4569e-05 - val_loss: 1.0656e-04\n",
      "Epoch 256/300\n",
      "1266/1266 [==============================] - 2s 2ms/step - loss: 1.6745e-04 - val_loss: 6.9520e-04\n",
      "Epoch 257/300\n",
      "1266/1266 [==============================] - 2s 2ms/step - loss: 1.4509e-04 - val_loss: 4.7797e-04\n",
      "Epoch 258/300\n",
      "1266/1266 [==============================] - 2s 2ms/step - loss: 6.3412e-05 - val_loss: 3.4861e-04\n",
      "Epoch 259/300\n",
      "1266/1266 [==============================] - 2s 2ms/step - loss: 1.3019e-04 - val_loss: 2.5265e-04\n",
      "Epoch 260/300\n",
      "1266/1266 [==============================] - 2s 2ms/step - loss: 6.6859e-05 - val_loss: 1.9039e-04\n",
      "Epoch 261/300\n",
      "1266/1266 [==============================] - 2s 1ms/step - loss: 1.1687e-04 - val_loss: 3.9848e-04\n",
      "Epoch 262/300\n",
      "1266/1266 [==============================] - 2s 2ms/step - loss: 1.1515e-04 - val_loss: 7.5262e-04\n",
      "Epoch 263/300\n",
      "1266/1266 [==============================] - 2s 2ms/step - loss: 1.4307e-04 - val_loss: 1.5888e-04\n",
      "Epoch 264/300\n",
      "1266/1266 [==============================] - 2s 2ms/step - loss: 9.9565e-05 - val_loss: 4.3765e-04\n",
      "Epoch 265/300\n",
      "1266/1266 [==============================] - 2s 2ms/step - loss: 1.0508e-04 - val_loss: 4.0516e-04\n",
      "Epoch 266/300\n",
      "1266/1266 [==============================] - 2s 2ms/step - loss: 1.2656e-04 - val_loss: 3.9848e-04\n",
      "Epoch 267/300\n",
      "1266/1266 [==============================] - 2s 2ms/step - loss: 1.9045e-04 - val_loss: 7.2274e-04\n",
      "Epoch 268/300\n",
      "1266/1266 [==============================] - 2s 2ms/step - loss: 7.7131e-05 - val_loss: 5.2790e-04\n",
      "Epoch 269/300\n",
      "1266/1266 [==============================] - 2s 2ms/step - loss: 8.4461e-05 - val_loss: 3.9307e-04\n",
      "Epoch 270/300\n",
      "1266/1266 [==============================] - 2s 2ms/step - loss: 1.0782e-04 - val_loss: 3.6628e-04\n",
      "Epoch 271/300\n",
      "1266/1266 [==============================] - 2s 2ms/step - loss: 8.7355e-05 - val_loss: 4.3352e-04\n",
      "Epoch 272/300\n",
      "1266/1266 [==============================] - 2s 2ms/step - loss: 1.6810e-04 - val_loss: 4.7451e-04\n",
      "Epoch 273/300\n",
      "1266/1266 [==============================] - 2s 2ms/step - loss: 6.5704e-05 - val_loss: 4.6061e-04\n",
      "Epoch 274/300\n",
      "1266/1266 [==============================] - 2s 2ms/step - loss: 8.7731e-05 - val_loss: 4.7537e-04\n",
      "Epoch 275/300\n",
      "1266/1266 [==============================] - 2s 2ms/step - loss: 1.0897e-04 - val_loss: 2.4523e-04\n",
      "Epoch 276/300\n",
      "1266/1266 [==============================] - 2s 2ms/step - loss: 6.9518e-05 - val_loss: 2.2379e-04\n",
      "Epoch 277/300\n",
      "1266/1266 [==============================] - 2s 1ms/step - loss: 1.2734e-04 - val_loss: 1.8321e-04\n",
      "Epoch 278/300\n",
      "1266/1266 [==============================] - 2s 1ms/step - loss: 1.0387e-04 - val_loss: 2.2808e-04\n",
      "Epoch 279/300\n",
      "1266/1266 [==============================] - 2s 2ms/step - loss: 7.4877e-05 - val_loss: 7.6840e-05\n",
      "Epoch 280/300\n",
      "1266/1266 [==============================] - 2s 2ms/step - loss: 1.2578e-04 - val_loss: 1.6532e-04\n",
      "Epoch 281/300\n",
      "1266/1266 [==============================] - 2s 2ms/step - loss: 9.8414e-05 - val_loss: 6.9197e-04\n",
      "Epoch 282/300\n",
      "1266/1266 [==============================] - 2s 2ms/step - loss: 1.0065e-04 - val_loss: 1.5691e-04\n",
      "Epoch 283/300\n",
      "1266/1266 [==============================] - 2s 2ms/step - loss: 1.7839e-04 - val_loss: 5.3188e-04\n",
      "Epoch 284/300\n",
      "1266/1266 [==============================] - 2s 2ms/step - loss: 1.7713e-04 - val_loss: 1.7567e-04\n",
      "Epoch 285/300\n",
      "1266/1266 [==============================] - 2s 2ms/step - loss: 6.2512e-05 - val_loss: 1.9609e-04\n",
      "Epoch 286/300\n",
      "1266/1266 [==============================] - 2s 2ms/step - loss: 7.3476e-05 - val_loss: 3.2796e-04\n",
      "Epoch 287/300\n",
      "1266/1266 [==============================] - 2s 2ms/step - loss: 1.3394e-04 - val_loss: 2.9656e-04\n",
      "Epoch 288/300\n",
      "1266/1266 [==============================] - 2s 1ms/step - loss: 6.9359e-05 - val_loss: 2.8787e-04\n",
      "Epoch 289/300\n",
      "1266/1266 [==============================] - 2s 2ms/step - loss: 6.8162e-05 - val_loss: 2.9428e-04\n",
      "Epoch 290/300\n",
      "1266/1266 [==============================] - 2s 2ms/step - loss: 7.7525e-05 - val_loss: 2.7828e-04\n",
      "Epoch 291/300\n",
      "1266/1266 [==============================] - 2s 2ms/step - loss: 8.2727e-05 - val_loss: 4.0381e-04\n",
      "Epoch 292/300\n",
      "1266/1266 [==============================] - 2s 2ms/step - loss: 1.0040e-04 - val_loss: 2.5700e-04\n",
      "Epoch 293/300\n",
      "1266/1266 [==============================] - 2s 2ms/step - loss: 7.3528e-05 - val_loss: 3.6859e-04\n",
      "Epoch 294/300\n",
      "1266/1266 [==============================] - 2s 2ms/step - loss: 1.0853e-04 - val_loss: 4.9810e-04\n",
      "Epoch 295/300\n",
      "1266/1266 [==============================] - 2s 1ms/step - loss: 9.0091e-05 - val_loss: 4.2981e-04\n",
      "Epoch 296/300\n",
      "1266/1266 [==============================] - 2s 1ms/step - loss: 6.3795e-05 - val_loss: 4.4911e-04\n",
      "Epoch 297/300\n",
      "1266/1266 [==============================] - 2s 2ms/step - loss: 7.5293e-05 - val_loss: 4.3584e-04\n",
      "Epoch 298/300\n",
      "1266/1266 [==============================] - 2s 1ms/step - loss: 2.7255e-04 - val_loss: 0.0012\n",
      "Epoch 299/300\n",
      "1266/1266 [==============================] - 2s 1ms/step - loss: 7.5831e-05 - val_loss: 3.2046e-04\n",
      "Epoch 300/300\n",
      "1266/1266 [==============================] - 2s 2ms/step - loss: 6.5566e-05 - val_loss: 9.5109e-05\n"
     ]
    },
    {
     "name": "stderr",
     "output_type": "stream",
     "text": [
      "WARNING:absl:Found untraced functions such as leaky_re_lu_16_layer_call_fn, leaky_re_lu_16_layer_call_and_return_conditional_losses, leaky_re_lu_17_layer_call_fn, leaky_re_lu_17_layer_call_and_return_conditional_losses, leaky_re_lu_18_layer_call_fn while saving (showing 5 of 8). These functions will not be directly callable after loading.\n"
     ]
    },
    {
     "name": "stdout",
     "output_type": "stream",
     "text": [
      "INFO:tensorflow:Assets written to: models/sig_reg\\assets\n"
     ]
    },
    {
     "name": "stderr",
     "output_type": "stream",
     "text": [
      "INFO:tensorflow:Assets written to: models/sig_reg\\assets\n"
     ]
    },
    {
     "name": "stdout",
     "output_type": "stream",
     "text": [
      "CPU times: total: 2min 36s\n",
      "Wall time: 9min 49s\n"
     ]
    }
   ],
   "source": [
    "%%time\n",
    "path = 'models/sig_reg'\n",
    "if (os.path.exists(path)):\n",
    "    model = keras.models.load_model(path)\n",
    "else:\n",
    "    model = keras.Sequential()\n",
    "    model.add(keras.Input(shape=(656)))\n",
    "    model.add(keras.layers.Dense(80, activation=tf.keras.layers.LeakyReLU(alpha=0.5), kernel_initializer=tf.keras.initializers.HeNormal())) #80\n",
    "    model.add(keras.layers.Dense(80, activation=tf.keras.layers.LeakyReLU(alpha=0.5), kernel_initializer=tf.keras.initializers.HeNormal()))\n",
    "    model.add(keras.layers.Dense(80, activation=tf.keras.layers.LeakyReLU(alpha=0.5), kernel_initializer=tf.keras.initializers.HeNormal()))\n",
    "    model.add(keras.layers.Dense(1, activation=tf.keras.layers.LeakyReLU(alpha=0.5)))\n",
    "    model.summary()\n",
    "    model.compile(loss='mse', optimizer=tf.keras.optimizers.Adam(learning_rate=0.0001))\n",
    "    history = model.fit(X_train, y_train, epochs=300, validation_data=(X_test, y_test)) #1000 epocas\n",
    "    model.save(path)"
   ]
  },
  {
   "cell_type": "code",
   "execution_count": 40,
   "id": "804d5dca-da51-4c35-b5fd-3f6bf937b7d7",
   "metadata": {},
   "outputs": [
    {
     "data": {
      "image/png": "[encoded data removed]",
      "text/plain": [
       "<Figure size 640x480 with 1 Axes>"
      ]
     },
     "metadata": {},
     "output_type": "display_data"
    }
   ],
   "source": [
    "plt.plot(history.history['loss'])\n",
    "plt.plot(history.history['val_loss'])\n",
    "plt.show()"
   ]
  },
  {
   "cell_type": "code",
   "execution_count": 41,
   "id": "bdc413ec-1d01-4036-8bab-e4309224cb56",
   "metadata": {},
   "outputs": [
    {
     "name": "stdout",
     "output_type": "stream",
     "text": [
      "141/141 [==============================] - 0s 984us/step\n"
     ]
    }
   ],
   "source": [
    "pred = model.predict(X_test)"
   ]
  },
  {
   "cell_type": "markdown",
   "id": "ca829126-8a2d-4fe7-8d0c-8fd5f358c057",
   "metadata": {},
   "source": [
    "<h3>MAPE</h3>"
   ]
  },
  {
   "cell_type": "code",
   "execution_count": 49,
   "id": "707baab6-c470-401a-b602-c242eb0be5cf",
   "metadata": {
    "tags": []
   },
   "outputs": [
    {
     "data": {
      "text/plain": [
       "2.1428297998652583"
      ]
     },
     "execution_count": 49,
     "metadata": {},
     "output_type": "execute_result"
    }
   ],
   "source": [
    "mean_absolute_percentage_error(y_test, pred)"
   ]
  },
  {
   "cell_type": "markdown",
   "id": "8971af07-8594-4369-87f7-7d81638b6cc6",
   "metadata": {
    "tags": []
   },
   "source": [
    "<h3>R2</h3>"
   ]
  },
  {
   "cell_type": "code",
   "execution_count": 43,
   "id": "cffe12af-b268-4b18-8511-617b6b535422",
   "metadata": {
    "tags": []
   },
   "outputs": [
    {
     "data": {
      "text/plain": [
       "0.9993234790879205"
      ]
     },
     "execution_count": 43,
     "metadata": {},
     "output_type": "execute_result"
    }
   ],
   "source": [
    "r2_score(y_test, pred)"
   ]
  },
  {
   "cell_type": "markdown",
   "id": "0d637ebb-6312-4099-856d-7ef4f92b35da",
   "metadata": {
    "tags": []
   },
   "source": [
    "<h3>Cosine Similarity</h3>"
   ]
  },
  {
   "cell_type": "code",
   "execution_count": 44,
   "id": "9274054a-2ed2-4fcc-836f-a6dd274da9d4",
   "metadata": {
    "tags": []
   },
   "outputs": [
    {
     "name": "stdout",
     "output_type": "stream",
     "text": [
      "[0.9998793]\n"
     ]
    }
   ],
   "source": [
    "print(np.dot(y_test.values, pred)/(np.linalg.norm(y_test.values)*np.linalg.norm(pred)))"
   ]
  },
  {
   "cell_type": "markdown",
   "id": "477770cd-1cb5-470f-a101-18f31bab2e95",
   "metadata": {
    "tags": []
   },
   "source": [
    "<h3>Visualization</h3>"
   ]
  },
  {
   "cell_type": "code",
   "execution_count": 45,
   "id": "91cab019-938e-4f82-b918-a5a38c1f44d5",
   "metadata": {
    "tags": []
   },
   "outputs": [],
   "source": [
    "result = pd.DataFrame()\n",
    "result['y'] = y_test.values\n",
    "result['pred'] = pred\n",
    "result = result.sort_values(by=['y']).reset_index(drop=True)\n",
    "result.to_csv('output\\\\rf_linear_reg.csv', index=False)"
   ]
  },
  {
   "cell_type": "code",
   "execution_count": 46,
   "id": "3186b84f-ecb3-48ac-b08e-14dea22e5105",
   "metadata": {
    "tags": []
   },
   "outputs": [
    {
     "data": {
      "image/png": "[encoded data removed]",
      "text/plain": [
       "<Figure size 1600x1000 with 1 Axes>"
      ]
     },
     "metadata": {},
     "output_type": "display_data"
    }
   ],
   "source": [
    "plt.figure(figsize=(16,10))\n",
    "plt.plot(result['pred'], 'r')\n",
    "plt.plot(result['y'], 'b')\n",
    "plt.xlabel(\"$Istância$\",)\n",
    "plt.ylabel(\"$Dano$\",)\n",
    "plt.legend(['Previsto', 'Analítico'])\n",
    "plt.show()"
   ]
  },
  {
   "cell_type": "code",
   "execution_count": null,
   "id": "09e4a34d-3595-431f-abf6-14ab7c2a418f",
   "metadata": {},
   "outputs": [],
   "source": []
  }
 ],
 "metadata": {
  "kernelspec": {
   "display_name": "Python 3 (ipykernel)",
   "language": "python",
   "name": "python3"
  },
  "language_info": {
   "codemirror_mode": {
    "name": "ipython",
    "version": 3
   },
   "file_extension": ".py",
   "mimetype": "text/x-python",
   "name": "python",
   "nbconvert_exporter": "python",
   "pygments_lexer": "ipython3",
   "version": "3.10.8"
  }
 },
 "nbformat": 4,
 "nbformat_minor": 5
}
