{
 "cells": [
  {
   "cell_type": "code",
   "execution_count": 1,
   "id": "74f78aa7-15d8-4c44-8e24-810219393815",
   "metadata": {},
   "outputs": [],
   "source": [
    "import pandas as pd\n",
    "import tensorflow as tf\n",
    "import numpy as np\n",
    "import matplotlib.pyplot as plt\n",
    "import os\n",
    "\n",
    "from tensorflow import keras\n",
    "from sklearn.model_selection import train_test_split\n",
    "from sklearn.metrics import mean_absolute_percentage_error, r2_score\n",
    "from sklearn.preprocessing import StandardScaler, OneHotEncoder\n",
    "from sklearn.decomposition import PCA"
   ]
  },
  {
   "cell_type": "markdown",
   "id": "994720bf-b54a-4fb0-ae3c-eea3a5b39e24",
   "metadata": {},
   "source": [
    "<h1>Linear Damage</h1>"
   ]
  },
  {
   "cell_type": "code",
   "execution_count": 2,
   "id": "76d4a403-460f-41ed-85f5-1942215d93bb",
   "metadata": {},
   "outputs": [],
   "source": [
    "df = pd.read_csv('input/results_complete_linear.csv')"
   ]
  },
  {
   "cell_type": "code",
   "execution_count": 3,
   "id": "d0935dd9-210a-474b-9a82-aa077ca287b8",
   "metadata": {},
   "outputs": [],
   "source": [
    "X_train, X_test, y_train, y_test = train_test_split(df.drop(['damage'], axis=1), df['damage'], test_size=0.10, random_state=41)"
   ]
  },
  {
   "cell_type": "code",
   "execution_count": 4,
   "id": "1af628b4-0f5f-4722-bd9a-86c4e372bf62",
   "metadata": {},
   "outputs": [],
   "source": [
    "scaler = StandardScaler()\n",
    "hot_encoder = OneHotEncoder(sparse=False)\n",
    "X_train = scaler.fit_transform(X_train)\n",
    "X_test = scaler.transform(X_test)\n",
    "\n",
    "pca = PCA(.95)\n",
    "X_train = pca.fit_transform(X_train)\n",
    "X_test = pca.transform(X_test)"
   ]
  },
  {
   "cell_type": "code",
   "execution_count": 5,
   "id": "fab4ae95-f2fc-436c-acac-8ff44a1e1bc5",
   "metadata": {
    "scrolled": true,
    "tags": []
   },
   "outputs": [
    {
     "name": "stdout",
     "output_type": "stream",
     "text": [
      "Model: \"sequential\"\n",
      "_________________________________________________________________\n",
      " Layer (type)                Output Shape              Param #   \n",
      "=================================================================\n",
      " dense (Dense)               (None, 20)                1160      \n",
      "                                                                 \n",
      " dense_1 (Dense)             (None, 20)                420       \n",
      "                                                                 \n",
      " dense_2 (Dense)             (None, 20)                420       \n",
      "                                                                 \n",
      " dense_3 (Dense)             (None, 1)                 21        \n",
      "                                                                 \n",
      "=================================================================\n",
      "Total params: 2,021\n",
      "Trainable params: 2,021\n",
      "Non-trainable params: 0\n",
      "_________________________________________________________________\n",
      "Epoch 1/100\n",
      "1266/1266 [==============================] - 2s 1ms/step - loss: 2.6868 - val_loss: 0.8728\n",
      "Epoch 2/100\n",
      "1266/1266 [==============================] - 1s 1ms/step - loss: 0.5482 - val_loss: 0.3708\n",
      "Epoch 3/100\n",
      "1266/1266 [==============================] - 1s 1ms/step - loss: 0.2622 - val_loss: 0.2100\n",
      "Epoch 4/100\n",
      "1266/1266 [==============================] - 1s 1ms/step - loss: 0.1565 - val_loss: 0.1360\n",
      "Epoch 5/100\n",
      "1266/1266 [==============================] - 1s 1ms/step - loss: 0.1042 - val_loss: 0.0913\n",
      "Epoch 6/100\n",
      "1266/1266 [==============================] - 1s 1ms/step - loss: 0.0721 - val_loss: 0.0622\n",
      "Epoch 7/100\n",
      "1266/1266 [==============================] - 1s 1ms/step - loss: 0.0513 - val_loss: 0.0456\n",
      "Epoch 8/100\n",
      "1266/1266 [==============================] - 1s 1ms/step - loss: 0.0387 - val_loss: 0.0325\n",
      "Epoch 9/100\n",
      "1266/1266 [==============================] - 1s 1ms/step - loss: 0.0307 - val_loss: 0.0273\n",
      "Epoch 10/100\n",
      "1266/1266 [==============================] - 1s 1ms/step - loss: 0.0253 - val_loss: 0.0221\n",
      "Epoch 11/100\n",
      "1266/1266 [==============================] - 1s 1ms/step - loss: 0.0215 - val_loss: 0.0202\n",
      "Epoch 12/100\n",
      "1266/1266 [==============================] - 1s 1ms/step - loss: 0.0188 - val_loss: 0.0178\n",
      "Epoch 13/100\n",
      "1266/1266 [==============================] - 1s 1ms/step - loss: 0.0164 - val_loss: 0.0150\n",
      "Epoch 14/100\n",
      "1266/1266 [==============================] - 1s 1ms/step - loss: 0.0149 - val_loss: 0.0143\n",
      "Epoch 15/100\n",
      "1266/1266 [==============================] - 1s 1ms/step - loss: 0.0138 - val_loss: 0.0134\n",
      "Epoch 16/100\n",
      "1266/1266 [==============================] - 1s 1ms/step - loss: 0.0128 - val_loss: 0.0115\n",
      "Epoch 17/100\n",
      "1266/1266 [==============================] - 1s 1ms/step - loss: 0.0114 - val_loss: 0.0115\n",
      "Epoch 18/100\n",
      "1266/1266 [==============================] - 1s 1ms/step - loss: 0.0110 - val_loss: 0.0102\n",
      "Epoch 19/100\n",
      "1266/1266 [==============================] - 1s 1ms/step - loss: 0.0097 - val_loss: 0.0093\n",
      "Epoch 20/100\n",
      "1266/1266 [==============================] - 1s 1ms/step - loss: 0.0094 - val_loss: 0.0090\n",
      "Epoch 21/100\n",
      "1266/1266 [==============================] - 1s 1ms/step - loss: 0.0086 - val_loss: 0.0097\n",
      "Epoch 22/100\n",
      "1266/1266 [==============================] - 1s 1ms/step - loss: 0.0082 - val_loss: 0.0169\n",
      "Epoch 23/100\n",
      "1266/1266 [==============================] - 1s 1ms/step - loss: 0.0083 - val_loss: 0.0075\n",
      "Epoch 24/100\n",
      "1266/1266 [==============================] - 1s 1ms/step - loss: 0.0074 - val_loss: 0.0084\n",
      "Epoch 25/100\n",
      "1266/1266 [==============================] - 1s 1ms/step - loss: 0.0070 - val_loss: 0.0065\n",
      "Epoch 26/100\n",
      "1266/1266 [==============================] - 1s 1ms/step - loss: 0.0070 - val_loss: 0.0069\n",
      "Epoch 27/100\n",
      "1266/1266 [==============================] - 1s 1ms/step - loss: 0.0068 - val_loss: 0.0068\n",
      "Epoch 28/100\n",
      "1266/1266 [==============================] - 1s 1ms/step - loss: 0.0063 - val_loss: 0.0059\n",
      "Epoch 29/100\n",
      "1266/1266 [==============================] - 1s 1ms/step - loss: 0.0062 - val_loss: 0.0058\n",
      "Epoch 30/100\n",
      "1266/1266 [==============================] - 1s 1ms/step - loss: 0.0058 - val_loss: 0.0062\n",
      "Epoch 31/100\n",
      "1266/1266 [==============================] - 1s 1ms/step - loss: 0.0056 - val_loss: 0.0052\n",
      "Epoch 32/100\n",
      "1266/1266 [==============================] - 1s 1ms/step - loss: 0.0055 - val_loss: 0.0069\n",
      "Epoch 33/100\n",
      "1266/1266 [==============================] - 1s 1ms/step - loss: 0.0053 - val_loss: 0.0052\n",
      "Epoch 34/100\n",
      "1266/1266 [==============================] - 1s 1ms/step - loss: 0.0053 - val_loss: 0.0048\n",
      "Epoch 35/100\n",
      "1266/1266 [==============================] - 1s 1ms/step - loss: 0.0054 - val_loss: 0.0048\n",
      "Epoch 36/100\n",
      "1266/1266 [==============================] - 1s 1ms/step - loss: 0.0047 - val_loss: 0.0049\n",
      "Epoch 37/100\n",
      "1266/1266 [==============================] - 1s 1ms/step - loss: 0.0046 - val_loss: 0.0048\n",
      "Epoch 38/100\n",
      "1266/1266 [==============================] - 1s 1ms/step - loss: 0.0046 - val_loss: 0.0044\n",
      "Epoch 39/100\n",
      "1266/1266 [==============================] - 1s 1ms/step - loss: 0.0046 - val_loss: 0.0044\n",
      "Epoch 40/100\n",
      "1266/1266 [==============================] - 1s 1ms/step - loss: 0.0043 - val_loss: 0.0046\n",
      "Epoch 41/100\n",
      "1266/1266 [==============================] - 1s 1ms/step - loss: 0.0043 - val_loss: 0.0053\n",
      "Epoch 42/100\n",
      "1266/1266 [==============================] - 1s 1ms/step - loss: 0.0044 - val_loss: 0.0043\n",
      "Epoch 43/100\n",
      "1266/1266 [==============================] - 1s 1ms/step - loss: 0.0040 - val_loss: 0.0039\n",
      "Epoch 44/100\n",
      "1266/1266 [==============================] - 1s 1ms/step - loss: 0.0043 - val_loss: 0.0038\n",
      "Epoch 45/100\n",
      "1266/1266 [==============================] - 1s 1ms/step - loss: 0.0037 - val_loss: 0.0038\n",
      "Epoch 46/100\n",
      "1266/1266 [==============================] - 1s 1ms/step - loss: 0.0038 - val_loss: 0.0040\n",
      "Epoch 47/100\n",
      "1266/1266 [==============================] - 1s 1ms/step - loss: 0.0038 - val_loss: 0.0044\n",
      "Epoch 48/100\n",
      "1266/1266 [==============================] - 1s 1ms/step - loss: 0.0037 - val_loss: 0.0036\n",
      "Epoch 49/100\n",
      "1266/1266 [==============================] - 1s 1ms/step - loss: 0.0041 - val_loss: 0.0034\n",
      "Epoch 50/100\n",
      "1266/1266 [==============================] - 1s 1ms/step - loss: 0.0033 - val_loss: 0.0037\n",
      "Epoch 51/100\n",
      "1266/1266 [==============================] - 1s 1ms/step - loss: 0.0034 - val_loss: 0.0033\n",
      "Epoch 52/100\n",
      "1266/1266 [==============================] - 1s 1ms/step - loss: 0.0034 - val_loss: 0.0033\n",
      "Epoch 53/100\n",
      "1266/1266 [==============================] - 1s 1ms/step - loss: 0.0033 - val_loss: 0.0032\n",
      "Epoch 54/100\n",
      "1266/1266 [==============================] - 1s 1ms/step - loss: 0.0033 - val_loss: 0.0034\n",
      "Epoch 55/100\n",
      "1266/1266 [==============================] - 1s 1ms/step - loss: 0.0035 - val_loss: 0.0039\n",
      "Epoch 56/100\n",
      "1266/1266 [==============================] - 1s 1ms/step - loss: 0.0033 - val_loss: 0.0037\n",
      "Epoch 57/100\n",
      "1266/1266 [==============================] - 1s 1ms/step - loss: 0.0030 - val_loss: 0.0031\n",
      "Epoch 58/100\n",
      "1266/1266 [==============================] - 1s 1ms/step - loss: 0.0033 - val_loss: 0.0030\n",
      "Epoch 59/100\n",
      "1266/1266 [==============================] - 1s 1ms/step - loss: 0.0033 - val_loss: 0.0034\n",
      "Epoch 60/100\n",
      "1266/1266 [==============================] - 1s 1ms/step - loss: 0.0029 - val_loss: 0.0030\n",
      "Epoch 61/100\n",
      "1266/1266 [==============================] - 1s 1ms/step - loss: 0.0029 - val_loss: 0.0034\n",
      "Epoch 62/100\n",
      "1266/1266 [==============================] - 1s 1ms/step - loss: 0.0031 - val_loss: 0.0031\n",
      "Epoch 63/100\n",
      "1266/1266 [==============================] - 1s 1ms/step - loss: 0.0028 - val_loss: 0.0033\n",
      "Epoch 64/100\n",
      "1266/1266 [==============================] - 1s 1ms/step - loss: 0.0027 - val_loss: 0.0031\n",
      "Epoch 65/100\n",
      "1266/1266 [==============================] - 1s 1ms/step - loss: 0.0027 - val_loss: 0.0030\n",
      "Epoch 66/100\n",
      "1266/1266 [==============================] - 1s 1ms/step - loss: 0.0029 - val_loss: 0.0033\n",
      "Epoch 67/100\n",
      "1266/1266 [==============================] - 1s 1ms/step - loss: 0.0026 - val_loss: 0.0030\n",
      "Epoch 68/100\n",
      "1266/1266 [==============================] - 1s 1ms/step - loss: 0.0029 - val_loss: 0.0033\n",
      "Epoch 69/100\n",
      "1266/1266 [==============================] - 1s 1ms/step - loss: 0.0026 - val_loss: 0.0043\n",
      "Epoch 70/100\n",
      "1266/1266 [==============================] - 1s 1ms/step - loss: 0.0026 - val_loss: 0.0045\n",
      "Epoch 71/100\n",
      "1266/1266 [==============================] - 1s 1ms/step - loss: 0.0024 - val_loss: 0.0027\n",
      "Epoch 72/100\n",
      "1266/1266 [==============================] - 1s 1ms/step - loss: 0.0026 - val_loss: 0.0027\n",
      "Epoch 73/100\n",
      "1266/1266 [==============================] - 1s 1ms/step - loss: 0.0028 - val_loss: 0.0027\n",
      "Epoch 74/100\n",
      "1266/1266 [==============================] - 1s 1ms/step - loss: 0.0024 - val_loss: 0.0034\n",
      "Epoch 75/100\n",
      "1266/1266 [==============================] - 1s 1ms/step - loss: 0.0025 - val_loss: 0.0027\n",
      "Epoch 76/100\n",
      "1266/1266 [==============================] - 1s 1ms/step - loss: 0.0023 - val_loss: 0.0042\n",
      "Epoch 77/100\n",
      "1266/1266 [==============================] - 1s 1ms/step - loss: 0.0024 - val_loss: 0.0028\n",
      "Epoch 78/100\n",
      "1266/1266 [==============================] - 1s 1ms/step - loss: 0.0024 - val_loss: 0.0024\n",
      "Epoch 79/100\n",
      "1266/1266 [==============================] - 1s 1ms/step - loss: 0.0026 - val_loss: 0.0028\n",
      "Epoch 80/100\n",
      "1266/1266 [==============================] - 1s 1ms/step - loss: 0.0023 - val_loss: 0.0027\n",
      "Epoch 81/100\n",
      "1266/1266 [==============================] - 1s 1ms/step - loss: 0.0023 - val_loss: 0.0026\n",
      "Epoch 82/100\n",
      "1266/1266 [==============================] - 1s 1ms/step - loss: 0.0022 - val_loss: 0.0025\n",
      "Epoch 83/100\n",
      "1266/1266 [==============================] - 1s 1ms/step - loss: 0.0023 - val_loss: 0.0025\n",
      "Epoch 84/100\n",
      "1266/1266 [==============================] - 1s 1ms/step - loss: 0.0024 - val_loss: 0.0023\n",
      "Epoch 85/100\n",
      "1266/1266 [==============================] - 1s 1ms/step - loss: 0.0021 - val_loss: 0.0025\n",
      "Epoch 86/100\n",
      "1266/1266 [==============================] - 1s 1ms/step - loss: 0.0021 - val_loss: 0.0024\n",
      "Epoch 87/100\n",
      "1266/1266 [==============================] - 1s 1ms/step - loss: 0.0022 - val_loss: 0.0024\n",
      "Epoch 88/100\n",
      "1266/1266 [==============================] - 1s 1ms/step - loss: 0.0022 - val_loss: 0.0024\n",
      "Epoch 89/100\n",
      "1266/1266 [==============================] - 1s 1ms/step - loss: 0.0025 - val_loss: 0.0025\n",
      "Epoch 90/100\n",
      "1266/1266 [==============================] - 1s 1ms/step - loss: 0.0020 - val_loss: 0.0027\n",
      "Epoch 91/100\n",
      "1266/1266 [==============================] - 1s 1ms/step - loss: 0.0022 - val_loss: 0.0022\n",
      "Epoch 92/100\n",
      "1266/1266 [==============================] - 1s 1ms/step - loss: 0.0020 - val_loss: 0.0022\n",
      "Epoch 93/100\n",
      "1266/1266 [==============================] - 1s 1ms/step - loss: 0.0020 - val_loss: 0.0024\n",
      "Epoch 94/100\n",
      "1266/1266 [==============================] - 1s 1ms/step - loss: 0.0024 - val_loss: 0.0023\n",
      "Epoch 95/100\n",
      "1266/1266 [==============================] - 1s 1ms/step - loss: 0.0019 - val_loss: 0.0021\n",
      "Epoch 96/100\n",
      "1266/1266 [==============================] - 1s 1ms/step - loss: 0.0021 - val_loss: 0.0023\n",
      "Epoch 97/100\n",
      "1266/1266 [==============================] - 1s 1ms/step - loss: 0.0021 - val_loss: 0.0022\n",
      "Epoch 98/100\n",
      "1266/1266 [==============================] - 1s 1ms/step - loss: 0.0020 - val_loss: 0.0026\n",
      "Epoch 99/100\n",
      "1266/1266 [==============================] - 1s 1ms/step - loss: 0.0021 - val_loss: 0.0035\n",
      "Epoch 100/100\n",
      "1266/1266 [==============================] - 1s 1ms/step - loss: 0.0019 - val_loss: 0.0022\n"
     ]
    },
    {
     "name": "stderr",
     "output_type": "stream",
     "text": [
      "WARNING:absl:Found untraced functions such as leaky_re_lu_layer_call_fn, leaky_re_lu_layer_call_and_return_conditional_losses, leaky_re_lu_1_layer_call_fn, leaky_re_lu_1_layer_call_and_return_conditional_losses, leaky_re_lu_2_layer_call_fn while saving (showing 5 of 8). These functions will not be directly callable after loading.\n"
     ]
    },
    {
     "name": "stdout",
     "output_type": "stream",
     "text": [
      "INFO:tensorflow:Assets written to: models/linear_reg_pca\\assets\n"
     ]
    },
    {
     "name": "stderr",
     "output_type": "stream",
     "text": [
      "INFO:tensorflow:Assets written to: models/linear_reg_pca\\assets\n"
     ]
    },
    {
     "name": "stdout",
     "output_type": "stream",
     "text": [
      "CPU times: total: 38.9 s\n",
      "Wall time: 2min 18s\n"
     ]
    }
   ],
   "source": [
    "%%time\n",
    "path = 'models/linear_reg_pca'\n",
    "if (os.path.exists(path)):\n",
    "    model = keras.models.load_model(path)\n",
    "else:\n",
    "    model = keras.Sequential()\n",
    "    model.add(keras.Input(shape=(int(pca.n_components_))))\n",
    "    model.add(keras.layers.Dense(20, activation=tf.keras.layers.LeakyReLU(alpha=0.5), kernel_initializer=tf.keras.initializers.HeNormal())) #80\n",
    "    model.add(keras.layers.Dense(20, activation=tf.keras.layers.LeakyReLU(alpha=0.5), kernel_initializer=tf.keras.initializers.HeNormal()))\n",
    "    model.add(keras.layers.Dense(20, activation=tf.keras.layers.LeakyReLU(alpha=0.5), kernel_initializer=tf.keras.initializers.HeNormal()))\n",
    "    model.add(keras.layers.Dense(1, activation=tf.keras.layers.LeakyReLU(alpha=0.5), kernel_initializer=tf.keras.initializers.HeNormal()))\n",
    "    model.summary()\n",
    "    model.compile(loss='mse', optimizer=tf.keras.optimizers.Adam(learning_rate=0.0001))\n",
    "    history = model.fit(X_train, y_train, epochs=100, validation_data=(X_test, y_test)) #1000 epocas\n",
    "    model.save(path)"
   ]
  },
  {
   "cell_type": "code",
   "execution_count": 6,
   "id": "e9be2663-ca79-46a7-bbbb-460f09cce5e6",
   "metadata": {},
   "outputs": [
    {
     "data": {
      "image/png": "[encoded data removed]",
      "text/plain": [
       "<Figure size 640x480 with 1 Axes>"
      ]
     },
     "metadata": {},
     "output_type": "display_data"
    }
   ],
   "source": [
    "plt.plot(history.history['loss'])\n",
    "plt.plot(history.history['val_loss'])\n",
    "plt.show()"
   ]
  },
  {
   "cell_type": "markdown",
   "id": "5de61fe2-ea4d-4cc4-aa32-abed3ad331a6",
   "metadata": {},
   "source": [
    "<h3>MAPE</h3>"
   ]
  },
  {
   "cell_type": "code",
   "execution_count": 7,
   "id": "091fb9e5-5ea4-48ad-8868-5b2420ad7b9f",
   "metadata": {
    "tags": []
   },
   "outputs": [
    {
     "name": "stdout",
     "output_type": "stream",
     "text": [
      "141/141 [==============================] - 0s 677us/step\n"
     ]
    }
   ],
   "source": [
    "pred = model.predict(X_test)"
   ]
  },
  {
   "cell_type": "code",
   "execution_count": 8,
   "id": "24ae082e-e49c-479a-a261-573804dd0d65",
   "metadata": {
    "tags": []
   },
   "outputs": [
    {
     "data": {
      "text/plain": [
       "0.17355517345591817"
      ]
     },
     "execution_count": 8,
     "metadata": {},
     "output_type": "execute_result"
    }
   ],
   "source": [
    "mean_absolute_percentage_error(y_test, pred)"
   ]
  },
  {
   "cell_type": "markdown",
   "id": "45de0341-ec00-486c-bc78-ac5db0626821",
   "metadata": {
    "tags": []
   },
   "source": [
    "<h3>R2</h3>"
   ]
  },
  {
   "cell_type": "code",
   "execution_count": 9,
   "id": "55457d7e-1c5f-4649-8ba4-cff5496ca030",
   "metadata": {
    "tags": []
   },
   "outputs": [
    {
     "data": {
      "text/plain": [
       "0.9725002783999803"
      ]
     },
     "execution_count": 9,
     "metadata": {},
     "output_type": "execute_result"
    }
   ],
   "source": [
    "r2_score(y_test, pred)"
   ]
  },
  {
   "cell_type": "markdown",
   "id": "059c9f29-e70c-4ef0-99d4-637c749cbb6b",
   "metadata": {
    "tags": []
   },
   "source": [
    "<h3>Cosine Similarity</h3>"
   ]
  },
  {
   "cell_type": "code",
   "execution_count": 10,
   "id": "824a2f00-70e2-44d1-845a-98d622be9bcc",
   "metadata": {
    "tags": []
   },
   "outputs": [
    {
     "name": "stdout",
     "output_type": "stream",
     "text": [
      "[0.99666545]\n"
     ]
    }
   ],
   "source": [
    "print(np.dot(y_test.values, pred)/(np.linalg.norm(y_test.values)*np.linalg.norm(pred)))"
   ]
  },
  {
   "cell_type": "markdown",
   "id": "098fb517-8f6a-4ef4-9a57-d358aaa321b9",
   "metadata": {
    "tags": []
   },
   "source": [
    "<h3>Visualization</h3>"
   ]
  },
  {
   "cell_type": "code",
   "execution_count": 11,
   "id": "064aa533-936c-452a-9f53-dd9e0a0b45b7",
   "metadata": {
    "tags": []
   },
   "outputs": [],
   "source": [
    "result = pd.DataFrame()\n",
    "result['y'] = y_test.values\n",
    "result['pred'] = pred\n",
    "result = result.sort_values(by=['y']).reset_index(drop=True)\n",
    "result.to_csv('output\\\\mlp_linear_reg_pca.csv', index=False)"
   ]
  },
  {
   "cell_type": "code",
   "execution_count": 12,
   "id": "59611f1f-f7fb-4a7f-a3de-2541dfb3468c",
   "metadata": {
    "tags": []
   },
   "outputs": [
    {
     "data": {
      "image/png": "[encoded data removed]",
      "text/plain": [
       "<Figure size 1600x1000 with 1 Axes>"
      ]
     },
     "metadata": {},
     "output_type": "display_data"
    }
   ],
   "source": [
    "plt.figure(figsize=(16,10))\n",
    "plt.plot(result['pred'], 'r')\n",
    "plt.plot(result['y'], 'b')\n",
    "plt.xlabel(\"$Istância$\",)\n",
    "plt.ylabel(\"$Dano$\",)\n",
    "plt.legend(['Previsto', 'Analítico'])\n",
    "plt.show()"
   ]
  },
  {
   "cell_type": "markdown",
   "id": "fa51af58-9ede-46e3-99ed-0164c6834c82",
   "metadata": {},
   "source": [
    "<h1>Exponential Damage</h1>"
   ]
  },
  {
   "cell_type": "code",
   "execution_count": 13,
   "id": "fda86b57-083d-4b8a-879c-09a51d46aae1",
   "metadata": {},
   "outputs": [],
   "source": [
    "df_exp = pd.read_csv('input/results_complete_exponential.csv')"
   ]
  },
  {
   "cell_type": "code",
   "execution_count": 14,
   "id": "9eff74c0-769f-4685-9a72-f69724210c78",
   "metadata": {},
   "outputs": [],
   "source": [
    "X_train, X_test, y_train, y_test = train_test_split(df_exp.drop(['damage'], axis=1), df_exp['damage'], test_size=0.10, random_state=41)"
   ]
  },
  {
   "cell_type": "code",
   "execution_count": 15,
   "id": "815cc01f-7962-4f05-b49d-1de62fd5eb6e",
   "metadata": {},
   "outputs": [],
   "source": [
    "scaler = StandardScaler()\n",
    "hot_encoder = OneHotEncoder(sparse=False)\n",
    "X_train = scaler.fit_transform(X_train)\n",
    "X_test = scaler.transform(X_test)\n",
    "\n",
    "pca = PCA(.95)\n",
    "X_train = pca.fit_transform(X_train)\n",
    "X_test = pca.transform(X_test)"
   ]
  },
  {
   "cell_type": "code",
   "execution_count": 16,
   "id": "45c553a7-f94f-43df-9032-385155de8e94",
   "metadata": {
    "scrolled": true,
    "tags": []
   },
   "outputs": [
    {
     "name": "stdout",
     "output_type": "stream",
     "text": [
      "Model: \"sequential_1\"\n",
      "_________________________________________________________________\n",
      " Layer (type)                Output Shape              Param #   \n",
      "=================================================================\n",
      " dense_4 (Dense)             (None, 20)                1220      \n",
      "                                                                 \n",
      " dense_5 (Dense)             (None, 20)                420       \n",
      "                                                                 \n",
      " dense_6 (Dense)             (None, 20)                420       \n",
      "                                                                 \n",
      " dense_7 (Dense)             (None, 1)                 21        \n",
      "                                                                 \n",
      "=================================================================\n",
      "Total params: 2,081\n",
      "Trainable params: 2,081\n",
      "Non-trainable params: 0\n",
      "_________________________________________________________________\n",
      "Epoch 1/100\n",
      "1266/1266 [==============================] - 2s 1ms/step - loss: 4.2328 - val_loss: 0.8678\n",
      "Epoch 2/100\n",
      "1266/1266 [==============================] - 1s 1ms/step - loss: 0.5429 - val_loss: 0.3776\n",
      "Epoch 3/100\n",
      "1266/1266 [==============================] - 1s 1ms/step - loss: 0.2757 - val_loss: 0.2049\n",
      "Epoch 4/100\n",
      "1266/1266 [==============================] - 1s 1ms/step - loss: 0.1587 - val_loss: 0.1242\n",
      "Epoch 5/100\n",
      "1266/1266 [==============================] - 1s 1ms/step - loss: 0.1047 - val_loss: 0.0858\n",
      "Epoch 6/100\n",
      "1266/1266 [==============================] - 1s 1ms/step - loss: 0.0743 - val_loss: 0.0608\n",
      "Epoch 7/100\n",
      "1266/1266 [==============================] - 1s 1ms/step - loss: 0.0548 - val_loss: 0.0470\n",
      "Epoch 8/100\n",
      "1266/1266 [==============================] - 1s 1ms/step - loss: 0.0430 - val_loss: 0.0370\n",
      "Epoch 9/100\n",
      "1266/1266 [==============================] - 1s 1ms/step - loss: 0.0348 - val_loss: 0.0310\n",
      "Epoch 10/100\n",
      "1266/1266 [==============================] - 1s 1ms/step - loss: 0.0293 - val_loss: 0.0263\n",
      "Epoch 11/100\n",
      "1266/1266 [==============================] - 1s 1ms/step - loss: 0.0256 - val_loss: 0.0368\n",
      "Epoch 12/100\n",
      "1266/1266 [==============================] - 1s 1ms/step - loss: 0.0233 - val_loss: 0.0207\n",
      "Epoch 13/100\n",
      "1266/1266 [==============================] - 1s 1ms/step - loss: 0.0207 - val_loss: 0.0197\n",
      "Epoch 14/100\n",
      "1266/1266 [==============================] - 1s 1ms/step - loss: 0.0195 - val_loss: 0.0186\n",
      "Epoch 15/100\n",
      "1266/1266 [==============================] - 1s 1ms/step - loss: 0.0178 - val_loss: 0.0174\n",
      "Epoch 16/100\n",
      "1266/1266 [==============================] - 1s 1ms/step - loss: 0.0169 - val_loss: 0.0158\n",
      "Epoch 17/100\n",
      "1266/1266 [==============================] - 1s 1ms/step - loss: 0.0160 - val_loss: 0.0144\n",
      "Epoch 18/100\n",
      "1266/1266 [==============================] - 1s 1ms/step - loss: 0.0149 - val_loss: 0.0153\n",
      "Epoch 19/100\n",
      "1266/1266 [==============================] - 1s 1ms/step - loss: 0.0149 - val_loss: 0.0137\n",
      "Epoch 20/100\n",
      "1266/1266 [==============================] - 1s 1ms/step - loss: 0.0147 - val_loss: 0.0127\n",
      "Epoch 21/100\n",
      "1266/1266 [==============================] - 1s 1ms/step - loss: 0.0131 - val_loss: 0.0125\n",
      "Epoch 22/100\n",
      "1266/1266 [==============================] - 1s 1ms/step - loss: 0.0128 - val_loss: 0.0125\n",
      "Epoch 23/100\n",
      "1266/1266 [==============================] - 1s 1ms/step - loss: 0.0126 - val_loss: 0.0118\n",
      "Epoch 24/100\n",
      "1266/1266 [==============================] - 1s 1ms/step - loss: 0.0120 - val_loss: 0.0110\n",
      "Epoch 25/100\n",
      "1266/1266 [==============================] - 1s 1ms/step - loss: 0.0117 - val_loss: 0.0131\n",
      "Epoch 26/100\n",
      "1266/1266 [==============================] - 1s 1ms/step - loss: 0.0115 - val_loss: 0.0105\n",
      "Epoch 27/100\n",
      "1266/1266 [==============================] - 1s 1ms/step - loss: 0.0106 - val_loss: 0.0104\n",
      "Epoch 28/100\n",
      "1266/1266 [==============================] - 1s 1ms/step - loss: 0.0101 - val_loss: 0.0140\n",
      "Epoch 29/100\n",
      "1266/1266 [==============================] - 1s 1ms/step - loss: 0.0099 - val_loss: 0.0093\n",
      "Epoch 30/100\n",
      "1266/1266 [==============================] - 1s 1ms/step - loss: 0.0100 - val_loss: 0.0093\n",
      "Epoch 31/100\n",
      "1266/1266 [==============================] - 1s 1ms/step - loss: 0.0093 - val_loss: 0.0092\n",
      "Epoch 32/100\n",
      "1266/1266 [==============================] - 1s 1ms/step - loss: 0.0097 - val_loss: 0.0101\n",
      "Epoch 33/100\n",
      "1266/1266 [==============================] - 1s 1ms/step - loss: 0.0088 - val_loss: 0.0083\n",
      "Epoch 34/100\n",
      "1266/1266 [==============================] - 1s 1ms/step - loss: 0.0091 - val_loss: 0.0084\n",
      "Epoch 35/100\n",
      "1266/1266 [==============================] - 1s 1ms/step - loss: 0.0084 - val_loss: 0.0080\n",
      "Epoch 36/100\n",
      "1266/1266 [==============================] - 1s 1ms/step - loss: 0.0083 - val_loss: 0.0085\n",
      "Epoch 37/100\n",
      "1266/1266 [==============================] - 1s 1ms/step - loss: 0.0080 - val_loss: 0.0079\n",
      "Epoch 38/100\n",
      "1266/1266 [==============================] - 1s 1ms/step - loss: 0.0082 - val_loss: 0.0079\n",
      "Epoch 39/100\n",
      "1266/1266 [==============================] - 1s 1ms/step - loss: 0.0080 - val_loss: 0.0072\n",
      "Epoch 40/100\n",
      "1266/1266 [==============================] - 1s 1ms/step - loss: 0.0078 - val_loss: 0.0071\n",
      "Epoch 41/100\n",
      "1266/1266 [==============================] - 1s 1ms/step - loss: 0.0070 - val_loss: 0.0075\n",
      "Epoch 42/100\n",
      "1266/1266 [==============================] - 1s 1ms/step - loss: 0.0077 - val_loss: 0.0069\n",
      "Epoch 43/100\n",
      "1266/1266 [==============================] - 1s 1ms/step - loss: 0.0070 - val_loss: 0.0068\n",
      "Epoch 44/100\n",
      "1266/1266 [==============================] - 1s 1ms/step - loss: 0.0070 - val_loss: 0.0069\n",
      "Epoch 45/100\n",
      "1266/1266 [==============================] - 1s 1ms/step - loss: 0.0071 - val_loss: 0.0064\n",
      "Epoch 46/100\n",
      "1266/1266 [==============================] - 1s 1ms/step - loss: 0.0067 - val_loss: 0.0067\n",
      "Epoch 47/100\n",
      "1266/1266 [==============================] - 1s 1ms/step - loss: 0.0063 - val_loss: 0.0064\n",
      "Epoch 48/100\n",
      "1266/1266 [==============================] - 1s 1ms/step - loss: 0.0064 - val_loss: 0.0062\n",
      "Epoch 49/100\n",
      "1266/1266 [==============================] - 1s 1ms/step - loss: 0.0066 - val_loss: 0.0059\n",
      "Epoch 50/100\n",
      "1266/1266 [==============================] - 1s 1ms/step - loss: 0.0066 - val_loss: 0.0057\n",
      "Epoch 51/100\n",
      "1266/1266 [==============================] - 1s 1ms/step - loss: 0.0058 - val_loss: 0.0058\n",
      "Epoch 52/100\n",
      "1266/1266 [==============================] - 1s 1ms/step - loss: 0.0059 - val_loss: 0.0056\n",
      "Epoch 53/100\n",
      "1266/1266 [==============================] - 1s 1ms/step - loss: 0.0060 - val_loss: 0.0064\n",
      "Epoch 54/100\n",
      "1266/1266 [==============================] - 1s 1ms/step - loss: 0.0057 - val_loss: 0.0052\n",
      "Epoch 55/100\n",
      "1266/1266 [==============================] - 2s 1ms/step - loss: 0.0058 - val_loss: 0.0064\n",
      "Epoch 56/100\n",
      "1266/1266 [==============================] - 1s 1ms/step - loss: 0.0057 - val_loss: 0.0054\n",
      "Epoch 57/100\n",
      "1266/1266 [==============================] - 1s 1ms/step - loss: 0.0055 - val_loss: 0.0056\n",
      "Epoch 58/100\n",
      "1266/1266 [==============================] - 1s 1ms/step - loss: 0.0058 - val_loss: 0.0058\n",
      "Epoch 59/100\n",
      "1266/1266 [==============================] - 1s 1ms/step - loss: 0.0054 - val_loss: 0.0051\n",
      "Epoch 60/100\n",
      "1266/1266 [==============================] - 1s 1ms/step - loss: 0.0060 - val_loss: 0.0088\n",
      "Epoch 61/100\n",
      "1266/1266 [==============================] - 1s 1ms/step - loss: 0.0050 - val_loss: 0.0163\n",
      "Epoch 62/100\n",
      "1266/1266 [==============================] - 1s 1ms/step - loss: 0.0052 - val_loss: 0.0048\n",
      "Epoch 63/100\n",
      "1266/1266 [==============================] - 1s 1ms/step - loss: 0.0048 - val_loss: 0.0052\n",
      "Epoch 64/100\n",
      "1266/1266 [==============================] - 1s 1ms/step - loss: 0.0053 - val_loss: 0.0048\n",
      "Epoch 65/100\n",
      "1266/1266 [==============================] - 1s 1ms/step - loss: 0.0048 - val_loss: 0.0046\n",
      "Epoch 66/100\n",
      "1266/1266 [==============================] - 1s 1ms/step - loss: 0.0046 - val_loss: 0.0047\n",
      "Epoch 67/100\n",
      "1266/1266 [==============================] - 1s 1ms/step - loss: 0.0058 - val_loss: 0.0057\n",
      "Epoch 68/100\n",
      "1266/1266 [==============================] - 1s 1ms/step - loss: 0.0045 - val_loss: 0.0043\n",
      "Epoch 69/100\n",
      "1266/1266 [==============================] - 1s 1ms/step - loss: 0.0046 - val_loss: 0.0045\n",
      "Epoch 70/100\n",
      "1266/1266 [==============================] - 1s 1ms/step - loss: 0.0049 - val_loss: 0.0057\n",
      "Epoch 71/100\n",
      "1266/1266 [==============================] - 1s 1ms/step - loss: 0.0043 - val_loss: 0.0048\n",
      "Epoch 72/100\n",
      "1266/1266 [==============================] - 1s 1ms/step - loss: 0.0046 - val_loss: 0.0050\n",
      "Epoch 73/100\n",
      "1266/1266 [==============================] - 1s 1ms/step - loss: 0.0047 - val_loss: 0.0045\n",
      "Epoch 74/100\n",
      "1266/1266 [==============================] - 1s 1ms/step - loss: 0.0044 - val_loss: 0.0043\n",
      "Epoch 75/100\n",
      "1266/1266 [==============================] - 1s 1ms/step - loss: 0.0042 - val_loss: 0.0041\n",
      "Epoch 76/100\n",
      "1266/1266 [==============================] - 1s 1ms/step - loss: 0.0046 - val_loss: 0.0044\n",
      "Epoch 77/100\n",
      "1266/1266 [==============================] - 1s 1ms/step - loss: 0.0040 - val_loss: 0.0044\n",
      "Epoch 78/100\n",
      "1266/1266 [==============================] - 1s 1ms/step - loss: 0.0041 - val_loss: 0.0042\n",
      "Epoch 79/100\n",
      "1266/1266 [==============================] - 1s 1ms/step - loss: 0.0044 - val_loss: 0.0039\n",
      "Epoch 80/100\n",
      "1266/1266 [==============================] - 1s 1ms/step - loss: 0.0044 - val_loss: 0.0038\n",
      "Epoch 81/100\n",
      "1266/1266 [==============================] - 1s 1ms/step - loss: 0.0043 - val_loss: 0.0039\n",
      "Epoch 82/100\n",
      "1266/1266 [==============================] - 1s 1ms/step - loss: 0.0040 - val_loss: 0.0083\n",
      "Epoch 83/100\n",
      "1266/1266 [==============================] - 1s 1ms/step - loss: 0.0040 - val_loss: 0.0036\n",
      "Epoch 84/100\n",
      "1266/1266 [==============================] - 1s 1ms/step - loss: 0.0040 - val_loss: 0.0039\n",
      "Epoch 85/100\n",
      "1266/1266 [==============================] - 1s 1ms/step - loss: 0.0042 - val_loss: 0.0038\n",
      "Epoch 86/100\n",
      "1266/1266 [==============================] - 1s 1ms/step - loss: 0.0043 - val_loss: 0.0035\n",
      "Epoch 87/100\n",
      "1266/1266 [==============================] - 1s 1ms/step - loss: 0.0036 - val_loss: 0.0064\n",
      "Epoch 88/100\n",
      "1266/1266 [==============================] - 1s 1ms/step - loss: 0.0043 - val_loss: 0.0037\n",
      "Epoch 89/100\n",
      "1266/1266 [==============================] - 1s 1ms/step - loss: 0.0040 - val_loss: 0.0051\n",
      "Epoch 90/100\n",
      "1266/1266 [==============================] - 1s 1ms/step - loss: 0.0037 - val_loss: 0.0035\n",
      "Epoch 91/100\n",
      "1266/1266 [==============================] - 1s 1ms/step - loss: 0.0040 - val_loss: 0.0032\n",
      "Epoch 92/100\n",
      "1266/1266 [==============================] - 1s 1ms/step - loss: 0.0036 - val_loss: 0.0034\n",
      "Epoch 93/100\n",
      "1266/1266 [==============================] - 1s 1ms/step - loss: 0.0036 - val_loss: 0.0033\n",
      "Epoch 94/100\n",
      "1266/1266 [==============================] - 1s 1ms/step - loss: 0.0036 - val_loss: 0.0038\n",
      "Epoch 95/100\n",
      "1266/1266 [==============================] - 1s 1ms/step - loss: 0.0037 - val_loss: 0.0053\n",
      "Epoch 96/100\n",
      "1266/1266 [==============================] - 1s 1ms/step - loss: 0.0039 - val_loss: 0.0032\n",
      "Epoch 97/100\n",
      "1266/1266 [==============================] - 1s 1ms/step - loss: 0.0035 - val_loss: 0.0032\n",
      "Epoch 98/100\n",
      "1266/1266 [==============================] - 1s 1ms/step - loss: 0.0035 - val_loss: 0.0071\n",
      "Epoch 99/100\n",
      "1266/1266 [==============================] - 1s 1ms/step - loss: 0.0037 - val_loss: 0.0031\n",
      "Epoch 100/100\n",
      "1266/1266 [==============================] - 1s 1ms/step - loss: 0.0032 - val_loss: 0.0034\n"
     ]
    },
    {
     "name": "stderr",
     "output_type": "stream",
     "text": [
      "WARNING:absl:Found untraced functions such as leaky_re_lu_4_layer_call_fn, leaky_re_lu_4_layer_call_and_return_conditional_losses, leaky_re_lu_5_layer_call_fn, leaky_re_lu_5_layer_call_and_return_conditional_losses, leaky_re_lu_6_layer_call_fn while saving (showing 5 of 8). These functions will not be directly callable after loading.\n"
     ]
    },
    {
     "name": "stdout",
     "output_type": "stream",
     "text": [
      "INFO:tensorflow:Assets written to: models/exp_reg_pca\\assets\n"
     ]
    },
    {
     "name": "stderr",
     "output_type": "stream",
     "text": [
      "INFO:tensorflow:Assets written to: models/exp_reg_pca\\assets\n"
     ]
    },
    {
     "name": "stdout",
     "output_type": "stream",
     "text": [
      "CPU times: total: 39.9 s\n",
      "Wall time: 2min 21s\n"
     ]
    }
   ],
   "source": [
    "%%time\n",
    "path = 'models/exp_reg_pca'\n",
    "if (os.path.exists(path)):\n",
    "    model = keras.models.load_model(path)\n",
    "else:\n",
    "    model = keras.Sequential()\n",
    "    model.add(keras.Input(shape=(int(pca.n_components_))))\n",
    "    model.add(keras.layers.Dense(20, activation=tf.keras.layers.LeakyReLU(alpha=0.5), kernel_initializer=tf.keras.initializers.HeNormal())) #80\n",
    "    model.add(keras.layers.Dense(20, activation=tf.keras.layers.LeakyReLU(alpha=0.5), kernel_initializer=tf.keras.initializers.HeNormal()))\n",
    "    model.add(keras.layers.Dense(20, activation=tf.keras.layers.LeakyReLU(alpha=0.5), kernel_initializer=tf.keras.initializers.HeNormal()))\n",
    "    model.add(keras.layers.Dense(1, activation=tf.keras.layers.LeakyReLU(alpha=0.5), kernel_initializer=tf.keras.initializers.HeNormal()))\n",
    "    model.summary()\n",
    "    model.compile(loss='mse', optimizer=tf.keras.optimizers.Adam(learning_rate=0.0001))\n",
    "    history = model.fit(X_train, y_train, epochs=100, validation_data=(X_test, y_test)) #1000 epocas\n",
    "    model.save(path)"
   ]
  },
  {
   "cell_type": "code",
   "execution_count": 17,
   "id": "6d48b8bb-4050-4e4e-9b5d-f544ec904945",
   "metadata": {},
   "outputs": [
    {
     "name": "stdout",
     "output_type": "stream",
     "text": [
      "141/141 [==============================] - 0s 780us/step\n"
     ]
    }
   ],
   "source": [
    "pred = model.predict(X_test)"
   ]
  },
  {
   "cell_type": "code",
   "execution_count": 18,
   "id": "d29de131-b034-4c2b-af37-24c452d2eff5",
   "metadata": {},
   "outputs": [
    {
     "data": {
      "image/png": "[encoded data removed]",
      "text/plain": [
       "<Figure size 640x480 with 1 Axes>"
      ]
     },
     "metadata": {},
     "output_type": "display_data"
    }
   ],
   "source": [
    "plt.plot(history.history['loss'])\n",
    "plt.plot(history.history['val_loss'])\n",
    "plt.show()"
   ]
  },
  {
   "cell_type": "markdown",
   "id": "44388779-cc2f-4cb4-b8ca-2c3fa6743d03",
   "metadata": {},
   "source": [
    "<h3>MAPE</h3>"
   ]
  },
  {
   "cell_type": "code",
   "execution_count": 19,
   "id": "7c99022a-e3bb-4c9f-bf88-f7b702264975",
   "metadata": {
    "tags": []
   },
   "outputs": [
    {
     "data": {
      "text/plain": [
       "0.1467052161491288"
      ]
     },
     "execution_count": 19,
     "metadata": {},
     "output_type": "execute_result"
    }
   ],
   "source": [
    "mean_absolute_percentage_error(y_test, pred)"
   ]
  },
  {
   "cell_type": "markdown",
   "id": "3c923ae8-54e8-4741-9866-336932c59883",
   "metadata": {
    "tags": []
   },
   "source": [
    "<h3>R2</h3>"
   ]
  },
  {
   "cell_type": "code",
   "execution_count": 20,
   "id": "546ed39a-fa02-41db-9f75-c25ae8776402",
   "metadata": {
    "tags": []
   },
   "outputs": [
    {
     "data": {
      "text/plain": [
       "0.9540637296700348"
      ]
     },
     "execution_count": 20,
     "metadata": {},
     "output_type": "execute_result"
    }
   ],
   "source": [
    "r2_score(y_test, pred)"
   ]
  },
  {
   "cell_type": "markdown",
   "id": "d6d93f96-a3b0-4a6a-ad1b-8e784da864bc",
   "metadata": {
    "tags": []
   },
   "source": [
    "<h3>Cosine Similarity</h3>"
   ]
  },
  {
   "cell_type": "code",
   "execution_count": 21,
   "id": "15cfd8f1-8f65-49d2-bceb-310107fdf7ff",
   "metadata": {
    "tags": []
   },
   "outputs": [
    {
     "name": "stdout",
     "output_type": "stream",
     "text": [
      "[0.99688765]\n"
     ]
    }
   ],
   "source": [
    "print(np.dot(y_test.values, pred)/(np.linalg.norm(y_test.values)*np.linalg.norm(pred)))"
   ]
  },
  {
   "cell_type": "markdown",
   "id": "b6acdea7-2c3f-4f6d-808f-4d4cf0f3017c",
   "metadata": {
    "tags": []
   },
   "source": [
    "<h3>Visualization</h3>"
   ]
  },
  {
   "cell_type": "code",
   "execution_count": 22,
   "id": "6e9c27f1-fee9-4a5e-9ccf-29599cc8ecc7",
   "metadata": {
    "tags": []
   },
   "outputs": [],
   "source": [
    "result = pd.DataFrame()\n",
    "result['y'] = y_test.values\n",
    "result['pred'] = pred\n",
    "result = result.sort_values(by=['y']).reset_index(drop=True)\n",
    "result.to_csv('output\\\\mlp_exp_reg_pca.csv', index=False)"
   ]
  },
  {
   "cell_type": "code",
   "execution_count": 23,
   "id": "aec33dcf-9851-4dd6-8767-f28ae673b5b6",
   "metadata": {
    "tags": []
   },
   "outputs": [
    {
     "data": {
      "image/png": "[encoded data removed]",
      "text/plain": [
       "<Figure size 1600x1000 with 1 Axes>"
      ]
     },
     "metadata": {},
     "output_type": "display_data"
    }
   ],
   "source": [
    "plt.figure(figsize=(16,10))\n",
    "plt.plot(result['pred'], 'r')\n",
    "plt.plot(result['y'], 'b')\n",
    "plt.xlabel(\"$Istância$\",)\n",
    "plt.ylabel(\"$Dano$\",)\n",
    "plt.legend(['Previsto', 'Analítico'])\n",
    "plt.show()"
   ]
  },
  {
   "cell_type": "markdown",
   "id": "73f47756-08c1-4e9a-a4db-0247f8432987",
   "metadata": {},
   "source": [
    "<h1>Sigmoid-like Damage</h1>"
   ]
  },
  {
   "cell_type": "code",
   "execution_count": 24,
   "id": "a0488ffb-1f97-4d2a-962d-2d5b6c1de260",
   "metadata": {},
   "outputs": [],
   "source": [
    "df_sig = pd.read_csv('input/results_complete_sigmoid_like.csv')"
   ]
  },
  {
   "cell_type": "code",
   "execution_count": 25,
   "id": "4a69a9e2-9c1a-460d-8ee0-0b0906b8f51f",
   "metadata": {},
   "outputs": [],
   "source": [
    "X_train, X_test, y_train, y_test = train_test_split(df_sig.drop(['damage'], axis=1), df_sig['damage'], test_size=0.1, random_state=41)"
   ]
  },
  {
   "cell_type": "code",
   "execution_count": 26,
   "id": "d4725a8a-f537-49c8-b452-b67189a6746f",
   "metadata": {},
   "outputs": [],
   "source": [
    "scaler = StandardScaler()\n",
    "hot_encoder = OneHotEncoder(sparse=False)\n",
    "X_train = scaler.fit_transform(X_train)\n",
    "X_test = scaler.transform(X_test)\n",
    "\n",
    "pca = PCA(.95)\n",
    "X_train = pca.fit_transform(X_train)\n",
    "X_test = pca.transform(X_test)"
   ]
  },
  {
   "cell_type": "code",
   "execution_count": 27,
   "id": "29a28008-ffff-418d-862c-e3b1f4a69826",
   "metadata": {
    "scrolled": true,
    "tags": []
   },
   "outputs": [
    {
     "name": "stdout",
     "output_type": "stream",
     "text": [
      "Model: \"sequential_2\"\n",
      "_________________________________________________________________\n",
      " Layer (type)                Output Shape              Param #   \n",
      "=================================================================\n",
      " dense_8 (Dense)             (None, 80)                7200      \n",
      "                                                                 \n",
      " dense_9 (Dense)             (None, 80)                6480      \n",
      "                                                                 \n",
      " dense_10 (Dense)            (None, 80)                6480      \n",
      "                                                                 \n",
      " dense_11 (Dense)            (None, 1)                 81        \n",
      "                                                                 \n",
      "=================================================================\n",
      "Total params: 20,241\n",
      "Trainable params: 20,241\n",
      "Non-trainable params: 0\n",
      "_________________________________________________________________\n",
      "Epoch 1/300\n",
      "1266/1266 [==============================] - 2s 1ms/step - loss: 3.2419 - val_loss: 0.8101\n",
      "Epoch 2/300\n",
      "1266/1266 [==============================] - 2s 1ms/step - loss: 0.4322 - val_loss: 0.2785\n",
      "Epoch 3/300\n",
      "1266/1266 [==============================] - 2s 1ms/step - loss: 0.1588 - val_loss: 0.1209\n",
      "Epoch 4/300\n",
      "1266/1266 [==============================] - 1s 1ms/step - loss: 0.1011 - val_loss: 0.0861\n",
      "Epoch 5/300\n",
      "1266/1266 [==============================] - 1s 1ms/step - loss: 0.0750 - val_loss: 0.0746\n",
      "Epoch 6/300\n",
      "1266/1266 [==============================] - 2s 1ms/step - loss: 0.0873 - val_loss: 0.0621\n",
      "Epoch 7/300\n",
      "1266/1266 [==============================] - 1s 1ms/step - loss: 0.0593 - val_loss: 0.0498\n",
      "Epoch 8/300\n",
      "1266/1266 [==============================] - 1s 1ms/step - loss: 0.0755 - val_loss: 0.0569\n",
      "Epoch 9/300\n",
      "1266/1266 [==============================] - 1s 1ms/step - loss: 0.0574 - val_loss: 0.0464\n",
      "Epoch 10/300\n",
      "1266/1266 [==============================] - 1s 1ms/step - loss: 0.0601 - val_loss: 0.0388\n",
      "Epoch 11/300\n",
      "1266/1266 [==============================] - 1s 1ms/step - loss: 0.0489 - val_loss: 0.0538\n",
      "Epoch 12/300\n",
      "1266/1266 [==============================] - 1s 1ms/step - loss: 0.0490 - val_loss: 0.0337\n",
      "Epoch 13/300\n",
      "1266/1266 [==============================] - 1s 1ms/step - loss: 0.0603 - val_loss: 0.0343\n",
      "Epoch 14/300\n",
      "1266/1266 [==============================] - 1s 1ms/step - loss: 0.0399 - val_loss: 0.0445\n",
      "Epoch 15/300\n",
      "1266/1266 [==============================] - 1s 1ms/step - loss: 0.0399 - val_loss: 0.0343\n",
      "Epoch 16/300\n",
      "1266/1266 [==============================] - 2s 1ms/step - loss: 0.0365 - val_loss: 0.0253\n",
      "Epoch 17/300\n",
      "1266/1266 [==============================] - 1s 1ms/step - loss: 0.0335 - val_loss: 0.0473\n",
      "Epoch 18/300\n",
      "1266/1266 [==============================] - 1s 1ms/step - loss: 0.0522 - val_loss: 0.0227\n",
      "Epoch 19/300\n",
      "1266/1266 [==============================] - 1s 1ms/step - loss: 0.0383 - val_loss: 0.0235\n",
      "Epoch 20/300\n",
      "1266/1266 [==============================] - 1s 1ms/step - loss: 0.0262 - val_loss: 0.0396\n",
      "Epoch 21/300\n",
      "1266/1266 [==============================] - 1s 1ms/step - loss: 0.0336 - val_loss: 0.0321\n",
      "Epoch 22/300\n",
      "1266/1266 [==============================] - 1s 1ms/step - loss: 0.0368 - val_loss: 0.0320\n",
      "Epoch 23/300\n",
      "1266/1266 [==============================] - 2s 1ms/step - loss: 0.0292 - val_loss: 0.0165\n",
      "Epoch 24/300\n",
      "1266/1266 [==============================] - 2s 1ms/step - loss: 0.0263 - val_loss: 0.0238\n",
      "Epoch 25/300\n",
      "1266/1266 [==============================] - 2s 1ms/step - loss: 0.0311 - val_loss: 0.0285\n",
      "Epoch 26/300\n",
      "1266/1266 [==============================] - 1s 1ms/step - loss: 0.0322 - val_loss: 0.0381\n",
      "Epoch 27/300\n",
      "1266/1266 [==============================] - 2s 1ms/step - loss: 0.0292 - val_loss: 0.0386\n",
      "Epoch 28/300\n",
      "1266/1266 [==============================] - 2s 1ms/step - loss: 0.0235 - val_loss: 0.0155\n",
      "Epoch 29/300\n",
      "1266/1266 [==============================] - 2s 1ms/step - loss: 0.0241 - val_loss: 0.0319\n",
      "Epoch 30/300\n",
      "1266/1266 [==============================] - 2s 1ms/step - loss: 0.0289 - val_loss: 0.0147\n",
      "Epoch 31/300\n",
      "1266/1266 [==============================] - 2s 1ms/step - loss: 0.0206 - val_loss: 0.0242\n",
      "Epoch 32/300\n",
      "1266/1266 [==============================] - 2s 1ms/step - loss: 0.0273 - val_loss: 0.0198\n",
      "Epoch 33/300\n",
      "1266/1266 [==============================] - 1s 1ms/step - loss: 0.0225 - val_loss: 0.0201\n",
      "Epoch 34/300\n",
      "1266/1266 [==============================] - 2s 1ms/step - loss: 0.0210 - val_loss: 0.0215\n",
      "Epoch 35/300\n",
      "1266/1266 [==============================] - 1s 1ms/step - loss: 0.0223 - val_loss: 0.0234\n",
      "Epoch 36/300\n",
      "1266/1266 [==============================] - 2s 1ms/step - loss: 0.0183 - val_loss: 0.0260\n",
      "Epoch 37/300\n",
      "1266/1266 [==============================] - 2s 1ms/step - loss: 0.0217 - val_loss: 0.0161\n",
      "Epoch 38/300\n",
      "1266/1266 [==============================] - 2s 1ms/step - loss: 0.0179 - val_loss: 0.0134\n",
      "Epoch 39/300\n",
      "1266/1266 [==============================] - 2s 1ms/step - loss: 0.0228 - val_loss: 0.0134\n",
      "Epoch 40/300\n",
      "1266/1266 [==============================] - 1s 1ms/step - loss: 0.0171 - val_loss: 0.0208\n",
      "Epoch 41/300\n",
      "1266/1266 [==============================] - 2s 1ms/step - loss: 0.0207 - val_loss: 0.0216\n",
      "Epoch 42/300\n",
      "1266/1266 [==============================] - 1s 1ms/step - loss: 0.0178 - val_loss: 0.0153\n",
      "Epoch 43/300\n",
      "1266/1266 [==============================] - 1s 1ms/step - loss: 0.0185 - val_loss: 0.0133\n",
      "Epoch 44/300\n",
      "1266/1266 [==============================] - 1s 1ms/step - loss: 0.0140 - val_loss: 0.0188\n",
      "Epoch 45/300\n",
      "1266/1266 [==============================] - 1s 1ms/step - loss: 0.0166 - val_loss: 0.0158\n",
      "Epoch 46/300\n",
      "1266/1266 [==============================] - 1s 1ms/step - loss: 0.0177 - val_loss: 0.0147\n",
      "Epoch 47/300\n",
      "1266/1266 [==============================] - 1s 1ms/step - loss: 0.0158 - val_loss: 0.0136\n",
      "Epoch 48/300\n",
      "1266/1266 [==============================] - 1s 1ms/step - loss: 0.0137 - val_loss: 0.0166\n",
      "Epoch 49/300\n",
      "1266/1266 [==============================] - 1s 1ms/step - loss: 0.0214 - val_loss: 0.0156\n",
      "Epoch 50/300\n",
      "1266/1266 [==============================] - 1s 1ms/step - loss: 0.0138 - val_loss: 0.0140\n",
      "Epoch 51/300\n",
      "1266/1266 [==============================] - 1s 1ms/step - loss: 0.0155 - val_loss: 0.0180\n",
      "Epoch 52/300\n",
      "1266/1266 [==============================] - 1s 1ms/step - loss: 0.0129 - val_loss: 0.0128\n",
      "Epoch 53/300\n",
      "1266/1266 [==============================] - 1s 1ms/step - loss: 0.0139 - val_loss: 0.0108\n",
      "Epoch 54/300\n",
      "1266/1266 [==============================] - 1s 1ms/step - loss: 0.0156 - val_loss: 0.0159\n",
      "Epoch 55/300\n",
      "1266/1266 [==============================] - 1s 1ms/step - loss: 0.0126 - val_loss: 0.0100\n",
      "Epoch 56/300\n",
      "1266/1266 [==============================] - 1s 1ms/step - loss: 0.0149 - val_loss: 0.0115\n",
      "Epoch 57/300\n",
      "1266/1266 [==============================] - 1s 1ms/step - loss: 0.0131 - val_loss: 0.0106\n",
      "Epoch 58/300\n",
      "1266/1266 [==============================] - 1s 1ms/step - loss: 0.0147 - val_loss: 0.0080\n",
      "Epoch 59/300\n",
      "1266/1266 [==============================] - 1s 1ms/step - loss: 0.0118 - val_loss: 0.0211\n",
      "Epoch 60/300\n",
      "1266/1266 [==============================] - 1s 1ms/step - loss: 0.0142 - val_loss: 0.0112\n",
      "Epoch 61/300\n",
      "1266/1266 [==============================] - 1s 1ms/step - loss: 0.0111 - val_loss: 0.0093\n",
      "Epoch 62/300\n",
      "1266/1266 [==============================] - 1s 1ms/step - loss: 0.0134 - val_loss: 0.0113\n",
      "Epoch 63/300\n",
      "1266/1266 [==============================] - 1s 1ms/step - loss: 0.0123 - val_loss: 0.0095\n",
      "Epoch 64/300\n",
      "1266/1266 [==============================] - 1s 1ms/step - loss: 0.0114 - val_loss: 0.0100\n",
      "Epoch 65/300\n",
      "1266/1266 [==============================] - 1s 1ms/step - loss: 0.0135 - val_loss: 0.0109\n",
      "Epoch 66/300\n",
      "1266/1266 [==============================] - 1s 1ms/step - loss: 0.0103 - val_loss: 0.0078\n",
      "Epoch 67/300\n",
      "1266/1266 [==============================] - 1s 1ms/step - loss: 0.0121 - val_loss: 0.0067\n",
      "Epoch 68/300\n",
      "1266/1266 [==============================] - 1s 1ms/step - loss: 0.0100 - val_loss: 0.0093\n",
      "Epoch 69/300\n",
      "1266/1266 [==============================] - 1s 1ms/step - loss: 0.0108 - val_loss: 0.0092\n",
      "Epoch 70/300\n",
      "1266/1266 [==============================] - 1s 1ms/step - loss: 0.0124 - val_loss: 0.0092\n",
      "Epoch 71/300\n",
      "1266/1266 [==============================] - 1s 1ms/step - loss: 0.0096 - val_loss: 0.0082\n",
      "Epoch 72/300\n",
      "1266/1266 [==============================] - 1s 1ms/step - loss: 0.0092 - val_loss: 0.0090\n",
      "Epoch 73/300\n",
      "1266/1266 [==============================] - 1s 1ms/step - loss: 0.0105 - val_loss: 0.0098\n",
      "Epoch 74/300\n",
      "1266/1266 [==============================] - 1s 1ms/step - loss: 0.0088 - val_loss: 0.0081\n",
      "Epoch 75/300\n",
      "1266/1266 [==============================] - 1s 1ms/step - loss: 0.0099 - val_loss: 0.0117\n",
      "Epoch 76/300\n",
      "1266/1266 [==============================] - 1s 1ms/step - loss: 0.0092 - val_loss: 0.0086\n",
      "Epoch 77/300\n",
      "1266/1266 [==============================] - 1s 1ms/step - loss: 0.0091 - val_loss: 0.0255\n",
      "Epoch 78/300\n",
      "1266/1266 [==============================] - 1s 1ms/step - loss: 0.0098 - val_loss: 0.0076\n",
      "Epoch 79/300\n",
      "1266/1266 [==============================] - 1s 1ms/step - loss: 0.0084 - val_loss: 0.0100\n",
      "Epoch 80/300\n",
      "1266/1266 [==============================] - 1s 1ms/step - loss: 0.0082 - val_loss: 0.0103\n",
      "Epoch 81/300\n",
      "1266/1266 [==============================] - 1s 1ms/step - loss: 0.0081 - val_loss: 0.0071\n",
      "Epoch 82/300\n",
      "1266/1266 [==============================] - 1s 1ms/step - loss: 0.0099 - val_loss: 0.0078\n",
      "Epoch 83/300\n",
      "1266/1266 [==============================] - 2s 1ms/step - loss: 0.0081 - val_loss: 0.0113\n",
      "Epoch 84/300\n",
      "1266/1266 [==============================] - 1s 1ms/step - loss: 0.0076 - val_loss: 0.0062\n",
      "Epoch 85/300\n",
      "1266/1266 [==============================] - 1s 1ms/step - loss: 0.0076 - val_loss: 0.0065\n",
      "Epoch 86/300\n",
      "1266/1266 [==============================] - 1s 1ms/step - loss: 0.0103 - val_loss: 0.0151\n",
      "Epoch 87/300\n",
      "1266/1266 [==============================] - 1s 1ms/step - loss: 0.0080 - val_loss: 0.0072\n",
      "Epoch 88/300\n",
      "1266/1266 [==============================] - 1s 1ms/step - loss: 0.0080 - val_loss: 0.0058\n",
      "Epoch 89/300\n",
      "1266/1266 [==============================] - 1s 1ms/step - loss: 0.0074 - val_loss: 0.0050\n",
      "Epoch 90/300\n",
      "1266/1266 [==============================] - 1s 1ms/step - loss: 0.0082 - val_loss: 0.0069\n",
      "Epoch 91/300\n",
      "1266/1266 [==============================] - 1s 1ms/step - loss: 0.0068 - val_loss: 0.0073\n",
      "Epoch 92/300\n",
      "1266/1266 [==============================] - 1s 1ms/step - loss: 0.0078 - val_loss: 0.0074\n",
      "Epoch 93/300\n",
      "1266/1266 [==============================] - 1s 1ms/step - loss: 0.0067 - val_loss: 0.0124\n",
      "Epoch 94/300\n",
      "1266/1266 [==============================] - 1s 1ms/step - loss: 0.0084 - val_loss: 0.0083\n",
      "Epoch 95/300\n",
      "1266/1266 [==============================] - 1s 1ms/step - loss: 0.0065 - val_loss: 0.0067\n",
      "Epoch 96/300\n",
      "1266/1266 [==============================] - 1s 1ms/step - loss: 0.0056 - val_loss: 0.0062\n",
      "Epoch 97/300\n",
      "1266/1266 [==============================] - 1s 1ms/step - loss: 0.0070 - val_loss: 0.0055\n",
      "Epoch 98/300\n",
      "1266/1266 [==============================] - 1s 1ms/step - loss: 0.0065 - val_loss: 0.0083\n",
      "Epoch 99/300\n",
      "1266/1266 [==============================] - 1s 1ms/step - loss: 0.0063 - val_loss: 0.0054\n",
      "Epoch 100/300\n",
      "1266/1266 [==============================] - 1s 1ms/step - loss: 0.0055 - val_loss: 0.0073\n",
      "Epoch 101/300\n",
      "1266/1266 [==============================] - 1s 1ms/step - loss: 0.0071 - val_loss: 0.0061\n",
      "Epoch 102/300\n",
      "1266/1266 [==============================] - 1s 1ms/step - loss: 0.0057 - val_loss: 0.0044\n",
      "Epoch 103/300\n",
      "1266/1266 [==============================] - 1s 1ms/step - loss: 0.0059 - val_loss: 0.0055\n",
      "Epoch 104/300\n",
      "1266/1266 [==============================] - 1s 1ms/step - loss: 0.0063 - val_loss: 0.0060\n",
      "Epoch 105/300\n",
      "1266/1266 [==============================] - 1s 1ms/step - loss: 0.0052 - val_loss: 0.0054\n",
      "Epoch 106/300\n",
      "1266/1266 [==============================] - 1s 1ms/step - loss: 0.0057 - val_loss: 0.0058\n",
      "Epoch 107/300\n",
      "1266/1266 [==============================] - 1s 1ms/step - loss: 0.0056 - val_loss: 0.0043\n",
      "Epoch 108/300\n",
      "1266/1266 [==============================] - 1s 1ms/step - loss: 0.0059 - val_loss: 0.0057\n",
      "Epoch 109/300\n",
      "1266/1266 [==============================] - 1s 1ms/step - loss: 0.0054 - val_loss: 0.0045\n",
      "Epoch 110/300\n",
      "1266/1266 [==============================] - 1s 1ms/step - loss: 0.0052 - val_loss: 0.0064\n",
      "Epoch 111/300\n",
      "1266/1266 [==============================] - 1s 1ms/step - loss: 0.0055 - val_loss: 0.0042\n",
      "Epoch 112/300\n",
      "1266/1266 [==============================] - 1s 1ms/step - loss: 0.0051 - val_loss: 0.0059\n",
      "Epoch 113/300\n",
      "1266/1266 [==============================] - 1s 1ms/step - loss: 0.0055 - val_loss: 0.0057\n",
      "Epoch 114/300\n",
      "1266/1266 [==============================] - 1s 1ms/step - loss: 0.0053 - val_loss: 0.0043\n",
      "Epoch 115/300\n",
      "1266/1266 [==============================] - 1s 1ms/step - loss: 0.0046 - val_loss: 0.0052\n",
      "Epoch 116/300\n",
      "1266/1266 [==============================] - 1s 1ms/step - loss: 0.0044 - val_loss: 0.0039\n",
      "Epoch 117/300\n",
      "1266/1266 [==============================] - 1s 1ms/step - loss: 0.0049 - val_loss: 0.0058\n",
      "Epoch 118/300\n",
      "1266/1266 [==============================] - 1s 1ms/step - loss: 0.0047 - val_loss: 0.0048\n",
      "Epoch 119/300\n",
      "1266/1266 [==============================] - 1s 1ms/step - loss: 0.0041 - val_loss: 0.0035\n",
      "Epoch 120/300\n",
      "1266/1266 [==============================] - 1s 1ms/step - loss: 0.0056 - val_loss: 0.0057\n",
      "Epoch 121/300\n",
      "1266/1266 [==============================] - 1s 1ms/step - loss: 0.0049 - val_loss: 0.0040\n",
      "Epoch 122/300\n",
      "1266/1266 [==============================] - 1s 1ms/step - loss: 0.0039 - val_loss: 0.0040\n",
      "Epoch 123/300\n",
      "1266/1266 [==============================] - 1s 1ms/step - loss: 0.0051 - val_loss: 0.0034\n",
      "Epoch 124/300\n",
      "1266/1266 [==============================] - 1s 1ms/step - loss: 0.0039 - val_loss: 0.0036\n",
      "Epoch 125/300\n",
      "1266/1266 [==============================] - 1s 1ms/step - loss: 0.0045 - val_loss: 0.0044\n",
      "Epoch 126/300\n",
      "1266/1266 [==============================] - 1s 1ms/step - loss: 0.0040 - val_loss: 0.0060\n",
      "Epoch 127/300\n",
      "1266/1266 [==============================] - 1s 1ms/step - loss: 0.0051 - val_loss: 0.0036\n",
      "Epoch 128/300\n",
      "1266/1266 [==============================] - 1s 1ms/step - loss: 0.0043 - val_loss: 0.0031\n",
      "Epoch 129/300\n",
      "1266/1266 [==============================] - 1s 1ms/step - loss: 0.0034 - val_loss: 0.0110\n",
      "Epoch 130/300\n",
      "1266/1266 [==============================] - 1s 1ms/step - loss: 0.0042 - val_loss: 0.0035\n",
      "Epoch 131/300\n",
      "1266/1266 [==============================] - 1s 1ms/step - loss: 0.0036 - val_loss: 0.0061\n",
      "Epoch 132/300\n",
      "1266/1266 [==============================] - 1s 1ms/step - loss: 0.0039 - val_loss: 0.0031\n",
      "Epoch 133/300\n",
      "1266/1266 [==============================] - 1s 1ms/step - loss: 0.0040 - val_loss: 0.0037\n",
      "Epoch 134/300\n",
      "1266/1266 [==============================] - 1s 1ms/step - loss: 0.0036 - val_loss: 0.0046\n",
      "Epoch 135/300\n",
      "1266/1266 [==============================] - 1s 1ms/step - loss: 0.0050 - val_loss: 0.0029\n",
      "Epoch 136/300\n",
      "1266/1266 [==============================] - 1s 1ms/step - loss: 0.0030 - val_loss: 0.0039\n",
      "Epoch 137/300\n",
      "1266/1266 [==============================] - 1s 1ms/step - loss: 0.0033 - val_loss: 0.0041\n",
      "Epoch 138/300\n",
      "1266/1266 [==============================] - 1s 1ms/step - loss: 0.0033 - val_loss: 0.0031\n",
      "Epoch 139/300\n",
      "1266/1266 [==============================] - 1s 1ms/step - loss: 0.0037 - val_loss: 0.0111\n",
      "Epoch 140/300\n",
      "1266/1266 [==============================] - 1s 1ms/step - loss: 0.0036 - val_loss: 0.0046\n",
      "Epoch 141/300\n",
      "1266/1266 [==============================] - 1s 1ms/step - loss: 0.0029 - val_loss: 0.0062\n",
      "Epoch 142/300\n",
      "1266/1266 [==============================] - 1s 1ms/step - loss: 0.0034 - val_loss: 0.0061\n",
      "Epoch 143/300\n",
      "1266/1266 [==============================] - 1s 1ms/step - loss: 0.0034 - val_loss: 0.0028\n",
      "Epoch 144/300\n",
      "1266/1266 [==============================] - 1s 1ms/step - loss: 0.0035 - val_loss: 0.0030\n",
      "Epoch 145/300\n",
      "1266/1266 [==============================] - 1s 1ms/step - loss: 0.0036 - val_loss: 0.0033\n",
      "Epoch 146/300\n",
      "1266/1266 [==============================] - 1s 1ms/step - loss: 0.0033 - val_loss: 0.0061\n",
      "Epoch 147/300\n",
      "1266/1266 [==============================] - 1s 1ms/step - loss: 0.0031 - val_loss: 0.0022\n",
      "Epoch 148/300\n",
      "1266/1266 [==============================] - 1s 1ms/step - loss: 0.0027 - val_loss: 0.0024\n",
      "Epoch 149/300\n",
      "1266/1266 [==============================] - 1s 1ms/step - loss: 0.0038 - val_loss: 0.0035\n",
      "Epoch 150/300\n",
      "1266/1266 [==============================] - 1s 1ms/step - loss: 0.0033 - val_loss: 0.0045\n",
      "Epoch 151/300\n",
      "1266/1266 [==============================] - 1s 1ms/step - loss: 0.0026 - val_loss: 0.0031\n",
      "Epoch 152/300\n",
      "1266/1266 [==============================] - 1s 1ms/step - loss: 0.0032 - val_loss: 0.0027\n",
      "Epoch 153/300\n",
      "1266/1266 [==============================] - 1s 1ms/step - loss: 0.0033 - val_loss: 0.0026\n",
      "Epoch 154/300\n",
      "1266/1266 [==============================] - 1s 1ms/step - loss: 0.0029 - val_loss: 0.0025\n",
      "Epoch 155/300\n",
      "1266/1266 [==============================] - 1s 1ms/step - loss: 0.0025 - val_loss: 0.0032\n",
      "Epoch 156/300\n",
      "1266/1266 [==============================] - 2s 1ms/step - loss: 0.0032 - val_loss: 0.0031\n",
      "Epoch 157/300\n",
      "1266/1266 [==============================] - 1s 1ms/step - loss: 0.0026 - val_loss: 0.0020\n",
      "Epoch 158/300\n",
      "1266/1266 [==============================] - 2s 1ms/step - loss: 0.0027 - val_loss: 0.0022\n",
      "Epoch 159/300\n",
      "1266/1266 [==============================] - 2s 1ms/step - loss: 0.0026 - val_loss: 0.0028\n",
      "Epoch 160/300\n",
      "1266/1266 [==============================] - 1s 1ms/step - loss: 0.0026 - val_loss: 0.0019\n",
      "Epoch 161/300\n",
      "1266/1266 [==============================] - 1s 1ms/step - loss: 0.0025 - val_loss: 0.0040\n",
      "Epoch 162/300\n",
      "1266/1266 [==============================] - 1s 1ms/step - loss: 0.0028 - val_loss: 0.0032\n",
      "Epoch 163/300\n",
      "1266/1266 [==============================] - 1s 1ms/step - loss: 0.0026 - val_loss: 0.0025\n",
      "Epoch 164/300\n",
      "1266/1266 [==============================] - 1s 1ms/step - loss: 0.0025 - val_loss: 0.0026\n",
      "Epoch 165/300\n",
      "1266/1266 [==============================] - 1s 1ms/step - loss: 0.0024 - val_loss: 0.0026\n",
      "Epoch 166/300\n",
      "1266/1266 [==============================] - 2s 1ms/step - loss: 0.0027 - val_loss: 0.0060\n",
      "Epoch 167/300\n",
      "1266/1266 [==============================] - 1s 1ms/step - loss: 0.0022 - val_loss: 0.0026\n",
      "Epoch 168/300\n",
      "1266/1266 [==============================] - 1s 1ms/step - loss: 0.0028 - val_loss: 0.0021\n",
      "Epoch 169/300\n",
      "1266/1266 [==============================] - 2s 1ms/step - loss: 0.0021 - val_loss: 0.0025\n",
      "Epoch 170/300\n",
      "1266/1266 [==============================] - 2s 1ms/step - loss: 0.0027 - val_loss: 0.0020\n",
      "Epoch 171/300\n",
      "1266/1266 [==============================] - 2s 1ms/step - loss: 0.0019 - val_loss: 0.0022\n",
      "Epoch 172/300\n",
      "1266/1266 [==============================] - 1s 1ms/step - loss: 0.0024 - val_loss: 0.0015\n",
      "Epoch 173/300\n",
      "1266/1266 [==============================] - 1s 1ms/step - loss: 0.0021 - val_loss: 0.0059\n",
      "Epoch 174/300\n",
      "1266/1266 [==============================] - 1s 1ms/step - loss: 0.0021 - val_loss: 0.0024\n",
      "Epoch 175/300\n",
      "1266/1266 [==============================] - 1s 1ms/step - loss: 0.0022 - val_loss: 0.0019\n",
      "Epoch 176/300\n",
      "1266/1266 [==============================] - 2s 1ms/step - loss: 0.0021 - val_loss: 0.0015\n",
      "Epoch 177/300\n",
      "1266/1266 [==============================] - 2s 1ms/step - loss: 0.0019 - val_loss: 0.0021\n",
      "Epoch 178/300\n",
      "1266/1266 [==============================] - 2s 1ms/step - loss: 0.0024 - val_loss: 0.0031\n",
      "Epoch 179/300\n",
      "1266/1266 [==============================] - 1s 1ms/step - loss: 0.0022 - val_loss: 0.0017\n",
      "Epoch 180/300\n",
      "1266/1266 [==============================] - 1s 1ms/step - loss: 0.0017 - val_loss: 0.0015\n",
      "Epoch 181/300\n",
      "1266/1266 [==============================] - 1s 1ms/step - loss: 0.0018 - val_loss: 0.0024\n",
      "Epoch 182/300\n",
      "1266/1266 [==============================] - 1s 1ms/step - loss: 0.0023 - val_loss: 0.0030\n",
      "Epoch 183/300\n",
      "1266/1266 [==============================] - 1s 1ms/step - loss: 0.0021 - val_loss: 0.0017\n",
      "Epoch 184/300\n",
      "1266/1266 [==============================] - 1s 1ms/step - loss: 0.0020 - val_loss: 0.0055\n",
      "Epoch 185/300\n",
      "1266/1266 [==============================] - 2s 1ms/step - loss: 0.0024 - val_loss: 0.0012\n",
      "Epoch 186/300\n",
      "1266/1266 [==============================] - 2s 1ms/step - loss: 0.0017 - val_loss: 0.0019\n",
      "Epoch 187/300\n",
      "1266/1266 [==============================] - 2s 1ms/step - loss: 0.0016 - val_loss: 0.0019\n",
      "Epoch 188/300\n",
      "1266/1266 [==============================] - 1s 1ms/step - loss: 0.0018 - val_loss: 0.0017\n",
      "Epoch 189/300\n",
      "1266/1266 [==============================] - 1s 1ms/step - loss: 0.0020 - val_loss: 0.0026\n",
      "Epoch 190/300\n",
      "1266/1266 [==============================] - 1s 1ms/step - loss: 0.0020 - val_loss: 0.0014\n",
      "Epoch 191/300\n",
      "1266/1266 [==============================] - 1s 1ms/step - loss: 0.0016 - val_loss: 0.0021\n",
      "Epoch 192/300\n",
      "1266/1266 [==============================] - 1s 1ms/step - loss: 0.0019 - val_loss: 0.0055\n",
      "Epoch 193/300\n",
      "1266/1266 [==============================] - 1s 1ms/step - loss: 0.0018 - val_loss: 0.0015\n",
      "Epoch 194/300\n",
      "1266/1266 [==============================] - 1s 1ms/step - loss: 0.0016 - val_loss: 0.0019\n",
      "Epoch 195/300\n",
      "1266/1266 [==============================] - 2s 1ms/step - loss: 0.0017 - val_loss: 0.0050\n",
      "Epoch 196/300\n",
      "1266/1266 [==============================] - 1s 1ms/step - loss: 0.0018 - val_loss: 0.0025\n",
      "Epoch 197/300\n",
      "1266/1266 [==============================] - 2s 1ms/step - loss: 0.0017 - val_loss: 0.0018\n",
      "Epoch 198/300\n",
      "1266/1266 [==============================] - 1s 1ms/step - loss: 0.0013 - val_loss: 0.0012\n",
      "Epoch 199/300\n",
      "1266/1266 [==============================] - 1s 1ms/step - loss: 0.0016 - val_loss: 0.0013\n",
      "Epoch 200/300\n",
      "1266/1266 [==============================] - 2s 1ms/step - loss: 0.0016 - val_loss: 0.0035\n",
      "Epoch 201/300\n",
      "1266/1266 [==============================] - 2s 1ms/step - loss: 0.0015 - val_loss: 0.0016\n",
      "Epoch 202/300\n",
      "1266/1266 [==============================] - 2s 1ms/step - loss: 0.0014 - val_loss: 0.0016\n",
      "Epoch 203/300\n",
      "1266/1266 [==============================] - 2s 1ms/step - loss: 0.0018 - val_loss: 0.0016\n",
      "Epoch 204/300\n",
      "1266/1266 [==============================] - 2s 1ms/step - loss: 0.0014 - val_loss: 0.0012\n",
      "Epoch 205/300\n",
      "1266/1266 [==============================] - 2s 1ms/step - loss: 0.0014 - val_loss: 0.0015\n",
      "Epoch 206/300\n",
      "1266/1266 [==============================] - 2s 1ms/step - loss: 0.0014 - val_loss: 0.0040\n",
      "Epoch 207/300\n",
      "1266/1266 [==============================] - 1s 1ms/step - loss: 0.0015 - val_loss: 0.0011\n",
      "Epoch 208/300\n",
      "1266/1266 [==============================] - 2s 1ms/step - loss: 0.0013 - val_loss: 0.0018\n",
      "Epoch 209/300\n",
      "1266/1266 [==============================] - 2s 1ms/step - loss: 0.0016 - val_loss: 0.0010\n",
      "Epoch 210/300\n",
      "1266/1266 [==============================] - 2s 1ms/step - loss: 0.0013 - val_loss: 0.0013\n",
      "Epoch 211/300\n",
      "1266/1266 [==============================] - 1s 1ms/step - loss: 0.0014 - val_loss: 0.0013\n",
      "Epoch 212/300\n",
      "1266/1266 [==============================] - 1s 1ms/step - loss: 0.0012 - val_loss: 0.0012\n",
      "Epoch 213/300\n",
      "1266/1266 [==============================] - 2s 1ms/step - loss: 0.0012 - val_loss: 0.0037\n",
      "Epoch 214/300\n",
      "1266/1266 [==============================] - 2s 1ms/step - loss: 0.0017 - val_loss: 0.0012\n",
      "Epoch 215/300\n",
      "1266/1266 [==============================] - 2s 1ms/step - loss: 0.0012 - val_loss: 0.0010\n",
      "Epoch 216/300\n",
      "1266/1266 [==============================] - 1s 1ms/step - loss: 0.0014 - val_loss: 0.0015\n",
      "Epoch 217/300\n",
      "1266/1266 [==============================] - 1s 1ms/step - loss: 0.0013 - val_loss: 0.0012\n",
      "Epoch 218/300\n",
      "1266/1266 [==============================] - 1s 1ms/step - loss: 0.0015 - val_loss: 0.0019\n",
      "Epoch 219/300\n",
      "1266/1266 [==============================] - 1s 1ms/step - loss: 0.0011 - val_loss: 0.0013\n",
      "Epoch 220/300\n",
      "1266/1266 [==============================] - 2s 1ms/step - loss: 0.0014 - val_loss: 0.0013\n",
      "Epoch 221/300\n",
      "1266/1266 [==============================] - 1s 1ms/step - loss: 0.0014 - val_loss: 9.9548e-04\n",
      "Epoch 222/300\n",
      "1266/1266 [==============================] - 1s 1ms/step - loss: 0.0012 - val_loss: 0.0010\n",
      "Epoch 223/300\n",
      "1266/1266 [==============================] - 2s 1ms/step - loss: 0.0012 - val_loss: 0.0023\n",
      "Epoch 224/300\n",
      "1266/1266 [==============================] - 2s 1ms/step - loss: 0.0014 - val_loss: 0.0014\n",
      "Epoch 225/300\n",
      "1266/1266 [==============================] - 1s 1ms/step - loss: 0.0012 - val_loss: 0.0015\n",
      "Epoch 226/300\n",
      "1266/1266 [==============================] - 2s 1ms/step - loss: 0.0014 - val_loss: 0.0010\n",
      "Epoch 227/300\n",
      "1266/1266 [==============================] - 1s 1ms/step - loss: 0.0011 - val_loss: 0.0012\n",
      "Epoch 228/300\n",
      "1266/1266 [==============================] - 2s 1ms/step - loss: 0.0010 - val_loss: 0.0011\n",
      "Epoch 229/300\n",
      "1266/1266 [==============================] - 1s 1ms/step - loss: 0.0011 - val_loss: 0.0019\n",
      "Epoch 230/300\n",
      "1266/1266 [==============================] - 2s 1ms/step - loss: 0.0012 - val_loss: 0.0014\n",
      "Epoch 231/300\n",
      "1266/1266 [==============================] - 1s 1ms/step - loss: 0.0014 - val_loss: 0.0018\n",
      "Epoch 232/300\n",
      "1266/1266 [==============================] - 1s 1ms/step - loss: 9.9051e-04 - val_loss: 0.0015\n",
      "Epoch 233/300\n",
      "1266/1266 [==============================] - 1s 1ms/step - loss: 0.0010 - val_loss: 8.3770e-04\n",
      "Epoch 234/300\n",
      "1266/1266 [==============================] - 1s 1ms/step - loss: 0.0012 - val_loss: 9.3572e-04\n",
      "Epoch 235/300\n",
      "1266/1266 [==============================] - 1s 1ms/step - loss: 0.0011 - val_loss: 0.0012\n",
      "Epoch 236/300\n",
      "1266/1266 [==============================] - 2s 1ms/step - loss: 0.0010 - val_loss: 0.0013\n",
      "Epoch 237/300\n",
      "1266/1266 [==============================] - 1s 1ms/step - loss: 0.0010 - val_loss: 0.0015\n",
      "Epoch 238/300\n",
      "1266/1266 [==============================] - 1s 1ms/step - loss: 0.0012 - val_loss: 0.0015\n",
      "Epoch 239/300\n",
      "1266/1266 [==============================] - 1s 1ms/step - loss: 9.6880e-04 - val_loss: 8.0827e-04\n",
      "Epoch 240/300\n",
      "1266/1266 [==============================] - 1s 1ms/step - loss: 8.4982e-04 - val_loss: 6.8015e-04\n",
      "Epoch 241/300\n",
      "1266/1266 [==============================] - 1s 1ms/step - loss: 0.0012 - val_loss: 7.7098e-04\n",
      "Epoch 242/300\n",
      "1266/1266 [==============================] - 1s 1ms/step - loss: 8.7982e-04 - val_loss: 6.6640e-04\n",
      "Epoch 243/300\n",
      "1266/1266 [==============================] - 2s 1ms/step - loss: 0.0011 - val_loss: 0.0019\n",
      "Epoch 244/300\n",
      "1266/1266 [==============================] - 1s 1ms/step - loss: 8.6296e-04 - val_loss: 8.0308e-04\n",
      "Epoch 245/300\n",
      "1266/1266 [==============================] - 2s 1ms/step - loss: 8.7658e-04 - val_loss: 0.0013\n",
      "Epoch 246/300\n",
      "1266/1266 [==============================] - 1s 1ms/step - loss: 0.0010 - val_loss: 7.9238e-04\n",
      "Epoch 247/300\n",
      "1266/1266 [==============================] - 1s 1ms/step - loss: 7.7003e-04 - val_loss: 7.3158e-04\n",
      "Epoch 248/300\n",
      "1266/1266 [==============================] - 2s 1ms/step - loss: 0.0012 - val_loss: 8.4923e-04\n",
      "Epoch 249/300\n",
      "1266/1266 [==============================] - 1s 1ms/step - loss: 7.1198e-04 - val_loss: 6.4319e-04\n",
      "Epoch 250/300\n",
      "1266/1266 [==============================] - 2s 1ms/step - loss: 0.0011 - val_loss: 8.9878e-04\n",
      "Epoch 251/300\n",
      "1266/1266 [==============================] - 1s 1ms/step - loss: 7.7715e-04 - val_loss: 7.8504e-04\n",
      "Epoch 252/300\n",
      "1266/1266 [==============================] - 1s 1ms/step - loss: 9.3561e-04 - val_loss: 0.0012\n",
      "Epoch 253/300\n",
      "1266/1266 [==============================] - 1s 1ms/step - loss: 8.4163e-04 - val_loss: 8.8869e-04\n",
      "Epoch 254/300\n",
      "1266/1266 [==============================] - 1s 1ms/step - loss: 0.0015 - val_loss: 8.4126e-04\n",
      "Epoch 255/300\n",
      "1266/1266 [==============================] - 1s 1ms/step - loss: 7.5623e-04 - val_loss: 7.5594e-04\n",
      "Epoch 256/300\n",
      "1266/1266 [==============================] - 1s 1ms/step - loss: 6.6856e-04 - val_loss: 8.8595e-04\n",
      "Epoch 257/300\n",
      "1266/1266 [==============================] - 1s 1ms/step - loss: 8.8081e-04 - val_loss: 7.1726e-04\n",
      "Epoch 258/300\n",
      "1266/1266 [==============================] - 2s 1ms/step - loss: 9.6974e-04 - val_loss: 0.0012\n",
      "Epoch 259/300\n",
      "1266/1266 [==============================] - 1s 1ms/step - loss: 8.0841e-04 - val_loss: 6.1854e-04\n",
      "Epoch 260/300\n",
      "1266/1266 [==============================] - 2s 1ms/step - loss: 7.4998e-04 - val_loss: 7.9487e-04\n",
      "Epoch 261/300\n",
      "1266/1266 [==============================] - 1s 1ms/step - loss: 7.5534e-04 - val_loss: 0.0013\n",
      "Epoch 262/300\n",
      "1266/1266 [==============================] - 2s 1ms/step - loss: 8.4076e-04 - val_loss: 6.2393e-04\n",
      "Epoch 263/300\n",
      "1266/1266 [==============================] - 2s 1ms/step - loss: 7.5155e-04 - val_loss: 6.7567e-04\n",
      "Epoch 264/300\n",
      "1266/1266 [==============================] - 1s 1ms/step - loss: 7.8060e-04 - val_loss: 7.7840e-04\n",
      "Epoch 265/300\n",
      "1266/1266 [==============================] - 2s 1ms/step - loss: 8.9171e-04 - val_loss: 6.0755e-04\n",
      "Epoch 266/300\n",
      "1266/1266 [==============================] - 1s 1ms/step - loss: 8.0943e-04 - val_loss: 7.6843e-04\n",
      "Epoch 267/300\n",
      "1266/1266 [==============================] - 1s 1ms/step - loss: 6.8062e-04 - val_loss: 4.8455e-04\n",
      "Epoch 268/300\n",
      "1266/1266 [==============================] - 2s 1ms/step - loss: 6.3646e-04 - val_loss: 6.3778e-04\n",
      "Epoch 269/300\n",
      "1266/1266 [==============================] - 1s 1ms/step - loss: 0.0010 - val_loss: 0.0017\n",
      "Epoch 270/300\n",
      "1266/1266 [==============================] - 1s 1ms/step - loss: 8.1434e-04 - val_loss: 7.0515e-04\n",
      "Epoch 271/300\n",
      "1266/1266 [==============================] - 2s 1ms/step - loss: 6.2809e-04 - val_loss: 0.0020\n",
      "Epoch 272/300\n",
      "1266/1266 [==============================] - 1s 1ms/step - loss: 8.0316e-04 - val_loss: 4.7702e-04\n",
      "Epoch 273/300\n",
      "1266/1266 [==============================] - 2s 1ms/step - loss: 7.4826e-04 - val_loss: 9.3077e-04\n",
      "Epoch 274/300\n",
      "1266/1266 [==============================] - 2s 1ms/step - loss: 6.6211e-04 - val_loss: 7.9249e-04\n",
      "Epoch 275/300\n",
      "1266/1266 [==============================] - 1s 1ms/step - loss: 8.1600e-04 - val_loss: 0.0038\n",
      "Epoch 276/300\n",
      "1266/1266 [==============================] - 1s 1ms/step - loss: 8.4572e-04 - val_loss: 5.9128e-04\n",
      "Epoch 277/300\n",
      "1266/1266 [==============================] - 2s 1ms/step - loss: 5.5961e-04 - val_loss: 0.0011\n",
      "Epoch 278/300\n",
      "1266/1266 [==============================] - 2s 1ms/step - loss: 7.7386e-04 - val_loss: 5.8333e-04\n",
      "Epoch 279/300\n",
      "1266/1266 [==============================] - 1s 1ms/step - loss: 8.2806e-04 - val_loss: 6.4146e-04\n",
      "Epoch 280/300\n",
      "1266/1266 [==============================] - 2s 1ms/step - loss: 6.6693e-04 - val_loss: 5.8827e-04\n",
      "Epoch 281/300\n",
      "1266/1266 [==============================] - 2s 1ms/step - loss: 5.6144e-04 - val_loss: 5.0454e-04\n",
      "Epoch 282/300\n",
      "1266/1266 [==============================] - 1s 1ms/step - loss: 6.8929e-04 - val_loss: 0.0014\n",
      "Epoch 283/300\n",
      "1266/1266 [==============================] - 2s 1ms/step - loss: 6.2842e-04 - val_loss: 6.5106e-04\n",
      "Epoch 284/300\n",
      "1266/1266 [==============================] - 1s 1ms/step - loss: 6.6814e-04 - val_loss: 0.0031\n",
      "Epoch 285/300\n",
      "1266/1266 [==============================] - 2s 1ms/step - loss: 9.1709e-04 - val_loss: 7.5066e-04\n",
      "Epoch 286/300\n",
      "1266/1266 [==============================] - 2s 1ms/step - loss: 5.9223e-04 - val_loss: 5.4528e-04\n",
      "Epoch 287/300\n",
      "1266/1266 [==============================] - 2s 1ms/step - loss: 5.8234e-04 - val_loss: 5.8498e-04\n",
      "Epoch 288/300\n",
      "1266/1266 [==============================] - 2s 1ms/step - loss: 5.6496e-04 - val_loss: 4.4260e-04\n",
      "Epoch 289/300\n",
      "1266/1266 [==============================] - 2s 1ms/step - loss: 4.8341e-04 - val_loss: 0.0012\n",
      "Epoch 290/300\n",
      "1266/1266 [==============================] - 1s 1ms/step - loss: 9.6093e-04 - val_loss: 6.7334e-04\n",
      "Epoch 291/300\n",
      "1266/1266 [==============================] - 1s 1ms/step - loss: 8.4257e-04 - val_loss: 6.9257e-04\n",
      "Epoch 292/300\n",
      "1266/1266 [==============================] - 1s 1ms/step - loss: 5.0972e-04 - val_loss: 6.5052e-04\n",
      "Epoch 293/300\n",
      "1266/1266 [==============================] - 2s 1ms/step - loss: 7.8911e-04 - val_loss: 3.6076e-04\n",
      "Epoch 294/300\n",
      "1266/1266 [==============================] - 1s 1ms/step - loss: 4.9429e-04 - val_loss: 6.8983e-04\n",
      "Epoch 295/300\n",
      "1266/1266 [==============================] - 1s 1ms/step - loss: 7.3272e-04 - val_loss: 7.7894e-04\n",
      "Epoch 296/300\n",
      "1266/1266 [==============================] - 1s 1ms/step - loss: 5.7782e-04 - val_loss: 3.4997e-04\n",
      "Epoch 297/300\n",
      "1266/1266 [==============================] - 2s 1ms/step - loss: 6.1253e-04 - val_loss: 3.5446e-04\n",
      "Epoch 298/300\n",
      "1266/1266 [==============================] - 2s 1ms/step - loss: 5.6877e-04 - val_loss: 4.4170e-04\n",
      "Epoch 299/300\n",
      "1266/1266 [==============================] - 2s 1ms/step - loss: 5.6552e-04 - val_loss: 4.5626e-04\n",
      "Epoch 300/300\n",
      "1266/1266 [==============================] - 1s 1ms/step - loss: 6.3036e-04 - val_loss: 0.0016\n"
     ]
    },
    {
     "name": "stderr",
     "output_type": "stream",
     "text": [
      "WARNING:absl:Found untraced functions such as leaky_re_lu_8_layer_call_fn, leaky_re_lu_8_layer_call_and_return_conditional_losses, leaky_re_lu_9_layer_call_fn, leaky_re_lu_9_layer_call_and_return_conditional_losses, leaky_re_lu_10_layer_call_fn while saving (showing 5 of 8). These functions will not be directly callable after loading.\n"
     ]
    },
    {
     "name": "stdout",
     "output_type": "stream",
     "text": [
      "INFO:tensorflow:Assets written to: models/sig_reg_pca\\assets\n"
     ]
    },
    {
     "name": "stderr",
     "output_type": "stream",
     "text": [
      "INFO:tensorflow:Assets written to: models/sig_reg_pca\\assets\n"
     ]
    },
    {
     "name": "stdout",
     "output_type": "stream",
     "text": [
      "CPU times: total: 2min 4s\n",
      "Wall time: 7min 21s\n"
     ]
    }
   ],
   "source": [
    "%%time\n",
    "path = 'models/sig_reg_pca'\n",
    "if (os.path.exists(path)):\n",
    "    model = keras.models.load_model(path)\n",
    "else:\n",
    "    model = keras.Sequential()\n",
    "    model.add(keras.Input(shape=(int(pca.n_components_))))\n",
    "    model.add(keras.layers.Dense(80, activation=tf.keras.layers.LeakyReLU(alpha=0.5), kernel_initializer=tf.keras.initializers.HeNormal())) #80\n",
    "    model.add(keras.layers.Dense(80, activation=tf.keras.layers.LeakyReLU(alpha=0.5), kernel_initializer=tf.keras.initializers.HeNormal()))\n",
    "    model.add(keras.layers.Dense(80, activation=tf.keras.layers.LeakyReLU(alpha=0.5), kernel_initializer=tf.keras.initializers.HeNormal()))\n",
    "    model.add(keras.layers.Dense(1, activation=tf.keras.layers.LeakyReLU(alpha=0.5)))\n",
    "    model.summary()\n",
    "    model.compile(loss='mse', optimizer=tf.keras.optimizers.Adam(learning_rate=0.0001))\n",
    "    history = model.fit(X_train, y_train, epochs=300, validation_data=(X_test, y_test)) #1000 epocas\n",
    "    model.save(path)"
   ]
  },
  {
   "cell_type": "code",
   "execution_count": 28,
   "id": "804d5dca-da51-4c35-b5fd-3f6bf937b7d7",
   "metadata": {},
   "outputs": [
    {
     "data": {
      "image/png": "[encoded data removed]",
      "text/plain": [
       "<Figure size 640x480 with 1 Axes>"
      ]
     },
     "metadata": {},
     "output_type": "display_data"
    }
   ],
   "source": [
    "plt.plot(history.history['loss'])\n",
    "plt.plot(history.history['val_loss'])\n",
    "plt.show()"
   ]
  },
  {
   "cell_type": "code",
   "execution_count": 29,
   "id": "bdc413ec-1d01-4036-8bab-e4309224cb56",
   "metadata": {},
   "outputs": [
    {
     "name": "stdout",
     "output_type": "stream",
     "text": [
      "141/141 [==============================] - 0s 747us/step\n"
     ]
    }
   ],
   "source": [
    "pred = model.predict(X_test)"
   ]
  },
  {
   "cell_type": "markdown",
   "id": "ca829126-8a2d-4fe7-8d0c-8fd5f358c057",
   "metadata": {},
   "source": [
    "<h3>MAPE</h3>"
   ]
  },
  {
   "cell_type": "code",
   "execution_count": 30,
   "id": "707baab6-c470-401a-b602-c242eb0be5cf",
   "metadata": {
    "tags": []
   },
   "outputs": [
    {
     "data": {
      "text/plain": [
       "2.8001152310861546"
      ]
     },
     "execution_count": 30,
     "metadata": {},
     "output_type": "execute_result"
    }
   ],
   "source": [
    "mean_absolute_percentage_error(y_test, pred)"
   ]
  },
  {
   "cell_type": "markdown",
   "id": "8971af07-8594-4369-87f7-7d81638b6cc6",
   "metadata": {
    "tags": []
   },
   "source": [
    "<h3>R2</h3>"
   ]
  },
  {
   "cell_type": "code",
   "execution_count": 31,
   "id": "cffe12af-b268-4b18-8511-617b6b535422",
   "metadata": {
    "tags": []
   },
   "outputs": [
    {
     "data": {
      "text/plain": [
       "0.9887483565018738"
      ]
     },
     "execution_count": 31,
     "metadata": {},
     "output_type": "execute_result"
    }
   ],
   "source": [
    "r2_score(y_test, pred)"
   ]
  },
  {
   "cell_type": "markdown",
   "id": "0d637ebb-6312-4099-856d-7ef4f92b35da",
   "metadata": {
    "tags": []
   },
   "source": [
    "<h3>Cosine Similarity</h3>"
   ]
  },
  {
   "cell_type": "code",
   "execution_count": 32,
   "id": "9274054a-2ed2-4fcc-836f-a6dd274da9d4",
   "metadata": {
    "tags": []
   },
   "outputs": [
    {
     "name": "stdout",
     "output_type": "stream",
     "text": [
      "[0.9979934]\n"
     ]
    }
   ],
   "source": [
    "print(np.dot(y_test.values, pred)/(np.linalg.norm(y_test.values)*np.linalg.norm(pred)))"
   ]
  },
  {
   "cell_type": "markdown",
   "id": "477770cd-1cb5-470f-a101-18f31bab2e95",
   "metadata": {
    "tags": []
   },
   "source": [
    "<h3>Visualization</h3>"
   ]
  },
  {
   "cell_type": "code",
   "execution_count": 33,
   "id": "91cab019-938e-4f82-b918-a5a38c1f44d5",
   "metadata": {
    "tags": []
   },
   "outputs": [],
   "source": [
    "result = pd.DataFrame()\n",
    "result['y'] = y_test.values\n",
    "result['pred'] = pred\n",
    "result = result.sort_values(by=['y']).reset_index(drop=True)\n",
    "result.to_csv('output\\\\mlp_sig_reg_pca.csv', index=False)"
   ]
  },
  {
   "cell_type": "code",
   "execution_count": 34,
   "id": "3186b84f-ecb3-48ac-b08e-14dea22e5105",
   "metadata": {
    "tags": []
   },
   "outputs": [
    {
     "data": {
      "image/png": "[encoded data removed]",
      "text/plain": [
       "<Figure size 1600x1000 with 1 Axes>"
      ]
     },
     "metadata": {},
     "output_type": "display_data"
    }
   ],
   "source": [
    "plt.figure(figsize=(16,10))\n",
    "plt.plot(result['pred'], 'r')\n",
    "plt.plot(result['y'], 'b')\n",
    "plt.xlabel(\"$Istância$\",)\n",
    "plt.ylabel(\"$Dano$\",)\n",
    "plt.legend(['Previsto', 'Analítico'])\n",
    "plt.show()"
   ]
  },
  {
   "cell_type": "code",
   "execution_count": null,
   "id": "09e4a34d-3595-431f-abf6-14ab7c2a418f",
   "metadata": {},
   "outputs": [],
   "source": []
  },
  {
   "cell_type": "code",
   "execution_count": null,
   "id": "ac1f1962-e186-4597-9072-1a089513ccef",
   "metadata": {},
   "outputs": [],
   "source": []
  }
 ],
 "metadata": {
  "kernelspec": {
   "display_name": "Python 3.10.8 64-bit",
   "language": "python",
   "name": "python3"
  },
  "language_info": {
   "codemirror_mode": {
    "name": "ipython",
    "version": 3
   },
   "file_extension": ".py",
   "mimetype": "text/x-python",
   "name": "python",
   "nbconvert_exporter": "python",
   "pygments_lexer": "ipython3",
   "version": "3.10.8"
  },
  "vscode": {
   "interpreter": {
    "hash": "0ea22478172a15f4d285a38099e43e6726f3ab0af87c7dd16fc299baaec68f07"
   }
  }
 },
 "nbformat": 4,
 "nbformat_minor": 5
}
