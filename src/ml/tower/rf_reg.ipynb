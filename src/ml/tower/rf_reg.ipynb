{
 "cells": [
  {
   "cell_type": "code",
   "execution_count": 18,
   "id": "74f78aa7-15d8-4c44-8e24-810219393815",
   "metadata": {},
   "outputs": [],
   "source": [
    "import pandas as pd\n",
    "import numpy as np\n",
    "import matplotlib.pyplot as plt\n",
    "\n",
    "from sklearn.ensemble import RandomForestRegressor\n",
    "from sklearn.model_selection import train_test_split\n",
    "from sklearn.metrics import mean_absolute_percentage_error, r2_score\n",
    "from sklearn.preprocessing import StandardScaler"
   ]
  },
  {
   "cell_type": "markdown",
   "id": "e861e65d-1078-40a4-b9d4-c1065a1d4c17",
   "metadata": {
    "tags": []
   },
   "source": [
    "<h1>Linear Damage</h1>"
   ]
  },
  {
   "cell_type": "code",
   "execution_count": 2,
   "id": "76d4a403-460f-41ed-85f5-1942215d93bb",
   "metadata": {},
   "outputs": [],
   "source": [
    "df = pd.read_csv('input\\\\results_complete_linear.csv')"
   ]
  },
  {
   "cell_type": "code",
   "execution_count": 3,
   "id": "d0935dd9-210a-474b-9a82-aa077ca287b8",
   "metadata": {},
   "outputs": [],
   "source": [
    "X_train, X_test, y_train, y_test = train_test_split(df.drop(['elem_damaged', 'damage'], axis=1), df['damage'], test_size=0.20, random_state=41)"
   ]
  },
  {
   "cell_type": "code",
   "execution_count": 5,
   "id": "bc0ca19c-417c-41c7-a502-0a01cee785b7",
   "metadata": {},
   "outputs": [],
   "source": [
    "scaler = StandardScaler()\n",
    "X_train = scaler.fit_transform(X_train)\n",
    "X_test = scaler.transform(X_test)"
   ]
  },
  {
   "cell_type": "code",
   "execution_count": 6,
   "id": "ab7357f0-bb9d-4d2a-a1c3-f60f49f5a363",
   "metadata": {},
   "outputs": [
    {
     "name": "stdout",
     "output_type": "stream",
     "text": [
      "Wall time: 35 s\n"
     ]
    }
   ],
   "source": [
    "%%time\n",
    "model = RandomForestRegressor(n_jobs=6, random_state=41)\n",
    "model.fit(X_train, y_train)\n",
    "pred = model.predict(X_test)"
   ]
  },
  {
   "cell_type": "markdown",
   "id": "a4461f6e-0653-4a01-b118-0d4f93c51cda",
   "metadata": {},
   "source": [
    "<h3>MAPE</h3>"
   ]
  },
  {
   "cell_type": "code",
   "execution_count": 8,
   "id": "21b33227-ffa8-4ff7-b59d-4909576097b4",
   "metadata": {
    "tags": []
   },
   "outputs": [
    {
     "data": {
      "text/plain": [
       "0.02803327323122914"
      ]
     },
     "execution_count": 8,
     "metadata": {},
     "output_type": "execute_result"
    }
   ],
   "source": [
    "mean_absolute_percentage_error(y_test, pred)"
   ]
  },
  {
   "cell_type": "markdown",
   "id": "a001989f-8c1d-47ef-bbc2-35099233313e",
   "metadata": {
    "tags": []
   },
   "source": [
    "<h3>R2</h3>"
   ]
  },
  {
   "cell_type": "code",
   "execution_count": 9,
   "id": "d6d4d79d-ead3-4cdc-b89f-a9d23bd1abe7",
   "metadata": {
    "tags": []
   },
   "outputs": [
    {
     "data": {
      "text/plain": [
       "0.9991014617925423"
      ]
     },
     "execution_count": 9,
     "metadata": {},
     "output_type": "execute_result"
    }
   ],
   "source": [
    "r2_score(y_test, pred)"
   ]
  },
  {
   "cell_type": "markdown",
   "id": "294562c2-bb97-4465-87af-e4b00a8ae1ee",
   "metadata": {
    "tags": []
   },
   "source": [
    "<h3>Cosine Similarity</h3>"
   ]
  },
  {
   "cell_type": "code",
   "execution_count": 22,
   "id": "415c200f-a434-4d83-9765-7df446ffb6aa",
   "metadata": {
    "tags": []
   },
   "outputs": [
    {
     "name": "stdout",
     "output_type": "stream",
     "text": [
      "0.9998952711543552\n"
     ]
    }
   ],
   "source": [
    "print(np.dot(y_test.values, pred)/(np.linalg.norm(y_test.values)*np.linalg.norm(pred)))"
   ]
  },
  {
   "cell_type": "markdown",
   "id": "ce084c57-919d-48ca-9ee3-906cf2f1ac9e",
   "metadata": {
    "tags": []
   },
   "source": [
    "<h1>Exponential Damage</h1>"
   ]
  },
  {
   "cell_type": "code",
   "execution_count": 25,
   "id": "fda86b57-083d-4b8a-879c-09a51d46aae1",
   "metadata": {},
   "outputs": [],
   "source": [
    "df_exp = pd.read_csv('input\\\\results_complete_exponential.csv')"
   ]
  },
  {
   "cell_type": "code",
   "execution_count": 26,
   "id": "793b4ebf-d1c9-4c7f-b3ba-0f7b2e9dc992",
   "metadata": {},
   "outputs": [],
   "source": [
    "X_train, X_test, y_train, y_test = train_test_split(df_exp.drop(['elem_damaged', 'damage'], axis=1), df_exp['damage'], test_size=0.20, random_state=41)"
   ]
  },
  {
   "cell_type": "code",
   "execution_count": 27,
   "id": "dfbf7d81-ed7d-4f7f-95e2-af545274f9c5",
   "metadata": {},
   "outputs": [],
   "source": [
    "scaler = StandardScaler()\n",
    "X_train = scaler.fit_transform(X_train)\n",
    "X_test = scaler.transform(X_test)"
   ]
  },
  {
   "cell_type": "code",
   "execution_count": 28,
   "id": "24e7d5ac-ed09-4f12-93ff-1d4342c7c154",
   "metadata": {},
   "outputs": [
    {
     "name": "stdout",
     "output_type": "stream",
     "text": [
      "Wall time: 35.2 s\n"
     ]
    }
   ],
   "source": [
    "%%time\n",
    "model = RandomForestRegressor(n_jobs=6, random_state=41)\n",
    "model.fit(X_train, y_train)\n",
    "pred = model.predict(X_test)"
   ]
  },
  {
   "cell_type": "markdown",
   "id": "caf1eeac-25bf-465f-ac05-d016710ce575",
   "metadata": {
    "tags": []
   },
   "source": [
    "<h3>MAPE</h3>"
   ]
  },
  {
   "cell_type": "code",
   "execution_count": 29,
   "id": "47d74196-1c84-4633-a7ad-f8c29bf474e4",
   "metadata": {
    "tags": []
   },
   "outputs": [
    {
     "data": {
      "text/plain": [
       "0.02629910718015332"
      ]
     },
     "execution_count": 29,
     "metadata": {},
     "output_type": "execute_result"
    }
   ],
   "source": [
    "mean_absolute_percentage_error(y_test, pred)"
   ]
  },
  {
   "cell_type": "markdown",
   "id": "9f6e1699-4e16-4a46-a55d-795475dd0aa5",
   "metadata": {
    "tags": []
   },
   "source": [
    "<h3>R2</h3>"
   ]
  },
  {
   "cell_type": "code",
   "execution_count": 30,
   "id": "9578e4f6-d7f7-4d7f-8086-4fdfa99dea58",
   "metadata": {
    "tags": []
   },
   "outputs": [
    {
     "data": {
      "text/plain": [
       "0.9982595792014881"
      ]
     },
     "execution_count": 30,
     "metadata": {},
     "output_type": "execute_result"
    }
   ],
   "source": [
    "r2_score(y_test, pred)"
   ]
  },
  {
   "cell_type": "markdown",
   "id": "8b76b958-aa16-460b-82a4-b82ee263ec2e",
   "metadata": {
    "tags": []
   },
   "source": [
    "<h3>Cosine Similarity</h3>"
   ]
  },
  {
   "cell_type": "code",
   "execution_count": 31,
   "id": "3956ff61-c3d7-4b4c-bbda-5e24027df59f",
   "metadata": {
    "tags": []
   },
   "outputs": [
    {
     "name": "stdout",
     "output_type": "stream",
     "text": [
      "0.9998810414285265\n"
     ]
    }
   ],
   "source": [
    "print(np.dot(y_test.values, pred)/(np.linalg.norm(y_test.values)*np.linalg.norm(pred)))"
   ]
  },
  {
   "cell_type": "markdown",
   "id": "14c4a008-a5f7-4f4a-8386-2f6ba6a248bc",
   "metadata": {},
   "source": [
    "<h1>Sigmoid-like Damage</h1>"
   ]
  },
  {
   "cell_type": "code",
   "execution_count": 32,
   "id": "a0488ffb-1f97-4d2a-962d-2d5b6c1de260",
   "metadata": {},
   "outputs": [],
   "source": [
    "df_sig = pd.read_csv('input\\\\results_complete_sigmoid_like.csv')"
   ]
  },
  {
   "cell_type": "code",
   "execution_count": 33,
   "id": "772b55e1-f2d6-40e5-8e24-67c16c6ef1f1",
   "metadata": {},
   "outputs": [],
   "source": [
    "X_train, X_test, y_train, y_test = train_test_split(df_sig.drop(['elem_damaged', 'damage'], axis=1), df_sig['damage'], test_size=0.20, random_state=41)"
   ]
  },
  {
   "cell_type": "code",
   "execution_count": 34,
   "id": "7a14f604-53c0-4563-9e8a-26f6f5bddc26",
   "metadata": {},
   "outputs": [],
   "source": [
    "scaler = StandardScaler()\n",
    "X_train = scaler.fit_transform(X_train)\n",
    "X_test = scaler.transform(X_test)"
   ]
  },
  {
   "cell_type": "code",
   "execution_count": 35,
   "id": "4b656da9-8afc-4a7d-b717-3fffa87ad210",
   "metadata": {},
   "outputs": [
    {
     "name": "stdout",
     "output_type": "stream",
     "text": [
      "Wall time: 34.8 s\n"
     ]
    }
   ],
   "source": [
    "%%time\n",
    "model = RandomForestRegressor(n_jobs=6, random_state=41)\n",
    "model.fit(X_train, y_train)\n",
    "pred = model.predict(X_test)"
   ]
  },
  {
   "cell_type": "markdown",
   "id": "b25606ff-1168-4a17-914d-60c63db732f0",
   "metadata": {
    "tags": []
   },
   "source": [
    "<h3>MAPE</h3>"
   ]
  },
  {
   "cell_type": "code",
   "execution_count": 36,
   "id": "309e114f-32f2-4c6a-99a1-073738a99ca7",
   "metadata": {
    "tags": []
   },
   "outputs": [
    {
     "data": {
      "text/plain": [
       "0.13971961401085417"
      ]
     },
     "execution_count": 36,
     "metadata": {},
     "output_type": "execute_result"
    }
   ],
   "source": [
    "mean_absolute_percentage_error(y_test, pred)"
   ]
  },
  {
   "cell_type": "markdown",
   "id": "76f70a2a-fa8c-495f-bd3c-5fd218694b24",
   "metadata": {
    "tags": []
   },
   "source": [
    "<h3>R2</h3>"
   ]
  },
  {
   "cell_type": "code",
   "execution_count": 37,
   "id": "3079b39b-f1b0-41d1-97c4-b43376489779",
   "metadata": {
    "tags": []
   },
   "outputs": [
    {
     "data": {
      "text/plain": [
       "0.9991357244630397"
      ]
     },
     "execution_count": 37,
     "metadata": {},
     "output_type": "execute_result"
    }
   ],
   "source": [
    "r2_score(y_test, pred)"
   ]
  },
  {
   "cell_type": "markdown",
   "id": "cd799a4b-8b46-4168-8337-5425fcc77626",
   "metadata": {
    "tags": []
   },
   "source": [
    "<h3>Cosine Similarity</h3>"
   ]
  },
  {
   "cell_type": "code",
   "execution_count": 38,
   "id": "aa042431-a7ed-47e7-96d2-fc3cba397d4b",
   "metadata": {
    "tags": []
   },
   "outputs": [
    {
     "name": "stdout",
     "output_type": "stream",
     "text": [
      "0.9998477909713315\n"
     ]
    }
   ],
   "source": [
    "print(np.dot(y_test.values, pred)/(np.linalg.norm(y_test.values)*np.linalg.norm(pred)))"
   ]
  },
  {
   "cell_type": "code",
   "execution_count": null,
   "id": "f41e4d7a-971f-4208-b21a-20992e26fb28",
   "metadata": {},
   "outputs": [],
   "source": []
  }
 ],
 "metadata": {
  "kernelspec": {
   "display_name": "Python 3 (ipykernel)",
   "language": "python",
   "name": "python3"
  },
  "language_info": {
   "codemirror_mode": {
    "name": "ipython",
    "version": 3
   },
   "file_extension": ".py",
   "mimetype": "text/x-python",
   "name": "python",
   "nbconvert_exporter": "python",
   "pygments_lexer": "ipython3",
   "version": "3.7.9"
  }
 },
 "nbformat": 4,
 "nbformat_minor": 5
}
