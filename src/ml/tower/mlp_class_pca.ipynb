{
 "cells": [
  {
   "cell_type": "code",
   "execution_count": 1,
   "id": "74f78aa7-15d8-4c44-8e24-810219393815",
   "metadata": {},
   "outputs": [],
   "source": [
    "import pandas as pd\n",
    "import tensorflow as tf\n",
    "import numpy as np\n",
    "import matplotlib.pyplot as plt\n",
    "import os\n",
    "\n",
    "from tensorflow import keras\n",
    "from sklearn.model_selection import train_test_split\n",
    "from sklearn.metrics import classification_report\n",
    "from sklearn.preprocessing import StandardScaler, OneHotEncoder\n",
    "from sklearn.decomposition import PCA"
   ]
  },
  {
   "cell_type": "markdown",
   "id": "994720bf-b54a-4fb0-ae3c-eea3a5b39e24",
   "metadata": {},
   "source": [
    "<h1>Linear Damage</h1>"
   ]
  },
  {
   "cell_type": "code",
   "execution_count": 2,
   "id": "76d4a403-460f-41ed-85f5-1942215d93bb",
   "metadata": {},
   "outputs": [],
   "source": [
    "df = pd.read_csv('input/results_complete_linear.csv')"
   ]
  },
  {
   "cell_type": "code",
   "execution_count": 3,
   "id": "d0935dd9-210a-474b-9a82-aa077ca287b8",
   "metadata": {},
   "outputs": [],
   "source": [
    "X_train, X_test, y_train, y_test = train_test_split(df.drop(['elem_damaged', 'damage'], axis=1), df['elem_damaged'], test_size=0.10, random_state=41)"
   ]
  },
  {
   "cell_type": "code",
   "execution_count": 4,
   "id": "1af628b4-0f5f-4722-bd9a-86c4e372bf62",
   "metadata": {},
   "outputs": [],
   "source": [
    "scaler = StandardScaler()\n",
    "hot_encoder = OneHotEncoder(sparse=False)\n",
    "X_train = scaler.fit_transform(X_train)\n",
    "X_test = scaler.transform(X_test)\n",
    "y_train = hot_encoder.fit_transform(y_train.values.reshape(-1, 1))\n",
    "y_test = hot_encoder.transform(y_test.values.reshape(-1, 1))\n",
    "\n",
    "pca = PCA(.95)\n",
    "X_train = pca.fit_transform(X_train)\n",
    "X_test = pca.transform(X_test)"
   ]
  },
  {
   "cell_type": "code",
   "execution_count": 5,
   "id": "fab4ae95-f2fc-436c-acac-8ff44a1e1bc5",
   "metadata": {
    "scrolled": true,
    "tags": []
   },
   "outputs": [
    {
     "name": "stdout",
     "output_type": "stream",
     "text": [
      "CPU times: total: 172 ms\n",
      "Wall time: 398 ms\n"
     ]
    }
   ],
   "source": [
    "%%time\n",
    "path = 'models/linear_class_pca'\n",
    "if (os.path.exists(path)):\n",
    "    model = keras.models.load_model(path)\n",
    "else:\n",
    "    model = keras.Sequential()\n",
    "    model.add(keras.Input(shape=(int(pca.n_components_))))\n",
    "    model.add(keras.layers.Dense(20, activation=tf.keras.layers.LeakyReLU(alpha=0.5), kernel_initializer=tf.keras.initializers.HeNormal())) #80\n",
    "    model.add(keras.layers.Dense(20, activation=tf.keras.layers.LeakyReLU(alpha=0.5), kernel_initializer=tf.keras.initializers.HeNormal()))\n",
    "    model.add(keras.layers.Dense(20, activation=tf.keras.layers.LeakyReLU(alpha=0.5), kernel_initializer=tf.keras.initializers.HeNormal()))\n",
    "    model.add(keras.layers.Dense(129, activation='softmax'))\n",
    "    model.summary()\n",
    "    model.compile(loss='categorical_crossentropy', optimizer=tf.keras.optimizers.Adam(learning_rate=0.0001), metrics=['accuracy'])\n",
    "    history = model.fit(X_train, y_train, epochs=1000, validation_data=(X_test, y_test)) #1000 epocas\n",
    "    model.save(path)"
   ]
  },
  {
   "cell_type": "code",
   "execution_count": 15,
   "id": "e9be2663-ca79-46a7-bbbb-460f09cce5e6",
   "metadata": {},
   "outputs": [
    {
     "data": {
      "image/png": "[encoded data removed]",
      "text/plain": [
       "<Figure size 432x288 with 1 Axes>"
      ]
     },
     "metadata": {
      "needs_background": "light"
     },
     "output_type": "display_data"
    }
   ],
   "source": [
    "plt.plot(history.history['loss'])\n",
    "plt.plot(history.history['val_loss'])\n",
    "plt.show()"
   ]
  },
  {
   "cell_type": "code",
   "execution_count": 6,
   "id": "091fb9e5-5ea4-48ad-8868-5b2420ad7b9f",
   "metadata": {},
   "outputs": [
    {
     "name": "stdout",
     "output_type": "stream",
     "text": [
      "81/81 [==============================] - 0s 860us/step\n"
     ]
    }
   ],
   "source": [
    "pred = model.predict(X_test)"
   ]
  },
  {
   "cell_type": "markdown",
   "id": "52b88275-d601-4d53-acb0-b20eab968fcb",
   "metadata": {
    "tags": []
   },
   "source": [
    "<h3>Components from PCA</h3>"
   ]
  },
  {
   "cell_type": "code",
   "execution_count": 17,
   "id": "04dbcc71-021e-4385-8366-06d2229a9938",
   "metadata": {
    "tags": []
   },
   "outputs": [
    {
     "data": {
      "text/plain": [
       "20"
      ]
     },
     "execution_count": 17,
     "metadata": {},
     "output_type": "execute_result"
    }
   ],
   "source": [
    "pca.n_components_"
   ]
  },
  {
   "cell_type": "markdown",
   "id": "7037eccb-a72f-4f5b-ae4c-05c283ae69dd",
   "metadata": {},
   "source": [
    "<h3>Classification Report</h3>"
   ]
  },
  {
   "cell_type": "code",
   "execution_count": 7,
   "id": "eb1c79d0-88fb-41e0-bdb7-0ec576ce2dbb",
   "metadata": {
    "scrolled": true,
    "tags": []
   },
   "outputs": [
    {
     "name": "stdout",
     "output_type": "stream",
     "text": [
      "              precision    recall  f1-score   support\n",
      "\n",
      "           0    0.75000   1.00000   0.85714        21\n",
      "           1    1.00000   0.88889   0.94118        18\n",
      "           2    1.00000   0.95652   0.97778        23\n",
      "           3    1.00000   1.00000   1.00000        20\n",
      "           4    1.00000   1.00000   1.00000        23\n",
      "           5    0.64706   0.55000   0.59459        20\n",
      "           6    1.00000   0.95652   0.97778        23\n",
      "           7    1.00000   1.00000   1.00000        25\n",
      "           8    1.00000   1.00000   1.00000        25\n",
      "           9    1.00000   1.00000   1.00000        13\n",
      "          10    0.43396   1.00000   0.60526        23\n",
      "          11    1.00000   0.94118   0.96970        17\n",
      "          12    1.00000   0.81250   0.89655        16\n",
      "          13    0.96875   1.00000   0.98413        31\n",
      "          14    1.00000   1.00000   1.00000        30\n",
      "          15    1.00000   1.00000   1.00000        19\n",
      "          16    1.00000   1.00000   1.00000        25\n",
      "          17    1.00000   1.00000   1.00000        17\n",
      "          18    0.90000   0.90000   0.90000        20\n",
      "          19    0.93750   0.93750   0.93750        16\n",
      "          20    1.00000   0.94737   0.97297        19\n",
      "          21    1.00000   1.00000   1.00000        21\n",
      "          22    1.00000   0.83333   0.90909        18\n",
      "          23    1.00000   1.00000   1.00000        14\n",
      "          24    1.00000   0.85714   0.92308        21\n",
      "          25    1.00000   0.95238   0.97561        21\n",
      "          26    1.00000   1.00000   1.00000        13\n",
      "          27    1.00000   0.96000   0.97959        25\n",
      "          28    1.00000   1.00000   1.00000        27\n",
      "          29    1.00000   1.00000   1.00000        24\n",
      "          30    1.00000   0.95238   0.97561        21\n",
      "          31    1.00000   0.90476   0.95000        21\n",
      "          32    1.00000   0.94444   0.97143        18\n",
      "          33    1.00000   1.00000   1.00000        22\n",
      "          34    0.70833   0.94444   0.80952        18\n",
      "          35    1.00000   1.00000   1.00000        10\n",
      "          36    1.00000   1.00000   1.00000        27\n",
      "          37    0.90476   0.90476   0.90476        21\n",
      "          38    1.00000   0.95000   0.97436        20\n",
      "          39    1.00000   1.00000   1.00000        15\n",
      "          40    1.00000   0.89474   0.94444        19\n",
      "          41    0.92308   1.00000   0.96000        12\n",
      "          42    1.00000   0.93333   0.96552        30\n",
      "          43    0.48571   0.68000   0.56667        25\n",
      "          44    1.00000   0.95455   0.97674        22\n",
      "          45    0.95455   0.91304   0.93333        23\n",
      "          46    1.00000   1.00000   1.00000        14\n",
      "          47    1.00000   1.00000   1.00000        17\n",
      "          48    0.95238   1.00000   0.97561        20\n",
      "          49    1.00000   0.95238   0.97561        21\n",
      "          50    1.00000   1.00000   1.00000        25\n",
      "          51    0.95652   1.00000   0.97778        22\n",
      "          52    0.87500   0.77778   0.82353        18\n",
      "          53    1.00000   1.00000   1.00000        25\n",
      "          54    1.00000   1.00000   1.00000        22\n",
      "          55    1.00000   1.00000   1.00000        13\n",
      "          56    1.00000   1.00000   1.00000        21\n",
      "          57    1.00000   1.00000   1.00000        28\n",
      "          58    1.00000   1.00000   1.00000        14\n",
      "          59    1.00000   1.00000   1.00000        26\n",
      "          60    0.94444   1.00000   0.97143        17\n",
      "          61    1.00000   0.93750   0.96774        16\n",
      "          62    1.00000   1.00000   1.00000        17\n",
      "          63    1.00000   1.00000   1.00000        25\n",
      "          64    0.92857   1.00000   0.96296        13\n",
      "          65    1.00000   1.00000   1.00000        17\n",
      "          66    1.00000   0.95000   0.97436        20\n",
      "          67    1.00000   1.00000   1.00000        12\n",
      "          68    1.00000   0.95238   0.97561        21\n",
      "          69    1.00000   1.00000   1.00000        18\n",
      "          70    1.00000   1.00000   1.00000        14\n",
      "          71    1.00000   0.89474   0.94444        19\n",
      "          72    1.00000   1.00000   1.00000        11\n",
      "          73    1.00000   1.00000   1.00000        20\n",
      "          74    1.00000   0.95652   0.97778        23\n",
      "          75    1.00000   1.00000   1.00000        27\n",
      "          76    1.00000   0.95652   0.97778        23\n",
      "          77    1.00000   1.00000   1.00000        21\n",
      "          78    0.94737   0.90000   0.92308        20\n",
      "          79    1.00000   1.00000   1.00000        24\n",
      "          80    1.00000   1.00000   1.00000        19\n",
      "          81    1.00000   1.00000   1.00000        14\n",
      "          82    1.00000   1.00000   1.00000        20\n",
      "          83    1.00000   0.90000   0.94737        20\n",
      "          84    1.00000   1.00000   1.00000        23\n",
      "          85    1.00000   1.00000   1.00000        23\n",
      "          86    1.00000   1.00000   1.00000        19\n",
      "          87    1.00000   0.90000   0.94737        20\n",
      "          88    1.00000   1.00000   1.00000        19\n",
      "          89    1.00000   1.00000   1.00000        20\n",
      "          90    1.00000   1.00000   1.00000        22\n",
      "          91    1.00000   1.00000   1.00000        19\n",
      "          92    1.00000   1.00000   1.00000        12\n",
      "          93    1.00000   1.00000   1.00000        19\n",
      "          94    0.96154   1.00000   0.98039        25\n",
      "          95    1.00000   1.00000   1.00000        17\n",
      "          96    1.00000   0.89286   0.94340        28\n",
      "          97    1.00000   0.94737   0.97297        19\n",
      "          98    1.00000   1.00000   1.00000        21\n",
      "          99    1.00000   0.95833   0.97872        24\n",
      "         100    1.00000   1.00000   1.00000        15\n",
      "         101    0.94118   0.94118   0.94118        17\n",
      "         102    0.86207   1.00000   0.92593        25\n",
      "         103    1.00000   1.00000   1.00000        21\n",
      "         104    1.00000   0.87500   0.93333        16\n",
      "         105    1.00000   0.93333   0.96552        15\n",
      "         106    1.00000   1.00000   1.00000        15\n",
      "         107    1.00000   1.00000   1.00000        18\n",
      "         108    0.85714   0.81818   0.83721        22\n",
      "         109    1.00000   0.95652   0.97778        23\n",
      "         110    1.00000   1.00000   1.00000        28\n",
      "         111    0.92000   0.95833   0.93878        24\n",
      "         112    1.00000   0.76471   0.86667        17\n",
      "         113    0.79167   1.00000   0.88372        19\n",
      "         114    0.93333   1.00000   0.96552        14\n",
      "         115    1.00000   0.73684   0.84848        19\n",
      "         116    1.00000   1.00000   1.00000        17\n",
      "         117    1.00000   1.00000   1.00000        11\n",
      "         118    0.88235   0.88235   0.88235        17\n",
      "         119    1.00000   0.92000   0.95833        25\n",
      "         120    1.00000   0.95455   0.97674        22\n",
      "         121    1.00000   0.92857   0.96296        28\n",
      "         122    1.00000   1.00000   1.00000        14\n",
      "         123    1.00000   1.00000   1.00000        18\n",
      "         124    1.00000   1.00000   1.00000        24\n",
      "         125    1.00000   1.00000   1.00000        16\n",
      "         126    1.00000   1.00000   1.00000        17\n",
      "         127    1.00000   0.95455   0.97674        22\n",
      "         128    1.00000   1.00000   1.00000        22\n",
      "\n",
      "    accuracy                        0.96047      2580\n",
      "   macro avg    0.97184   0.96101   0.96414      2580\n",
      "weighted avg    0.97061   0.96047   0.96313      2580\n",
      "\n"
     ]
    }
   ],
   "source": [
    "print(classification_report(np.argmax(y_test, axis=1), np.argmax(pred, axis=1), digits=5))"
   ]
  },
  {
   "cell_type": "markdown",
   "id": "fa51af58-9ede-46e3-99ed-0164c6834c82",
   "metadata": {},
   "source": [
    "<h1>Exponential Damage</h1>"
   ]
  },
  {
   "cell_type": "code",
   "execution_count": 8,
   "id": "fda86b57-083d-4b8a-879c-09a51d46aae1",
   "metadata": {},
   "outputs": [],
   "source": [
    "df_exp = pd.read_csv('input/results_complete_exponential.csv')"
   ]
  },
  {
   "cell_type": "code",
   "execution_count": 9,
   "id": "9eff74c0-769f-4685-9a72-f69724210c78",
   "metadata": {},
   "outputs": [],
   "source": [
    "X_train, X_test, y_train, y_test = train_test_split(df_exp.drop(['elem_damaged', 'damage'], axis=1), df_exp['elem_damaged'], test_size=0.10, random_state=41)"
   ]
  },
  {
   "cell_type": "code",
   "execution_count": 10,
   "id": "815cc01f-7962-4f05-b49d-1de62fd5eb6e",
   "metadata": {},
   "outputs": [],
   "source": [
    "scaler = StandardScaler()\n",
    "hot_encoder = OneHotEncoder(sparse=False)\n",
    "X_train = scaler.fit_transform(X_train)\n",
    "X_test = scaler.transform(X_test)\n",
    "y_train = hot_encoder.fit_transform(y_train.values.reshape(-1, 1))\n",
    "y_test = hot_encoder.transform(y_test.values.reshape(-1, 1))\n",
    "\n",
    "pca = PCA(.95)\n",
    "X_train = pca.fit_transform(X_train)\n",
    "X_test = pca.transform(X_test)"
   ]
  },
  {
   "cell_type": "code",
   "execution_count": 11,
   "id": "45c553a7-f94f-43df-9032-385155de8e94",
   "metadata": {
    "scrolled": true,
    "tags": []
   },
   "outputs": [
    {
     "name": "stdout",
     "output_type": "stream",
     "text": [
      "CPU times: total: 156 ms\n",
      "Wall time: 271 ms\n"
     ]
    }
   ],
   "source": [
    "%%time\n",
    "path = 'models/exp_class_pca'\n",
    "if (os.path.exists(path)):\n",
    "    model = keras.models.load_model(path)\n",
    "else:\n",
    "    model = keras.Sequential()\n",
    "    model.add(keras.Input(shape=(int(pca.n_components_))))\n",
    "    model.add(keras.layers.Dense(20, activation=tf.keras.layers.LeakyReLU(alpha=0.5), kernel_initializer=tf.keras.initializers.HeNormal())) #80\n",
    "    model.add(keras.layers.Dense(20, activation=tf.keras.layers.LeakyReLU(alpha=0.5), kernel_initializer=tf.keras.initializers.HeNormal()))\n",
    "    model.add(keras.layers.Dense(20, activation=tf.keras.layers.LeakyReLU(alpha=0.5), kernel_initializer=tf.keras.initializers.HeNormal()))\n",
    "    model.add(keras.layers.Dense(129, activation='softmax'))\n",
    "    model.summary()\n",
    "    model.compile(loss='categorical_crossentropy', optimizer=tf.keras.optimizers.Adam(learning_rate=0.0001), metrics=['accuracy'])\n",
    "    history = model.fit(X_train, y_train, epochs=1000, validation_data=(X_test, y_test)) #1000 epocas\n",
    "    model.save(path)"
   ]
  },
  {
   "cell_type": "code",
   "execution_count": 12,
   "id": "6d48b8bb-4050-4e4e-9b5d-f544ec904945",
   "metadata": {},
   "outputs": [
    {
     "name": "stdout",
     "output_type": "stream",
     "text": [
      "81/81 [==============================] - 0s 901us/step\n"
     ]
    }
   ],
   "source": [
    "pred = model.predict(X_test)"
   ]
  },
  {
   "cell_type": "code",
   "execution_count": 25,
   "id": "6579e5bf-16c8-43a8-92cd-cc0d9974cbce",
   "metadata": {},
   "outputs": [
    {
     "data": {
      "image/png": "[encoded data removed]",
      "text/plain": [
       "<Figure size 432x288 with 1 Axes>"
      ]
     },
     "metadata": {
      "needs_background": "light"
     },
     "output_type": "display_data"
    }
   ],
   "source": [
    "plt.plot(history.history['loss'])\n",
    "plt.plot(history.history['val_loss'])\n",
    "plt.show()"
   ]
  },
  {
   "cell_type": "markdown",
   "id": "a00868c9-584a-4c37-b489-ab5297a2ec9e",
   "metadata": {
    "tags": []
   },
   "source": [
    "<h3>Components from PCA</h3>"
   ]
  },
  {
   "cell_type": "code",
   "execution_count": 26,
   "id": "08fb7170-d43d-4183-bc46-19b621c18b0c",
   "metadata": {
    "tags": []
   },
   "outputs": [
    {
     "data": {
      "text/plain": [
       "19"
      ]
     },
     "execution_count": 26,
     "metadata": {},
     "output_type": "execute_result"
    }
   ],
   "source": [
    "pca.n_components_"
   ]
  },
  {
   "cell_type": "markdown",
   "id": "36cb94e0-76ea-48a8-9201-bb3798b826a2",
   "metadata": {},
   "source": [
    "<h3>Classification Report</h3>"
   ]
  },
  {
   "cell_type": "code",
   "execution_count": 13,
   "id": "380a789e-6c82-431c-bc0d-61f8c449e71a",
   "metadata": {
    "scrolled": true,
    "tags": []
   },
   "outputs": [
    {
     "name": "stdout",
     "output_type": "stream",
     "text": [
      "              precision    recall  f1-score   support\n",
      "\n",
      "           0    0.84000   1.00000   0.91304        21\n",
      "           1    1.00000   0.88889   0.94118        18\n",
      "           2    1.00000   0.95652   0.97778        23\n",
      "           3    1.00000   1.00000   1.00000        20\n",
      "           4    1.00000   1.00000   1.00000        23\n",
      "           5    0.42553   1.00000   0.59701        20\n",
      "           6    1.00000   0.95652   0.97778        23\n",
      "           7    1.00000   1.00000   1.00000        25\n",
      "           8    1.00000   1.00000   1.00000        25\n",
      "           9    1.00000   1.00000   1.00000        13\n",
      "          10    0.75000   0.39130   0.51429        23\n",
      "          11    1.00000   0.94118   0.96970        17\n",
      "          12    1.00000   0.81250   0.89655        16\n",
      "          13    0.93939   1.00000   0.96875        31\n",
      "          14    1.00000   1.00000   1.00000        30\n",
      "          15    1.00000   1.00000   1.00000        19\n",
      "          16    1.00000   1.00000   1.00000        25\n",
      "          17    0.94444   1.00000   0.97143        17\n",
      "          18    0.94737   0.90000   0.92308        20\n",
      "          19    1.00000   0.93750   0.96774        16\n",
      "          20    0.95000   1.00000   0.97436        19\n",
      "          21    1.00000   1.00000   1.00000        21\n",
      "          22    1.00000   0.77778   0.87500        18\n",
      "          23    1.00000   1.00000   1.00000        14\n",
      "          24    0.94444   0.80952   0.87179        21\n",
      "          25    1.00000   0.95238   0.97561        21\n",
      "          26    1.00000   1.00000   1.00000        13\n",
      "          27    1.00000   0.96000   0.97959        25\n",
      "          28    1.00000   0.96296   0.98113        27\n",
      "          29    0.96000   1.00000   0.97959        24\n",
      "          30    1.00000   0.95238   0.97561        21\n",
      "          31    1.00000   0.90476   0.95000        21\n",
      "          32    0.89474   0.94444   0.91892        18\n",
      "          33    1.00000   1.00000   1.00000        22\n",
      "          34    0.55172   0.88889   0.68085        18\n",
      "          35    1.00000   1.00000   1.00000        10\n",
      "          36    1.00000   1.00000   1.00000        27\n",
      "          37    0.53333   0.76190   0.62745        21\n",
      "          38    1.00000   0.95000   0.97436        20\n",
      "          39    1.00000   0.93333   0.96552        15\n",
      "          40    1.00000   0.94737   0.97297        19\n",
      "          41    1.00000   1.00000   1.00000        12\n",
      "          42    1.00000   1.00000   1.00000        30\n",
      "          43    0.75000   0.48000   0.58537        25\n",
      "          44    1.00000   0.95455   0.97674        22\n",
      "          45    1.00000   0.95652   0.97778        23\n",
      "          46    1.00000   1.00000   1.00000        14\n",
      "          47    1.00000   1.00000   1.00000        17\n",
      "          48    1.00000   1.00000   1.00000        20\n",
      "          49    1.00000   0.95238   0.97561        21\n",
      "          50    0.96154   1.00000   0.98039        25\n",
      "          51    1.00000   1.00000   1.00000        22\n",
      "          52    0.90909   0.55556   0.68966        18\n",
      "          53    1.00000   1.00000   1.00000        25\n",
      "          54    1.00000   1.00000   1.00000        22\n",
      "          55    1.00000   1.00000   1.00000        13\n",
      "          56    1.00000   1.00000   1.00000        21\n",
      "          57    1.00000   1.00000   1.00000        28\n",
      "          58    0.93333   1.00000   0.96552        14\n",
      "          59    1.00000   1.00000   1.00000        26\n",
      "          60    0.94118   0.94118   0.94118        17\n",
      "          61    1.00000   0.93750   0.96774        16\n",
      "          62    1.00000   1.00000   1.00000        17\n",
      "          63    1.00000   1.00000   1.00000        25\n",
      "          64    1.00000   1.00000   1.00000        13\n",
      "          65    0.94444   1.00000   0.97143        17\n",
      "          66    0.95000   0.95000   0.95000        20\n",
      "          67    1.00000   1.00000   1.00000        12\n",
      "          68    1.00000   1.00000   1.00000        21\n",
      "          69    0.94737   1.00000   0.97297        18\n",
      "          70    1.00000   1.00000   1.00000        14\n",
      "          71    0.89474   0.89474   0.89474        19\n",
      "          72    1.00000   1.00000   1.00000        11\n",
      "          73    1.00000   1.00000   1.00000        20\n",
      "          74    1.00000   0.95652   0.97778        23\n",
      "          75    1.00000   1.00000   1.00000        27\n",
      "          76    1.00000   1.00000   1.00000        23\n",
      "          77    0.95455   1.00000   0.97674        21\n",
      "          78    1.00000   0.95000   0.97436        20\n",
      "          79    1.00000   1.00000   1.00000        24\n",
      "          80    1.00000   0.94737   0.97297        19\n",
      "          81    1.00000   0.92857   0.96296        14\n",
      "          82    1.00000   1.00000   1.00000        20\n",
      "          83    0.94737   0.90000   0.92308        20\n",
      "          84    1.00000   0.91304   0.95455        23\n",
      "          85    1.00000   1.00000   1.00000        23\n",
      "          86    1.00000   0.94737   0.97297        19\n",
      "          87    0.94444   0.85000   0.89474        20\n",
      "          88    0.90476   1.00000   0.95000        19\n",
      "          89    1.00000   1.00000   1.00000        20\n",
      "          90    1.00000   0.90909   0.95238        22\n",
      "          91    1.00000   1.00000   1.00000        19\n",
      "          92    1.00000   1.00000   1.00000        12\n",
      "          93    1.00000   1.00000   1.00000        19\n",
      "          94    0.91667   0.88000   0.89796        25\n",
      "          95    1.00000   1.00000   1.00000        17\n",
      "          96    1.00000   0.89286   0.94340        28\n",
      "          97    0.85714   0.94737   0.90000        19\n",
      "          98    1.00000   0.85714   0.92308        21\n",
      "          99    0.95652   0.91667   0.93617        24\n",
      "         100    0.93333   0.93333   0.93333        15\n",
      "         101    1.00000   0.94118   0.96970        17\n",
      "         102    0.91667   0.88000   0.89796        25\n",
      "         103    1.00000   1.00000   1.00000        21\n",
      "         104    0.76190   1.00000   0.86486        16\n",
      "         105    0.93333   0.93333   0.93333        15\n",
      "         106    1.00000   1.00000   1.00000        15\n",
      "         107    1.00000   0.88889   0.94118        18\n",
      "         108    0.81818   0.81818   0.81818        22\n",
      "         109    1.00000   0.60870   0.75676        23\n",
      "         110    1.00000   0.96429   0.98182        28\n",
      "         111    0.95833   0.95833   0.95833        24\n",
      "         112    0.71429   0.88235   0.78947        17\n",
      "         113    0.70000   0.73684   0.71795        19\n",
      "         114    1.00000   1.00000   1.00000        14\n",
      "         115    0.65385   0.89474   0.75556        19\n",
      "         116    1.00000   0.94118   0.96970        17\n",
      "         117    1.00000   1.00000   1.00000        11\n",
      "         118    0.60000   0.88235   0.71429        17\n",
      "         119    0.95652   0.88000   0.91667        25\n",
      "         120    1.00000   0.95455   0.97674        22\n",
      "         121    0.81250   0.92857   0.86667        28\n",
      "         122    0.87500   1.00000   0.93333        14\n",
      "         123    1.00000   1.00000   1.00000        18\n",
      "         124    1.00000   0.95833   0.97872        24\n",
      "         125    1.00000   1.00000   1.00000        16\n",
      "         126    1.00000   1.00000   1.00000        17\n",
      "         127    1.00000   0.95455   0.97674        22\n",
      "         128    1.00000   1.00000   1.00000        22\n",
      "\n",
      "    accuracy                        0.94264      2580\n",
      "   macro avg    0.95371   0.94487   0.94523      2580\n",
      "weighted avg    0.95400   0.94264   0.94422      2580\n",
      "\n"
     ]
    }
   ],
   "source": [
    "print(classification_report(np.argmax(y_test, axis=1), np.argmax(pred, axis=1), digits=5))"
   ]
  },
  {
   "cell_type": "markdown",
   "id": "73f47756-08c1-4e9a-a4db-0247f8432987",
   "metadata": {},
   "source": [
    "<h1>Sigmoid-like Damage</h1>"
   ]
  },
  {
   "cell_type": "code",
   "execution_count": 14,
   "id": "a0488ffb-1f97-4d2a-962d-2d5b6c1de260",
   "metadata": {},
   "outputs": [],
   "source": [
    "df_sig = pd.read_csv('input/results_complete_sigmoid_like.csv')"
   ]
  },
  {
   "cell_type": "code",
   "execution_count": 15,
   "id": "4a69a9e2-9c1a-460d-8ee0-0b0906b8f51f",
   "metadata": {},
   "outputs": [],
   "source": [
    "X_train, X_test, y_train, y_test = train_test_split(df_sig.drop(['elem_damaged', 'damage'], axis=1), df_sig['elem_damaged'], test_size=0.10, random_state=41)"
   ]
  },
  {
   "cell_type": "code",
   "execution_count": 16,
   "id": "d4725a8a-f537-49c8-b452-b67189a6746f",
   "metadata": {},
   "outputs": [],
   "source": [
    "scaler = StandardScaler()\n",
    "hot_encoder = OneHotEncoder(sparse=False)\n",
    "X_train = scaler.fit_transform(X_train)\n",
    "X_test = scaler.transform(X_test)\n",
    "y_train = hot_encoder.fit_transform(y_train.values.reshape(-1, 1))\n",
    "y_test = hot_encoder.transform(y_test.values.reshape(-1, 1))\n",
    "\n",
    "pca = PCA(.95)\n",
    "X_train = pca.fit_transform(X_train)\n",
    "X_test = pca.transform(X_test)"
   ]
  },
  {
   "cell_type": "code",
   "execution_count": 17,
   "id": "29a28008-ffff-418d-862c-e3b1f4a69826",
   "metadata": {
    "scrolled": true,
    "tags": []
   },
   "outputs": [
    {
     "name": "stdout",
     "output_type": "stream",
     "text": [
      "CPU times: total: 172 ms\n",
      "Wall time: 268 ms\n"
     ]
    }
   ],
   "source": [
    "%%time\n",
    "path = 'models/sig_class_pca'\n",
    "if (os.path.exists(path)):\n",
    "    model = keras.models.load_model(path)\n",
    "else:\n",
    "    model = keras.Sequential()\n",
    "    model.add(keras.Input(shape=(int(pca.n_components_))))\n",
    "    model.add(keras.layers.Dense(80, activation=tf.keras.layers.LeakyReLU(alpha=0.5), kernel_initializer=tf.keras.initializers.HeNormal())) #80\n",
    "    model.add(keras.layers.Dense(80, activation=tf.keras.layers.LeakyReLU(alpha=0.5), kernel_initializer=tf.keras.initializers.HeNormal()))\n",
    "    model.add(keras.layers.Dense(80, activation=tf.keras.layers.LeakyReLU(alpha=0.5), kernel_initializer=tf.keras.initializers.HeNormal()))\n",
    "    model.add(keras.layers.Dense(129, activation='softmax'))\n",
    "    model.summary()\n",
    "    model.compile(loss='categorical_crossentropy', optimizer=tf.keras.optimizers.Adam(learning_rate=0.0001), metrics=['accuracy'])\n",
    "    history = model.fit(X_train, y_train, epochs=1000, validation_data=(X_test, y_test)) #1000 epocas\n",
    "    model.save(path)"
   ]
  },
  {
   "cell_type": "code",
   "execution_count": 37,
   "id": "804d5dca-da51-4c35-b5fd-3f6bf937b7d7",
   "metadata": {},
   "outputs": [
    {
     "data": {
      "image/png": "[encoded data removed]",
      "text/plain": [
       "<Figure size 432x288 with 1 Axes>"
      ]
     },
     "metadata": {
      "needs_background": "light"
     },
     "output_type": "display_data"
    }
   ],
   "source": [
    "plt.plot(history.history['loss'])\n",
    "plt.plot(history.history['val_loss'])\n",
    "plt.show()"
   ]
  },
  {
   "cell_type": "code",
   "execution_count": 38,
   "id": "bdc413ec-1d01-4036-8bab-e4309224cb56",
   "metadata": {},
   "outputs": [],
   "source": [
    "pred = model.predict(X_test)"
   ]
  },
  {
   "cell_type": "markdown",
   "id": "e550fb42-15a5-416a-a527-05341b076f02",
   "metadata": {
    "tags": []
   },
   "source": [
    "<h3>Components from PCA</h3>"
   ]
  },
  {
   "cell_type": "code",
   "execution_count": 39,
   "id": "68ceb80b-59b5-49a7-9a6a-e0e7dc7273c0",
   "metadata": {
    "tags": []
   },
   "outputs": [
    {
     "data": {
      "text/plain": [
       "14"
      ]
     },
     "execution_count": 39,
     "metadata": {},
     "output_type": "execute_result"
    }
   ],
   "source": [
    "pca.n_components_"
   ]
  },
  {
   "cell_type": "markdown",
   "id": "efc3c63e-297b-428d-8528-da0aa58098c8",
   "metadata": {},
   "source": [
    "<h3>Classification Report</h3>"
   ]
  },
  {
   "cell_type": "code",
   "execution_count": 18,
   "id": "345b8adc-5738-4839-82eb-69a6a1eb0741",
   "metadata": {
    "scrolled": true,
    "tags": []
   },
   "outputs": [
    {
     "name": "stdout",
     "output_type": "stream",
     "text": [
      "              precision    recall  f1-score   support\n",
      "\n",
      "           0    0.84000   1.00000   0.91304        21\n",
      "           1    1.00000   0.88889   0.94118        18\n",
      "           2    1.00000   0.95652   0.97778        23\n",
      "           3    1.00000   1.00000   1.00000        20\n",
      "           4    1.00000   1.00000   1.00000        23\n",
      "           5    0.42553   1.00000   0.59701        20\n",
      "           6    1.00000   0.95652   0.97778        23\n",
      "           7    1.00000   1.00000   1.00000        25\n",
      "           8    1.00000   1.00000   1.00000        25\n",
      "           9    1.00000   1.00000   1.00000        13\n",
      "          10    0.75000   0.39130   0.51429        23\n",
      "          11    1.00000   0.94118   0.96970        17\n",
      "          12    1.00000   0.81250   0.89655        16\n",
      "          13    0.93939   1.00000   0.96875        31\n",
      "          14    1.00000   1.00000   1.00000        30\n",
      "          15    1.00000   1.00000   1.00000        19\n",
      "          16    1.00000   1.00000   1.00000        25\n",
      "          17    0.94444   1.00000   0.97143        17\n",
      "          18    0.94737   0.90000   0.92308        20\n",
      "          19    1.00000   0.93750   0.96774        16\n",
      "          20    0.95000   1.00000   0.97436        19\n",
      "          21    1.00000   1.00000   1.00000        21\n",
      "          22    1.00000   0.77778   0.87500        18\n",
      "          23    1.00000   1.00000   1.00000        14\n",
      "          24    0.94444   0.80952   0.87179        21\n",
      "          25    1.00000   0.95238   0.97561        21\n",
      "          26    1.00000   1.00000   1.00000        13\n",
      "          27    1.00000   0.96000   0.97959        25\n",
      "          28    1.00000   0.96296   0.98113        27\n",
      "          29    0.96000   1.00000   0.97959        24\n",
      "          30    1.00000   0.95238   0.97561        21\n",
      "          31    1.00000   0.90476   0.95000        21\n",
      "          32    0.89474   0.94444   0.91892        18\n",
      "          33    1.00000   1.00000   1.00000        22\n",
      "          34    0.55172   0.88889   0.68085        18\n",
      "          35    1.00000   1.00000   1.00000        10\n",
      "          36    1.00000   1.00000   1.00000        27\n",
      "          37    0.53333   0.76190   0.62745        21\n",
      "          38    1.00000   0.95000   0.97436        20\n",
      "          39    1.00000   0.93333   0.96552        15\n",
      "          40    1.00000   0.94737   0.97297        19\n",
      "          41    1.00000   1.00000   1.00000        12\n",
      "          42    1.00000   1.00000   1.00000        30\n",
      "          43    0.75000   0.48000   0.58537        25\n",
      "          44    1.00000   0.95455   0.97674        22\n",
      "          45    1.00000   0.95652   0.97778        23\n",
      "          46    1.00000   1.00000   1.00000        14\n",
      "          47    1.00000   1.00000   1.00000        17\n",
      "          48    1.00000   1.00000   1.00000        20\n",
      "          49    1.00000   0.95238   0.97561        21\n",
      "          50    0.96154   1.00000   0.98039        25\n",
      "          51    1.00000   1.00000   1.00000        22\n",
      "          52    0.90909   0.55556   0.68966        18\n",
      "          53    1.00000   1.00000   1.00000        25\n",
      "          54    1.00000   1.00000   1.00000        22\n",
      "          55    1.00000   1.00000   1.00000        13\n",
      "          56    1.00000   1.00000   1.00000        21\n",
      "          57    1.00000   1.00000   1.00000        28\n",
      "          58    0.93333   1.00000   0.96552        14\n",
      "          59    1.00000   1.00000   1.00000        26\n",
      "          60    0.94118   0.94118   0.94118        17\n",
      "          61    1.00000   0.93750   0.96774        16\n",
      "          62    1.00000   1.00000   1.00000        17\n",
      "          63    1.00000   1.00000   1.00000        25\n",
      "          64    1.00000   1.00000   1.00000        13\n",
      "          65    0.94444   1.00000   0.97143        17\n",
      "          66    0.95000   0.95000   0.95000        20\n",
      "          67    1.00000   1.00000   1.00000        12\n",
      "          68    1.00000   1.00000   1.00000        21\n",
      "          69    0.94737   1.00000   0.97297        18\n",
      "          70    1.00000   1.00000   1.00000        14\n",
      "          71    0.89474   0.89474   0.89474        19\n",
      "          72    1.00000   1.00000   1.00000        11\n",
      "          73    1.00000   1.00000   1.00000        20\n",
      "          74    1.00000   0.95652   0.97778        23\n",
      "          75    1.00000   1.00000   1.00000        27\n",
      "          76    1.00000   1.00000   1.00000        23\n",
      "          77    0.95455   1.00000   0.97674        21\n",
      "          78    1.00000   0.95000   0.97436        20\n",
      "          79    1.00000   1.00000   1.00000        24\n",
      "          80    1.00000   0.94737   0.97297        19\n",
      "          81    1.00000   0.92857   0.96296        14\n",
      "          82    1.00000   1.00000   1.00000        20\n",
      "          83    0.94737   0.90000   0.92308        20\n",
      "          84    1.00000   0.91304   0.95455        23\n",
      "          85    1.00000   1.00000   1.00000        23\n",
      "          86    1.00000   0.94737   0.97297        19\n",
      "          87    0.94444   0.85000   0.89474        20\n",
      "          88    0.90476   1.00000   0.95000        19\n",
      "          89    1.00000   1.00000   1.00000        20\n",
      "          90    1.00000   0.90909   0.95238        22\n",
      "          91    1.00000   1.00000   1.00000        19\n",
      "          92    1.00000   1.00000   1.00000        12\n",
      "          93    1.00000   1.00000   1.00000        19\n",
      "          94    0.91667   0.88000   0.89796        25\n",
      "          95    1.00000   1.00000   1.00000        17\n",
      "          96    1.00000   0.89286   0.94340        28\n",
      "          97    0.85714   0.94737   0.90000        19\n",
      "          98    1.00000   0.85714   0.92308        21\n",
      "          99    0.95652   0.91667   0.93617        24\n",
      "         100    0.93333   0.93333   0.93333        15\n",
      "         101    1.00000   0.94118   0.96970        17\n",
      "         102    0.91667   0.88000   0.89796        25\n",
      "         103    1.00000   1.00000   1.00000        21\n",
      "         104    0.76190   1.00000   0.86486        16\n",
      "         105    0.93333   0.93333   0.93333        15\n",
      "         106    1.00000   1.00000   1.00000        15\n",
      "         107    1.00000   0.88889   0.94118        18\n",
      "         108    0.81818   0.81818   0.81818        22\n",
      "         109    1.00000   0.60870   0.75676        23\n",
      "         110    1.00000   0.96429   0.98182        28\n",
      "         111    0.95833   0.95833   0.95833        24\n",
      "         112    0.71429   0.88235   0.78947        17\n",
      "         113    0.70000   0.73684   0.71795        19\n",
      "         114    1.00000   1.00000   1.00000        14\n",
      "         115    0.65385   0.89474   0.75556        19\n",
      "         116    1.00000   0.94118   0.96970        17\n",
      "         117    1.00000   1.00000   1.00000        11\n",
      "         118    0.60000   0.88235   0.71429        17\n",
      "         119    0.95652   0.88000   0.91667        25\n",
      "         120    1.00000   0.95455   0.97674        22\n",
      "         121    0.81250   0.92857   0.86667        28\n",
      "         122    0.87500   1.00000   0.93333        14\n",
      "         123    1.00000   1.00000   1.00000        18\n",
      "         124    1.00000   0.95833   0.97872        24\n",
      "         125    1.00000   1.00000   1.00000        16\n",
      "         126    1.00000   1.00000   1.00000        17\n",
      "         127    1.00000   0.95455   0.97674        22\n",
      "         128    1.00000   1.00000   1.00000        22\n",
      "\n",
      "    accuracy                        0.94264      2580\n",
      "   macro avg    0.95371   0.94487   0.94523      2580\n",
      "weighted avg    0.95400   0.94264   0.94422      2580\n",
      "\n"
     ]
    }
   ],
   "source": [
    "print(classification_report(np.argmax(y_test, axis=1), np.argmax(pred, axis=1), digits=5))"
   ]
  },
  {
   "cell_type": "code",
   "execution_count": null,
   "id": "f2f8eb28-65ac-420d-8955-bf7f3e5e7a07",
   "metadata": {},
   "outputs": [],
   "source": []
  }
 ],
 "metadata": {
  "kernelspec": {
   "display_name": "Python 3.10.8 64-bit",
   "language": "python",
   "name": "python3"
  },
  "language_info": {
   "codemirror_mode": {
    "name": "ipython",
    "version": 3
   },
   "file_extension": ".py",
   "mimetype": "text/x-python",
   "name": "python",
   "nbconvert_exporter": "python",
   "pygments_lexer": "ipython3",
   "version": "3.10.8"
  },
  "vscode": {
   "interpreter": {
    "hash": "0ea22478172a15f4d285a38099e43e6726f3ab0af87c7dd16fc299baaec68f07"
   }
  }
 },
 "nbformat": 4,
 "nbformat_minor": 5
}
